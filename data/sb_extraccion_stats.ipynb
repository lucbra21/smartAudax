{
 "cells": [
  {
   "cell_type": "code",
   "execution_count": 41,
   "metadata": {
    "colab": {
     "base_uri": "https://localhost:8080/"
    },
    "executionInfo": {
     "elapsed": 9129,
     "status": "ok",
     "timestamp": 1678391472826,
     "user": {
      "displayName": "Gonzalo Araya",
      "userId": "13966201719893279824"
     },
     "user_tz": 180
    },
    "id": "rrrlS6evBQAB",
    "outputId": "e445877d-669a-4f67-935c-d658df27a0b4"
   },
   "outputs": [
    {
     "name": "stdout",
     "output_type": "stream",
     "text": [
      "Requirement already satisfied: statsbombpy in c:\\users\\lucio\\appdata\\local\\packages\\pythonsoftwarefoundation.python.3.11_qbz5n2kfra8p0\\localcache\\local-packages\\python311\\site-packages (1.16.0)\n",
      "Requirement already satisfied: pandas in c:\\users\\lucio\\appdata\\local\\packages\\pythonsoftwarefoundation.python.3.11_qbz5n2kfra8p0\\localcache\\local-packages\\python311\\site-packages (from statsbombpy) (2.2.3)\n",
      "Requirement already satisfied: requests in c:\\users\\lucio\\appdata\\local\\packages\\pythonsoftwarefoundation.python.3.11_qbz5n2kfra8p0\\localcache\\local-packages\\python311\\site-packages (from statsbombpy) (2.32.3)\n",
      "Requirement already satisfied: requests-cache in c:\\users\\lucio\\appdata\\local\\packages\\pythonsoftwarefoundation.python.3.11_qbz5n2kfra8p0\\localcache\\local-packages\\python311\\site-packages (from statsbombpy) (1.2.1)\n",
      "Requirement already satisfied: inflect in c:\\users\\lucio\\appdata\\local\\packages\\pythonsoftwarefoundation.python.3.11_qbz5n2kfra8p0\\localcache\\local-packages\\python311\\site-packages (from statsbombpy) (7.5.0)\n",
      "Requirement already satisfied: joblib in c:\\users\\lucio\\appdata\\local\\packages\\pythonsoftwarefoundation.python.3.11_qbz5n2kfra8p0\\localcache\\local-packages\\python311\\site-packages (from statsbombpy) (1.4.2)\n",
      "Requirement already satisfied: more_itertools>=8.5.0 in c:\\users\\lucio\\appdata\\local\\packages\\pythonsoftwarefoundation.python.3.11_qbz5n2kfra8p0\\localcache\\local-packages\\python311\\site-packages (from inflect->statsbombpy) (10.6.0)\n",
      "Requirement already satisfied: typeguard>=4.0.1 in c:\\users\\lucio\\appdata\\local\\packages\\pythonsoftwarefoundation.python.3.11_qbz5n2kfra8p0\\localcache\\local-packages\\python311\\site-packages (from inflect->statsbombpy) (4.4.2)\n",
      "Requirement already satisfied: numpy>=1.23.2 in c:\\users\\lucio\\appdata\\local\\packages\\pythonsoftwarefoundation.python.3.11_qbz5n2kfra8p0\\localcache\\local-packages\\python311\\site-packages (from pandas->statsbombpy) (2.2.0)\n",
      "Requirement already satisfied: python-dateutil>=2.8.2 in c:\\users\\lucio\\appdata\\local\\packages\\pythonsoftwarefoundation.python.3.11_qbz5n2kfra8p0\\localcache\\local-packages\\python311\\site-packages (from pandas->statsbombpy) (2.9.0.post0)\n",
      "Requirement already satisfied: pytz>=2020.1 in c:\\users\\lucio\\appdata\\local\\packages\\pythonsoftwarefoundation.python.3.11_qbz5n2kfra8p0\\localcache\\local-packages\\python311\\site-packages (from pandas->statsbombpy) (2024.2)\n",
      "Requirement already satisfied: tzdata>=2022.7 in c:\\users\\lucio\\appdata\\local\\packages\\pythonsoftwarefoundation.python.3.11_qbz5n2kfra8p0\\localcache\\local-packages\\python311\\site-packages (from pandas->statsbombpy) (2024.2)\n",
      "Requirement already satisfied: charset-normalizer<4,>=2 in c:\\users\\lucio\\appdata\\local\\packages\\pythonsoftwarefoundation.python.3.11_qbz5n2kfra8p0\\localcache\\local-packages\\python311\\site-packages (from requests->statsbombpy) (3.4.0)\n",
      "Requirement already satisfied: idna<4,>=2.5 in c:\\users\\lucio\\appdata\\local\\packages\\pythonsoftwarefoundation.python.3.11_qbz5n2kfra8p0\\localcache\\local-packages\\python311\\site-packages (from requests->statsbombpy) (3.10)\n",
      "Requirement already satisfied: urllib3<3,>=1.21.1 in c:\\users\\lucio\\appdata\\local\\packages\\pythonsoftwarefoundation.python.3.11_qbz5n2kfra8p0\\localcache\\local-packages\\python311\\site-packages (from requests->statsbombpy) (2.2.3)\n",
      "Requirement already satisfied: certifi>=2017.4.17 in c:\\users\\lucio\\appdata\\local\\packages\\pythonsoftwarefoundation.python.3.11_qbz5n2kfra8p0\\localcache\\local-packages\\python311\\site-packages (from requests->statsbombpy) (2024.8.30)\n",
      "Requirement already satisfied: attrs>=21.2 in c:\\users\\lucio\\appdata\\local\\packages\\pythonsoftwarefoundation.python.3.11_qbz5n2kfra8p0\\localcache\\local-packages\\python311\\site-packages (from requests-cache->statsbombpy) (24.2.0)\n",
      "Requirement already satisfied: cattrs>=22.2 in c:\\users\\lucio\\appdata\\local\\packages\\pythonsoftwarefoundation.python.3.11_qbz5n2kfra8p0\\localcache\\local-packages\\python311\\site-packages (from requests-cache->statsbombpy) (24.1.3)\n",
      "Requirement already satisfied: platformdirs>=2.5 in c:\\users\\lucio\\appdata\\local\\packages\\pythonsoftwarefoundation.python.3.11_qbz5n2kfra8p0\\localcache\\local-packages\\python311\\site-packages (from requests-cache->statsbombpy) (4.3.6)\n",
      "Requirement already satisfied: url-normalize>=1.4 in c:\\users\\lucio\\appdata\\local\\packages\\pythonsoftwarefoundation.python.3.11_qbz5n2kfra8p0\\localcache\\local-packages\\python311\\site-packages (from requests-cache->statsbombpy) (2.2.0)\n",
      "Requirement already satisfied: six>=1.5 in c:\\users\\lucio\\appdata\\local\\packages\\pythonsoftwarefoundation.python.3.11_qbz5n2kfra8p0\\localcache\\local-packages\\python311\\site-packages (from python-dateutil>=2.8.2->pandas->statsbombpy) (1.17.0)\n",
      "Requirement already satisfied: typing_extensions>=4.10.0 in c:\\users\\lucio\\appdata\\local\\packages\\pythonsoftwarefoundation.python.3.11_qbz5n2kfra8p0\\localcache\\local-packages\\python311\\site-packages (from typeguard>=4.0.1->inflect->statsbombpy) (4.12.2)\n"
     ]
    }
   ],
   "source": [
    "!pip install statsbombpy"
   ]
  },
  {
   "cell_type": "code",
   "execution_count": 42,
   "metadata": {
    "executionInfo": {
     "elapsed": 1004,
     "status": "ok",
     "timestamp": 1678391497368,
     "user": {
      "displayName": "Gonzalo Araya",
      "userId": "13966201719893279824"
     },
     "user_tz": 180
    },
    "id": "aZgg-RjyA5-T"
   },
   "outputs": [],
   "source": [
    "# IMPORTACION LIBRERIAS ESPECIFICA STATSBOMB\n",
    "\n",
    "import pandas as pd\n",
    "import numpy as np\n",
    "from statsbombpy import sb"
   ]
  },
  {
   "cell_type": "code",
   "execution_count": 43,
   "metadata": {
    "executionInfo": {
     "elapsed": 3,
     "status": "ok",
     "timestamp": 1678391497369,
     "user": {
      "displayName": "Gonzalo Araya",
      "userId": "13966201719893279824"
     },
     "user_tz": 180
    },
    "id": "gYflJbYVBSqX"
   },
   "outputs": [],
   "source": [
    "# CREDENCIALES DE API\n",
    "\n",
    "SB_USERNAME =\"plataforma@audaxitaliano.cl\"\n",
    "SB_PASSWORD =\"1kC6oQjp\"\n",
    "\n",
    "creds={\"user\":SB_USERNAME, \"passwd\": SB_PASSWORD}"
   ]
  },
  {
   "cell_type": "code",
   "execution_count": 44,
   "metadata": {
    "executionInfo": {
     "elapsed": 1297,
     "status": "ok",
     "timestamp": 1678391499232,
     "user": {
      "displayName": "Gonzalo Araya",
      "userId": "13966201719893279824"
     },
     "user_tz": 180
    },
    "id": "y_T-ct-eBerd"
   },
   "outputs": [],
   "source": [
    "# CREACION DF MATCHES\n",
    "\n",
    "matches = sb.matches(competition_id=103, season_id=107, creds=creds)"
   ]
  },
  {
   "cell_type": "code",
   "execution_count": 45,
   "metadata": {
    "executionInfo": {
     "elapsed": 372,
     "status": "ok",
     "timestamp": 1678391532947,
     "user": {
      "displayName": "Gonzalo Araya",
      "userId": "13966201719893279824"
     },
     "user_tz": 180
    },
    "id": "NpzteTQ6Dkny"
   },
   "outputs": [],
   "source": [
    "# LISTA CON IDS DE TODOS LOS PARTIDOS DISPONIBLES\n",
    "\n",
    "ids = matches[matches['match_status'] == 'available']['match_id']"
   ]
  },
  {
   "cell_type": "code",
   "execution_count": 46,
   "metadata": {
    "executionInfo": {
     "elapsed": 1752,
     "status": "ok",
     "timestamp": 1678391535090,
     "user": {
      "displayName": "Gonzalo Araya",
      "userId": "13966201719893279824"
     },
     "user_tz": 180
    },
    "id": "tonddGpdd7D8"
   },
   "outputs": [],
   "source": [
    "# GENERAR DF PLAYER MATCH STATS CON ID UNICO\n",
    "\n",
    "player_match_stats = sb.player_match_stats(match_id = 3871964, creds=creds)"
   ]
  },
  {
   "cell_type": "code",
   "execution_count": 47,
   "metadata": {},
   "outputs": [
    {
     "name": "stdout",
     "output_type": "stream",
     "text": [
      "    account_id  match_id  team_id team_name  player_id  \\\n",
      "0         7336   3871964     1926  Cobresal     110999   \n",
      "1         7336   3871964     8021   Copiapó     367076   \n",
      "2         7336   3871964     8021   Copiapó      35826   \n",
      "3         7336   3871964     1926  Cobresal      28431   \n",
      "4         7336   3871964     1926  Cobresal      25099   \n",
      "5         7336   3871964     8021   Copiapó     364088   \n",
      "6         7336   3871964     1926  Cobresal      35834   \n",
      "7         7336   3871964     8021   Copiapó     364093   \n",
      "8         7336   3871964     8021   Copiapó     367075   \n",
      "9         7336   3871964     1926  Cobresal      35982   \n",
      "10        7336   3871964     8021   Copiapó      35994   \n",
      "11        7336   3871964     8021   Copiapó      34564   \n",
      "12        7336   3871964     1926  Cobresal      35853   \n",
      "13        7336   3871964     1926  Cobresal      35745   \n",
      "14        7336   3871964     1926  Cobresal      35749   \n",
      "15        7336   3871964     1926  Cobresal      35750   \n",
      "16        7336   3871964     8021   Copiapó      35985   \n",
      "17        7336   3871964     1926  Cobresal      35832   \n",
      "18        7336   3871964     1926  Cobresal      35868   \n",
      "19        7336   3871964     8021   Copiapó      35869   \n",
      "20        7336   3871964     8021   Copiapó      36732   \n",
      "21        7336   3871964     8021   Copiapó      37536   \n",
      "22        7336   3871964     1926  Cobresal      38254   \n",
      "23        7336   3871964     8021   Copiapó      70945   \n",
      "24        7336   3871964     1926  Cobresal      82744   \n",
      "25        7336   3871964     8021   Copiapó     102433   \n",
      "26        7336   3871964     8021   Copiapó     195229   \n",
      "27        7336   3871964     1926  Cobresal     363773   \n",
      "28        7336   3871964     1926  Cobresal     363774   \n",
      "29        7336   3871964     1926  Cobresal     363775   \n",
      "30        7336   3871964     8021   Copiapó     364094   \n",
      "\n",
      "                            player_name  player_match_minutes  \\\n",
      "0       Nelson Alejandro Sepúlveda Moya             68.616670   \n",
      "1                            Jorge Luna            103.150000   \n",
      "2                        Felipe Reynero             70.550000   \n",
      "3                 Gastón Adrián Lezcano             77.950000   \n",
      "4                     Leonardo Valencia             25.716667   \n",
      "5                    Juan Ignacio Sills            103.150000   \n",
      "6                      Marcelo Jorquera             90.516670   \n",
      "7                          Luca Pontigo             14.250000   \n",
      "8                            Juan Jaime            103.150000   \n",
      "9                        Pablo Cárdenas             12.633333   \n",
      "10                    Jens Buss Barrios             70.550000   \n",
      "11                           Bruno Romo             33.266666   \n",
      "12                         César Munder            103.150000   \n",
      "13  Alejandro Maximiliano Camargo Osses            103.150000   \n",
      "14                    Guillermo Pacheco            103.150000   \n",
      "15                     Cecilio Waterman             90.516670   \n",
      "16        Maximiliano Armando Quinteros             88.900000   \n",
      "17                      Leandro Requena            103.150000   \n",
      "18                    Francisco Alarcón            103.150000   \n",
      "19                          Marco Medel            103.150000   \n",
      "20                       Richard Leyton            103.150000   \n",
      "21                  Diego García Medina            103.150000   \n",
      "22                       Diego Céspedes            103.150000   \n",
      "23              David Octavio Tati Díaz            103.150000   \n",
      "24                         Luis Vásquez             68.633330   \n",
      "25            Iván Marcelo Rozas Agüero             33.133335   \n",
      "26                         Manuel López             14.466666   \n",
      "27                         Julio Castro             12.633333   \n",
      "28                         Walter Rueda             34.833332   \n",
      "29                        Franco Garcia             34.516666   \n",
      "30                           Isaac Díaz             88.683334   \n",
      "\n",
      "    player_match_np_xg_per_shot  player_match_np_xg  player_match_np_shots  \\\n",
      "0                      0.015050            0.030100                      2   \n",
      "1                      0.021367            0.128200                      6   \n",
      "2                           NaN            0.000000                      0   \n",
      "3                      0.041569            0.083139                      2   \n",
      "4                           NaN            0.000000                      0   \n",
      "5                           NaN            0.000000                      0   \n",
      "6                           NaN            0.000000                      0   \n",
      "7                           NaN            0.000000                      0   \n",
      "8                      0.005923            0.005923                      1   \n",
      "9                           NaN            0.000000                      0   \n",
      "10                     0.040178            0.040178                      1   \n",
      "11                     0.094459            0.094459                      1   \n",
      "12                     0.165160            0.495479                      3   \n",
      "13                     0.018667            0.018667                      1   \n",
      "14                     0.046048            0.046048                      1   \n",
      "15                     0.098166            0.294497                      3   \n",
      "16                          NaN            0.000000                      0   \n",
      "17                          NaN            0.000000                      0   \n",
      "18                          NaN            0.000000                      0   \n",
      "19                     0.022785            0.022785                      1   \n",
      "20                          NaN            0.000000                      0   \n",
      "21                     0.041031            0.041031                      1   \n",
      "22                          NaN            0.000000                      0   \n",
      "23                     0.057694            0.057694                      1   \n",
      "24                     0.099078            0.198155                      2   \n",
      "25                     0.060604            0.060604                      1   \n",
      "26                          NaN            0.000000                      0   \n",
      "27                          NaN            0.000000                      0   \n",
      "28                     0.015977            0.015977                      1   \n",
      "29                     0.307436            0.614873                      2   \n",
      "30                     0.035379            0.035379                      1   \n",
      "\n",
      "    ...  player_match_claim_success  player_match_da_aggressive_distance  \\\n",
      "0   ...                         NaN                            56.974377   \n",
      "1   ...                         NaN                            73.458740   \n",
      "2   ...                         NaN                            70.552208   \n",
      "3   ...                         NaN                            69.712402   \n",
      "4   ...                         NaN                            59.181168   \n",
      "5   ...                         NaN                            57.249573   \n",
      "6   ...                         NaN                            43.940464   \n",
      "7   ...                         NaN                            87.248993   \n",
      "8   ...                         NaN                            49.579308   \n",
      "9   ...                         NaN                            27.091175   \n",
      "10  ...                         NaN                            87.859421   \n",
      "11  ...                         NaN                            59.969826   \n",
      "12  ...                         NaN                            81.472115   \n",
      "13  ...                         NaN                            53.999466   \n",
      "14  ...                         NaN                            39.248207   \n",
      "15  ...                         NaN                            73.648865   \n",
      "16  ...                         NaN                            85.550491   \n",
      "17  ...                         1.0                            18.110838   \n",
      "18  ...                         NaN                            30.540321   \n",
      "19  ...                         NaN                            83.801392   \n",
      "20  ...                         NaN                            26.791767   \n",
      "21  ...                         NaN                            43.326950   \n",
      "22  ...                         NaN                            32.652142   \n",
      "23  ...                         NaN                            79.451904   \n",
      "24  ...                         NaN                            61.220375   \n",
      "25  ...                         NaN                            94.073158   \n",
      "26  ...                         NaN                           102.237549   \n",
      "27  ...                         NaN                            76.355881   \n",
      "28  ...                         NaN                            37.255466   \n",
      "29  ...                         NaN                            59.591278   \n",
      "30  ...                         NaN                            90.108963   \n",
      "\n",
      "    player_match_goals_conceded  player_match_gsaa  \\\n",
      "0                             0           0.000000   \n",
      "1                             0           0.000000   \n",
      "2                             0           0.000000   \n",
      "3                             0           0.000000   \n",
      "4                             0           0.000000   \n",
      "5                             0           0.000000   \n",
      "6                             0           0.000000   \n",
      "7                             0           0.000000   \n",
      "8                             0           0.000000   \n",
      "9                             0           0.000000   \n",
      "10                            0           0.000000   \n",
      "11                            0           0.000000   \n",
      "12                            0           0.000000   \n",
      "13                            0           0.000000   \n",
      "14                            0           0.000000   \n",
      "15                            0           0.000000   \n",
      "16                            0           0.000000   \n",
      "17                            0           0.009184   \n",
      "18                            0           0.000000   \n",
      "19                            0           0.000000   \n",
      "20                            1           0.213093   \n",
      "21                            0           0.000000   \n",
      "22                            0           0.000000   \n",
      "23                            0           0.000000   \n",
      "24                            0           0.000000   \n",
      "25                            0           0.000000   \n",
      "26                            0           0.000000   \n",
      "27                            0           0.000000   \n",
      "28                            0           0.000000   \n",
      "29                            0           0.000000   \n",
      "30                            0           0.000000   \n",
      "\n",
      "    player_match_gk_positioning_error  player_match_positive_outcome_score  \\\n",
      "0                                 NaN                             0.487013   \n",
      "1                                 NaN                             0.488372   \n",
      "2                                 NaN                             0.294118   \n",
      "3                                 NaN                             0.649425   \n",
      "4                                 NaN                             0.909091   \n",
      "5                                 NaN                             0.104651   \n",
      "6                                 NaN                             0.514286   \n",
      "7                                 NaN                             0.111111   \n",
      "8                                 NaN                             0.197674   \n",
      "9                                 NaN                                  NaN   \n",
      "10                                NaN                             0.294118   \n",
      "11                                NaN                                  NaN   \n",
      "12                                NaN                             0.621622   \n",
      "13                                NaN                             0.605405   \n",
      "14                                NaN                             0.194595   \n",
      "15                                NaN                             0.342857   \n",
      "16                                NaN                             0.294118   \n",
      "17                           1.324627                             0.113514   \n",
      "18                                NaN                             0.113514   \n",
      "19                                NaN                             0.558140   \n",
      "20                           3.010660                             0.116279   \n",
      "21                                NaN                             0.372093   \n",
      "22                                NaN                             0.167568   \n",
      "23                                NaN                             0.279070   \n",
      "24                                NaN                             0.422078   \n",
      "25                                NaN                             0.400000   \n",
      "26                                NaN                                  NaN   \n",
      "27                                NaN                                  NaN   \n",
      "28                                NaN                             0.354839   \n",
      "29                                NaN                             0.354839   \n",
      "30                                NaN                             0.220588   \n",
      "\n",
      "    player_match_npot_psxg_faced  player_match_save_ratio  \\\n",
      "0                       0.000000                      0.0   \n",
      "1                       0.000000                      0.0   \n",
      "2                       0.000000                      0.0   \n",
      "3                       0.000000                      0.0   \n",
      "4                       0.000000                      0.0   \n",
      "5                       0.000000                      0.0   \n",
      "6                       0.000000                      0.0   \n",
      "7                       0.000000                      0.0   \n",
      "8                       0.000000                      0.0   \n",
      "9                       0.000000                      0.0   \n",
      "10                      0.000000                      0.0   \n",
      "11                      0.000000                      0.0   \n",
      "12                      0.000000                      0.0   \n",
      "13                      0.000000                      0.0   \n",
      "14                      0.000000                      0.0   \n",
      "15                      0.000000                      0.0   \n",
      "16                      0.000000                      0.0   \n",
      "17                      0.009184                      1.0   \n",
      "18                      0.000000                      0.0   \n",
      "19                      0.000000                      0.0   \n",
      "20                      1.213093                      0.8   \n",
      "21                      0.000000                      0.0   \n",
      "22                      0.000000                      0.0   \n",
      "23                      0.000000                      0.0   \n",
      "24                      0.000000                      0.0   \n",
      "25                      0.000000                      0.0   \n",
      "26                      0.000000                      0.0   \n",
      "27                      0.000000                      0.0   \n",
      "28                      0.000000                      0.0   \n",
      "29                      0.000000                      0.0   \n",
      "30                      0.000000                      0.0   \n",
      "\n",
      "    player_match_gsaa_ratio  player_match_npot_shots_faced  \n",
      "0                       NaN                              0  \n",
      "1                       NaN                              0  \n",
      "2                       NaN                              0  \n",
      "3                       NaN                              0  \n",
      "4                       NaN                              0  \n",
      "5                       NaN                              0  \n",
      "6                       NaN                              0  \n",
      "7                       NaN                              0  \n",
      "8                       NaN                              0  \n",
      "9                       NaN                              0  \n",
      "10                      NaN                              0  \n",
      "11                      NaN                              0  \n",
      "12                      NaN                              0  \n",
      "13                      NaN                              0  \n",
      "14                      NaN                              0  \n",
      "15                      NaN                              0  \n",
      "16                      NaN                              0  \n",
      "17                 0.009184                              1  \n",
      "18                      NaN                              0  \n",
      "19                      NaN                              0  \n",
      "20                 0.042619                              5  \n",
      "21                      NaN                              0  \n",
      "22                      NaN                              0  \n",
      "23                      NaN                              0  \n",
      "24                      NaN                              0  \n",
      "25                      NaN                              0  \n",
      "26                      NaN                              0  \n",
      "27                      NaN                              0  \n",
      "28                      NaN                              0  \n",
      "29                      NaN                              0  \n",
      "30                      NaN                              0  \n",
      "\n",
      "[31 rows x 167 columns]\n"
     ]
    }
   ],
   "source": [
    "print(player_match_stats)"
   ]
  },
  {
   "cell_type": "code",
   "execution_count": 48,
   "metadata": {
    "colab": {
     "base_uri": "https://localhost:8080/"
    },
    "executionInfo": {
     "elapsed": 99958,
     "status": "ok",
     "timestamp": 1678391635046,
     "user": {
      "displayName": "Gonzalo Araya",
      "userId": "13966201719893279824"
     },
     "user_tz": 180
    },
    "id": "TQUqQUiPbbYA",
    "outputId": "33889028-2bf2-48eb-f003-036af2fc14ab"
   },
   "outputs": [
    {
     "name": "stdout",
     "output_type": "stream",
     "text": [
      "Partido 3872041 completado\n",
      "Partido 3872126 completado\n",
      "Partido 3872142 completado\n",
      "Partido 3872144 completado\n",
      "Partido 3872176 completado\n",
      "Partido 3872134 completado\n",
      "Partido 3872163 completado\n",
      "Partido 3871961 completado\n",
      "Partido 3872175 completado\n",
      "Partido 3872164 completado\n",
      "Partido 3872162 completado\n",
      "Partido 3872152 completado\n"
     ]
    },
    {
     "name": "stderr",
     "output_type": "stream",
     "text": [
      "C:\\Users\\lucio\\AppData\\Local\\Temp\\ipykernel_22944\\2879102236.py:5: FutureWarning: The behavior of DataFrame concatenation with empty or all-NA entries is deprecated. In a future version, this will no longer exclude empty or all-NA columns when determining the result dtypes. To retain the old behavior, exclude the relevant entries before the concat operation.\n",
      "  player_match_stats = pd.concat([player_match_stats, new_df], ignore_index=True)\n"
     ]
    },
    {
     "name": "stdout",
     "output_type": "stream",
     "text": [
      "Partido 3872165 completado\n",
      "Partido 3872160 completado\n",
      "Partido 3872161 completado\n",
      "Partido 3872159 completado\n",
      "Partido 3872156 completado\n",
      "Partido 3872133 completado\n",
      "Partido 3872113 completado\n",
      "Partido 3872103 completado\n",
      "Partido 3872084 completado\n",
      "Partido 3872006 completado\n",
      "Partido 3872097 completado\n",
      "Partido 3872037 completado\n",
      "Partido 3872117 completado\n",
      "Partido 3872015 completado\n",
      "Partido 3872143 completado\n",
      "Partido 3872146 completado\n",
      "Partido 3872128 completado\n",
      "Partido 3872129 completado\n",
      "Partido 3872125 completado\n",
      "Partido 3872114 completado\n",
      "Partido 3872123 completado\n",
      "Partido 3872124 completado\n",
      "Partido 3872110 completado\n",
      "Partido 3872111 completado\n",
      "Partido 3872116 completado\n",
      "Partido 3872105 completado\n",
      "Partido 3872091 completado\n",
      "Partido 3871989 completado\n",
      "Partido 3872073 completado\n",
      "Partido 3872070 completado\n",
      "Partido 3872087 completado\n",
      "Partido 3872092 completado\n",
      "Partido 3872093 completado\n",
      "Partido 3872083 completado\n",
      "Partido 3872081 completado\n",
      "Partido 3872086 completado\n",
      "Partido 3872079 completado\n",
      "Partido 3872063 completado\n",
      "Partido 3872068 completado\n",
      "Partido 3872057 completado\n",
      "Partido 3872059 completado\n",
      "Partido 3872040 completado\n",
      "Partido 3872048 completado\n",
      "Partido 3872047 completado\n",
      "Partido 3872049 completado\n",
      "Partido 3872033 completado\n",
      "Partido 3872055 completado\n",
      "Partido 3872056 completado\n",
      "Partido 3872058 completado\n",
      "Partido 3872034 completado\n",
      "Partido 3872025 completado\n",
      "Partido 3872030 completado\n",
      "Partido 3872024 completado\n",
      "Partido 3872050 completado\n",
      "Partido 3872046 completado\n",
      "Partido 3872043 completado\n",
      "Partido 3872026 completado\n",
      "Partido 3872054 completado\n",
      "Partido 3872044 completado\n",
      "Partido 3872019 completado\n",
      "Partido 3871970 completado\n",
      "Partido 3871998 completado\n",
      "Partido 3872039 completado\n",
      "Partido 3872036 completado\n",
      "Partido 3872031 completado\n",
      "Partido 3872027 completado\n",
      "Partido 3872021 completado\n",
      "Partido 3872045 completado\n",
      "Partido 3872010 completado\n",
      "Partido 3872009 completado\n",
      "Partido 3871984 completado\n",
      "Partido 3871997 completado\n",
      "Partido 3871983 completado\n",
      "Partido 3871972 completado\n",
      "Partido 3872005 completado\n",
      "Partido 3871987 completado\n",
      "Partido 3871975 completado\n",
      "Partido 3871981 completado\n",
      "Partido 3871982 completado\n",
      "Partido 3871978 completado\n",
      "Partido 3871964 completado\n",
      "Partido 3871980 completado\n",
      "Partido 3871996 completado\n",
      "Partido 3871991 completado\n",
      "Partido 3871994 completado\n",
      "Partido 3871995 completado\n",
      "Partido 3872182 completado\n",
      "Partido 3872181 completado\n",
      "Partido 3872180 completado\n",
      "Partido 3872179 completado\n",
      "Partido 3872178 completado\n",
      "Partido 3872177 completado\n",
      "Partido 3872174 completado\n",
      "Partido 3872173 completado\n",
      "Partido 3872172 completado\n",
      "Partido 3872171 completado\n",
      "Partido 3872170 completado\n",
      "Partido 3872169 completado\n",
      "Partido 3872168 completado\n",
      "Partido 3872167 completado\n",
      "Partido 3872166 completado\n",
      "Partido 3872158 completado\n",
      "Partido 3872157 completado\n",
      "Partido 3872155 completado\n",
      "Partido 3872154 completado\n",
      "Partido 3872153 completado\n",
      "Partido 3872151 completado\n",
      "Partido 3872150 completado\n",
      "Partido 3872149 completado\n",
      "Partido 3872148 completado\n",
      "Partido 3872147 completado\n",
      "Partido 3872145 completado\n",
      "Partido 3872141 completado\n",
      "Partido 3872140 completado\n",
      "Partido 3872139 completado\n",
      "Partido 3872138 completado\n",
      "Partido 3872137 completado\n",
      "Partido 3872136 completado\n",
      "Partido 3872135 completado\n",
      "Partido 3872132 completado\n",
      "Partido 3872131 completado\n",
      "Partido 3872130 completado\n",
      "Partido 3872127 completado\n",
      "Partido 3872122 completado\n",
      "Partido 3872121 completado\n",
      "Partido 3872120 completado\n",
      "Partido 3872119 completado\n",
      "Partido 3872118 completado\n",
      "Partido 3872115 completado\n",
      "Partido 3872112 completado\n",
      "Partido 3872109 completado\n",
      "Partido 3872108 completado\n",
      "Partido 3872107 completado\n",
      "Partido 3872106 completado\n",
      "Partido 3872104 completado\n",
      "Partido 3872102 completado\n",
      "Partido 3872101 completado\n",
      "Partido 3872100 completado\n",
      "Partido 3872099 completado\n",
      "Partido 3872098 completado\n",
      "Partido 3872096 completado\n",
      "Partido 3872095 completado\n",
      "Partido 3872094 completado\n",
      "Partido 3872090 completado\n",
      "Partido 3872089 completado\n",
      "Partido 3872088 completado\n",
      "Partido 3872085 completado\n",
      "Partido 3872082 completado\n",
      "Partido 3872080 completado\n",
      "Partido 3872078 completado\n",
      "Partido 3872077 completado\n",
      "Partido 3872076 completado\n",
      "Partido 3872075 completado\n",
      "Partido 3872074 completado\n",
      "Partido 3872072 completado\n",
      "Partido 3872071 completado\n",
      "Partido 3872069 completado\n",
      "Partido 3872067 completado\n",
      "Partido 3872066 completado\n",
      "Partido 3872065 completado\n",
      "Partido 3872064 completado\n",
      "Partido 3872062 completado\n",
      "Partido 3872061 completado\n",
      "Partido 3872060 completado\n",
      "Partido 3872053 completado\n",
      "Partido 3872052 completado\n",
      "Partido 3872051 completado\n",
      "Partido 3872042 completado\n",
      "Partido 3872038 completado\n",
      "Partido 3872035 completado\n",
      "Partido 3872032 completado\n",
      "Partido 3872029 completado\n",
      "Partido 3872028 completado\n",
      "Partido 3872023 completado\n",
      "Partido 3872022 completado\n",
      "Partido 3872020 completado\n",
      "Partido 3872018 completado\n",
      "Partido 3872017 completado\n",
      "Partido 3872016 completado\n",
      "Partido 3872014 completado\n",
      "Partido 3872013 completado\n",
      "Partido 3872012 completado\n",
      "Partido 3872011 completado\n",
      "Partido 3872008 completado\n",
      "Partido 3872007 completado\n",
      "Partido 3872004 completado\n",
      "Partido 3872003 completado\n",
      "Partido 3872002 completado\n",
      "Partido 3872001 completado\n",
      "Partido 3872000 completado\n",
      "Partido 3871999 completado\n",
      "Partido 3871993 completado\n",
      "Partido 3871992 completado\n",
      "Partido 3871990 completado\n",
      "Partido 3871988 completado\n",
      "Partido 3871986 completado\n",
      "Partido 3871985 completado\n",
      "Partido 3871979 completado\n",
      "Partido 3871977 completado\n",
      "Partido 3871976 completado\n",
      "Partido 3871974 completado\n",
      "Partido 3871973 completado\n",
      "Partido 3871971 completado\n",
      "Partido 3871969 completado\n",
      "Partido 3871968 completado\n",
      "Partido 3871967 completado\n",
      "Partido 3871966 completado\n",
      "Partido 3871965 completado\n",
      "Partido 3871963 completado\n",
      "Partido 3871962 completado\n",
      "Partido 3871960 completado\n",
      "Partido 3871959 completado\n",
      "Partido 3871958 completado\n",
      "Partido 3871957 completado\n",
      "Partido 3871956 completado\n",
      "Partido 3871955 completado\n",
      "Partido 3871954 completado\n",
      "Partido 3871953 completado\n",
      "Partido 3871952 completado\n",
      "Partido 3871951 completado\n",
      "Partido 3871950 completado\n",
      "Partido 3871949 completado\n",
      "Partido 3871948 completado\n",
      "Partido 3871947 completado\n",
      "Partido 3871946 completado\n",
      "Partido 3871945 completado\n",
      "Partido 3871944 completado\n",
      "Partido 3871943 completado\n"
     ]
    }
   ],
   "source": [
    "# BUCLE PARA AGREGAR TODOS LOS PARTIDOS JUGADOS\n",
    "\n",
    "for id in ids:\n",
    "  new_df = sb.player_match_stats(match_id = id, creds=creds)\n",
    "  player_match_stats = pd.concat([player_match_stats, new_df], ignore_index=True)\n",
    "  print(f'Partido {id} completado')"
   ]
  },
  {
   "cell_type": "code",
   "execution_count": 49,
   "metadata": {
    "colab": {
     "base_uri": "https://localhost:8080/",
     "height": 942
    },
    "executionInfo": {
     "elapsed": 645,
     "status": "ok",
     "timestamp": 1678392121960,
     "user": {
      "displayName": "Gonzalo Araya",
      "userId": "13966201719893279824"
     },
     "user_tz": 180
    },
    "id": "47e2GD5obi8t",
    "outputId": "a40342a9-0686-4ca0-b13b-121dbabced9a"
   },
   "outputs": [
    {
     "data": {
      "text/html": [
       "<div>\n",
       "<style scoped>\n",
       "    .dataframe tbody tr th:only-of-type {\n",
       "        vertical-align: middle;\n",
       "    }\n",
       "\n",
       "    .dataframe tbody tr th {\n",
       "        vertical-align: top;\n",
       "    }\n",
       "\n",
       "    .dataframe thead th {\n",
       "        text-align: right;\n",
       "    }\n",
       "</style>\n",
       "<table border=\"1\" class=\"dataframe\">\n",
       "  <thead>\n",
       "    <tr style=\"text-align: right;\">\n",
       "      <th></th>\n",
       "      <th>account_id</th>\n",
       "      <th>match_id</th>\n",
       "      <th>team_id</th>\n",
       "      <th>team_name</th>\n",
       "      <th>player_id</th>\n",
       "      <th>player_name</th>\n",
       "      <th>player_match_minutes</th>\n",
       "      <th>player_match_np_xg_per_shot</th>\n",
       "      <th>player_match_np_xg</th>\n",
       "      <th>player_match_np_shots</th>\n",
       "      <th>...</th>\n",
       "      <th>player_match_claim_success</th>\n",
       "      <th>player_match_da_aggressive_distance</th>\n",
       "      <th>player_match_goals_conceded</th>\n",
       "      <th>player_match_gsaa</th>\n",
       "      <th>player_match_gk_positioning_error</th>\n",
       "      <th>player_match_positive_outcome_score</th>\n",
       "      <th>player_match_npot_psxg_faced</th>\n",
       "      <th>player_match_save_ratio</th>\n",
       "      <th>player_match_gsaa_ratio</th>\n",
       "      <th>player_match_npot_shots_faced</th>\n",
       "    </tr>\n",
       "  </thead>\n",
       "  <tbody>\n",
       "    <tr>\n",
       "      <th>4332</th>\n",
       "      <td>7336</td>\n",
       "      <td>3872108</td>\n",
       "      <td>1924</td>\n",
       "      <td>Universidad Católica</td>\n",
       "      <td>23888</td>\n",
       "      <td>Gary Kagelmacher</td>\n",
       "      <td>75.550000</td>\n",
       "      <td>0.055605</td>\n",
       "      <td>0.055605</td>\n",
       "      <td>1</td>\n",
       "      <td>...</td>\n",
       "      <td>NaN</td>\n",
       "      <td>39.350540</td>\n",
       "      <td>0</td>\n",
       "      <td>0.000000</td>\n",
       "      <td>NaN</td>\n",
       "      <td>0.172414</td>\n",
       "      <td>0.000000</td>\n",
       "      <td>0.000000</td>\n",
       "      <td>NaN</td>\n",
       "      <td>0</td>\n",
       "    </tr>\n",
       "    <tr>\n",
       "      <th>5713</th>\n",
       "      <td>7336</td>\n",
       "      <td>3872018</td>\n",
       "      <td>1925</td>\n",
       "      <td>Palestino</td>\n",
       "      <td>35928</td>\n",
       "      <td>Jonathan Oscar Benítez</td>\n",
       "      <td>73.350000</td>\n",
       "      <td>NaN</td>\n",
       "      <td>0.000000</td>\n",
       "      <td>0</td>\n",
       "      <td>...</td>\n",
       "      <td>NaN</td>\n",
       "      <td>78.424782</td>\n",
       "      <td>0</td>\n",
       "      <td>0.000000</td>\n",
       "      <td>NaN</td>\n",
       "      <td>0.229885</td>\n",
       "      <td>0.000000</td>\n",
       "      <td>0.000000</td>\n",
       "      <td>NaN</td>\n",
       "      <td>0</td>\n",
       "    </tr>\n",
       "    <tr>\n",
       "      <th>3083</th>\n",
       "      <td>7336</td>\n",
       "      <td>3872179</td>\n",
       "      <td>1926</td>\n",
       "      <td>Cobresal</td>\n",
       "      <td>35960</td>\n",
       "      <td>Marcelo Filla</td>\n",
       "      <td>48.200000</td>\n",
       "      <td>NaN</td>\n",
       "      <td>0.000000</td>\n",
       "      <td>0</td>\n",
       "      <td>...</td>\n",
       "      <td>NaN</td>\n",
       "      <td>67.618073</td>\n",
       "      <td>0</td>\n",
       "      <td>0.000000</td>\n",
       "      <td>NaN</td>\n",
       "      <td>0.189189</td>\n",
       "      <td>0.000000</td>\n",
       "      <td>0.000000</td>\n",
       "      <td>NaN</td>\n",
       "      <td>0</td>\n",
       "    </tr>\n",
       "    <tr>\n",
       "      <th>6099</th>\n",
       "      <td>7336</td>\n",
       "      <td>3872000</td>\n",
       "      <td>1917</td>\n",
       "      <td>Universidad de Chile</td>\n",
       "      <td>28670</td>\n",
       "      <td>Leandro Fernández</td>\n",
       "      <td>91.566666</td>\n",
       "      <td>0.028462</td>\n",
       "      <td>0.085387</td>\n",
       "      <td>3</td>\n",
       "      <td>...</td>\n",
       "      <td>NaN</td>\n",
       "      <td>82.296715</td>\n",
       "      <td>0</td>\n",
       "      <td>0.000000</td>\n",
       "      <td>NaN</td>\n",
       "      <td>0.163934</td>\n",
       "      <td>0.000000</td>\n",
       "      <td>0.000000</td>\n",
       "      <td>NaN</td>\n",
       "      <td>0</td>\n",
       "    </tr>\n",
       "    <tr>\n",
       "      <th>2665</th>\n",
       "      <td>7336</td>\n",
       "      <td>3871987</td>\n",
       "      <td>1916</td>\n",
       "      <td>Colo Colo</td>\n",
       "      <td>28671</td>\n",
       "      <td>Agustín Bouzat</td>\n",
       "      <td>89.083336</td>\n",
       "      <td>NaN</td>\n",
       "      <td>0.000000</td>\n",
       "      <td>0</td>\n",
       "      <td>...</td>\n",
       "      <td>NaN</td>\n",
       "      <td>78.915520</td>\n",
       "      <td>0</td>\n",
       "      <td>0.000000</td>\n",
       "      <td>NaN</td>\n",
       "      <td>0.397626</td>\n",
       "      <td>0.000000</td>\n",
       "      <td>0.000000</td>\n",
       "      <td>NaN</td>\n",
       "      <td>0</td>\n",
       "    </tr>\n",
       "    <tr>\n",
       "      <th>6009</th>\n",
       "      <td>7336</td>\n",
       "      <td>3872003</td>\n",
       "      <td>1921</td>\n",
       "      <td>Unión Española</td>\n",
       "      <td>35877</td>\n",
       "      <td>Sebastián Pérez</td>\n",
       "      <td>101.866670</td>\n",
       "      <td>NaN</td>\n",
       "      <td>0.000000</td>\n",
       "      <td>0</td>\n",
       "      <td>...</td>\n",
       "      <td>1.0</td>\n",
       "      <td>19.514738</td>\n",
       "      <td>2</td>\n",
       "      <td>0.201252</td>\n",
       "      <td>1.523964</td>\n",
       "      <td>0.337900</td>\n",
       "      <td>2.201252</td>\n",
       "      <td>0.666667</td>\n",
       "      <td>0.033542</td>\n",
       "      <td>6</td>\n",
       "    </tr>\n",
       "    <tr>\n",
       "      <th>5948</th>\n",
       "      <td>7336</td>\n",
       "      <td>3872007</td>\n",
       "      <td>1951</td>\n",
       "      <td>Curicó Unido</td>\n",
       "      <td>35889</td>\n",
       "      <td>Felipe Fritz Saldías</td>\n",
       "      <td>19.250000</td>\n",
       "      <td>0.021074</td>\n",
       "      <td>0.021074</td>\n",
       "      <td>1</td>\n",
       "      <td>...</td>\n",
       "      <td>NaN</td>\n",
       "      <td>64.770393</td>\n",
       "      <td>0</td>\n",
       "      <td>0.000000</td>\n",
       "      <td>NaN</td>\n",
       "      <td>0.588235</td>\n",
       "      <td>0.000000</td>\n",
       "      <td>0.000000</td>\n",
       "      <td>NaN</td>\n",
       "      <td>0</td>\n",
       "    </tr>\n",
       "    <tr>\n",
       "      <th>615</th>\n",
       "      <td>7336</td>\n",
       "      <td>3872103</td>\n",
       "      <td>5102</td>\n",
       "      <td>Deportivo Ñublense SADP</td>\n",
       "      <td>35730</td>\n",
       "      <td>Patricio Rubio</td>\n",
       "      <td>84.283330</td>\n",
       "      <td>NaN</td>\n",
       "      <td>0.000000</td>\n",
       "      <td>0</td>\n",
       "      <td>...</td>\n",
       "      <td>NaN</td>\n",
       "      <td>79.771004</td>\n",
       "      <td>0</td>\n",
       "      <td>0.000000</td>\n",
       "      <td>NaN</td>\n",
       "      <td>0.496000</td>\n",
       "      <td>0.000000</td>\n",
       "      <td>0.000000</td>\n",
       "      <td>NaN</td>\n",
       "      <td>0</td>\n",
       "    </tr>\n",
       "    <tr>\n",
       "      <th>5244</th>\n",
       "      <td>7336</td>\n",
       "      <td>3872062</td>\n",
       "      <td>1954</td>\n",
       "      <td>Unión La Calera</td>\n",
       "      <td>31765</td>\n",
       "      <td>Sebastián Ariel Lomónaco</td>\n",
       "      <td>105.716670</td>\n",
       "      <td>0.118170</td>\n",
       "      <td>0.472681</td>\n",
       "      <td>4</td>\n",
       "      <td>...</td>\n",
       "      <td>NaN</td>\n",
       "      <td>78.345581</td>\n",
       "      <td>0</td>\n",
       "      <td>0.000000</td>\n",
       "      <td>NaN</td>\n",
       "      <td>0.158140</td>\n",
       "      <td>0.000000</td>\n",
       "      <td>0.000000</td>\n",
       "      <td>NaN</td>\n",
       "      <td>0</td>\n",
       "    </tr>\n",
       "    <tr>\n",
       "      <th>3555</th>\n",
       "      <td>7336</td>\n",
       "      <td>3872153</td>\n",
       "      <td>14895</td>\n",
       "      <td>Magallanes</td>\n",
       "      <td>35762</td>\n",
       "      <td>Christian Vilches</td>\n",
       "      <td>48.083332</td>\n",
       "      <td>NaN</td>\n",
       "      <td>0.000000</td>\n",
       "      <td>0</td>\n",
       "      <td>...</td>\n",
       "      <td>NaN</td>\n",
       "      <td>42.325397</td>\n",
       "      <td>0</td>\n",
       "      <td>0.000000</td>\n",
       "      <td>NaN</td>\n",
       "      <td>NaN</td>\n",
       "      <td>0.000000</td>\n",
       "      <td>0.000000</td>\n",
       "      <td>NaN</td>\n",
       "      <td>0</td>\n",
       "    </tr>\n",
       "    <tr>\n",
       "      <th>3352</th>\n",
       "      <td>7336</td>\n",
       "      <td>3872168</td>\n",
       "      <td>1954</td>\n",
       "      <td>Unión La Calera</td>\n",
       "      <td>31765</td>\n",
       "      <td>Sebastián Ariel Lomónaco</td>\n",
       "      <td>72.666664</td>\n",
       "      <td>0.056572</td>\n",
       "      <td>0.226287</td>\n",
       "      <td>4</td>\n",
       "      <td>...</td>\n",
       "      <td>NaN</td>\n",
       "      <td>79.853088</td>\n",
       "      <td>0</td>\n",
       "      <td>0.000000</td>\n",
       "      <td>NaN</td>\n",
       "      <td>0.184713</td>\n",
       "      <td>0.000000</td>\n",
       "      <td>0.000000</td>\n",
       "      <td>NaN</td>\n",
       "      <td>0</td>\n",
       "    </tr>\n",
       "    <tr>\n",
       "      <th>6519</th>\n",
       "      <td>7336</td>\n",
       "      <td>3871971</td>\n",
       "      <td>8021</td>\n",
       "      <td>Copiapó</td>\n",
       "      <td>364090</td>\n",
       "      <td>Wilson Piñones</td>\n",
       "      <td>20.966667</td>\n",
       "      <td>NaN</td>\n",
       "      <td>0.000000</td>\n",
       "      <td>0</td>\n",
       "      <td>...</td>\n",
       "      <td>NaN</td>\n",
       "      <td>57.263981</td>\n",
       "      <td>0</td>\n",
       "      <td>0.000000</td>\n",
       "      <td>NaN</td>\n",
       "      <td>0.072727</td>\n",
       "      <td>0.000000</td>\n",
       "      <td>0.000000</td>\n",
       "      <td>NaN</td>\n",
       "      <td>0</td>\n",
       "    </tr>\n",
       "    <tr>\n",
       "      <th>1208</th>\n",
       "      <td>7336</td>\n",
       "      <td>3871989</td>\n",
       "      <td>1951</td>\n",
       "      <td>Curicó Unido</td>\n",
       "      <td>35992</td>\n",
       "      <td>Diego Alonso Urzúa Rojas</td>\n",
       "      <td>23.700000</td>\n",
       "      <td>0.062414</td>\n",
       "      <td>0.062414</td>\n",
       "      <td>1</td>\n",
       "      <td>...</td>\n",
       "      <td>NaN</td>\n",
       "      <td>75.630432</td>\n",
       "      <td>0</td>\n",
       "      <td>0.000000</td>\n",
       "      <td>NaN</td>\n",
       "      <td>0.323810</td>\n",
       "      <td>0.000000</td>\n",
       "      <td>0.000000</td>\n",
       "      <td>NaN</td>\n",
       "      <td>0</td>\n",
       "    </tr>\n",
       "    <tr>\n",
       "      <th>3953</th>\n",
       "      <td>7336</td>\n",
       "      <td>3872135</td>\n",
       "      <td>1954</td>\n",
       "      <td>Unión La Calera</td>\n",
       "      <td>35995</td>\n",
       "      <td>Matías Cavalleri</td>\n",
       "      <td>74.783330</td>\n",
       "      <td>0.201116</td>\n",
       "      <td>0.804464</td>\n",
       "      <td>4</td>\n",
       "      <td>...</td>\n",
       "      <td>NaN</td>\n",
       "      <td>77.789261</td>\n",
       "      <td>0</td>\n",
       "      <td>0.000000</td>\n",
       "      <td>NaN</td>\n",
       "      <td>0.068966</td>\n",
       "      <td>0.000000</td>\n",
       "      <td>0.000000</td>\n",
       "      <td>NaN</td>\n",
       "      <td>0</td>\n",
       "    </tr>\n",
       "    <tr>\n",
       "      <th>4340</th>\n",
       "      <td>7336</td>\n",
       "      <td>3872108</td>\n",
       "      <td>1925</td>\n",
       "      <td>Palestino</td>\n",
       "      <td>54028</td>\n",
       "      <td>Daniel Hernán Rivero</td>\n",
       "      <td>7.333334</td>\n",
       "      <td>NaN</td>\n",
       "      <td>0.000000</td>\n",
       "      <td>0</td>\n",
       "      <td>...</td>\n",
       "      <td>NaN</td>\n",
       "      <td>60.762344</td>\n",
       "      <td>0</td>\n",
       "      <td>0.000000</td>\n",
       "      <td>NaN</td>\n",
       "      <td>NaN</td>\n",
       "      <td>0.000000</td>\n",
       "      <td>0.000000</td>\n",
       "      <td>NaN</td>\n",
       "      <td>0</td>\n",
       "    </tr>\n",
       "  </tbody>\n",
       "</table>\n",
       "<p>15 rows × 167 columns</p>\n",
       "</div>"
      ],
      "text/plain": [
       "      account_id  match_id  team_id                team_name  player_id  \\\n",
       "4332        7336   3872108     1924     Universidad Católica      23888   \n",
       "5713        7336   3872018     1925                Palestino      35928   \n",
       "3083        7336   3872179     1926                 Cobresal      35960   \n",
       "6099        7336   3872000     1917     Universidad de Chile      28670   \n",
       "2665        7336   3871987     1916                Colo Colo      28671   \n",
       "6009        7336   3872003     1921           Unión Española      35877   \n",
       "5948        7336   3872007     1951             Curicó Unido      35889   \n",
       "615         7336   3872103     5102  Deportivo Ñublense SADP      35730   \n",
       "5244        7336   3872062     1954          Unión La Calera      31765   \n",
       "3555        7336   3872153    14895               Magallanes      35762   \n",
       "3352        7336   3872168     1954          Unión La Calera      31765   \n",
       "6519        7336   3871971     8021                  Copiapó     364090   \n",
       "1208        7336   3871989     1951             Curicó Unido      35992   \n",
       "3953        7336   3872135     1954          Unión La Calera      35995   \n",
       "4340        7336   3872108     1925                Palestino      54028   \n",
       "\n",
       "                   player_name  player_match_minutes  \\\n",
       "4332          Gary Kagelmacher             75.550000   \n",
       "5713    Jonathan Oscar Benítez             73.350000   \n",
       "3083             Marcelo Filla             48.200000   \n",
       "6099         Leandro Fernández             91.566666   \n",
       "2665            Agustín Bouzat             89.083336   \n",
       "6009           Sebastián Pérez            101.866670   \n",
       "5948      Felipe Fritz Saldías             19.250000   \n",
       "615             Patricio Rubio             84.283330   \n",
       "5244  Sebastián Ariel Lomónaco            105.716670   \n",
       "3555         Christian Vilches             48.083332   \n",
       "3352  Sebastián Ariel Lomónaco             72.666664   \n",
       "6519            Wilson Piñones             20.966667   \n",
       "1208  Diego Alonso Urzúa Rojas             23.700000   \n",
       "3953          Matías Cavalleri             74.783330   \n",
       "4340      Daniel Hernán Rivero              7.333334   \n",
       "\n",
       "      player_match_np_xg_per_shot  player_match_np_xg  player_match_np_shots  \\\n",
       "4332                     0.055605            0.055605                      1   \n",
       "5713                          NaN            0.000000                      0   \n",
       "3083                          NaN            0.000000                      0   \n",
       "6099                     0.028462            0.085387                      3   \n",
       "2665                          NaN            0.000000                      0   \n",
       "6009                          NaN            0.000000                      0   \n",
       "5948                     0.021074            0.021074                      1   \n",
       "615                           NaN            0.000000                      0   \n",
       "5244                     0.118170            0.472681                      4   \n",
       "3555                          NaN            0.000000                      0   \n",
       "3352                     0.056572            0.226287                      4   \n",
       "6519                          NaN            0.000000                      0   \n",
       "1208                     0.062414            0.062414                      1   \n",
       "3953                     0.201116            0.804464                      4   \n",
       "4340                          NaN            0.000000                      0   \n",
       "\n",
       "      ...  player_match_claim_success  player_match_da_aggressive_distance  \\\n",
       "4332  ...                         NaN                            39.350540   \n",
       "5713  ...                         NaN                            78.424782   \n",
       "3083  ...                         NaN                            67.618073   \n",
       "6099  ...                         NaN                            82.296715   \n",
       "2665  ...                         NaN                            78.915520   \n",
       "6009  ...                         1.0                            19.514738   \n",
       "5948  ...                         NaN                            64.770393   \n",
       "615   ...                         NaN                            79.771004   \n",
       "5244  ...                         NaN                            78.345581   \n",
       "3555  ...                         NaN                            42.325397   \n",
       "3352  ...                         NaN                            79.853088   \n",
       "6519  ...                         NaN                            57.263981   \n",
       "1208  ...                         NaN                            75.630432   \n",
       "3953  ...                         NaN                            77.789261   \n",
       "4340  ...                         NaN                            60.762344   \n",
       "\n",
       "      player_match_goals_conceded  player_match_gsaa  \\\n",
       "4332                            0           0.000000   \n",
       "5713                            0           0.000000   \n",
       "3083                            0           0.000000   \n",
       "6099                            0           0.000000   \n",
       "2665                            0           0.000000   \n",
       "6009                            2           0.201252   \n",
       "5948                            0           0.000000   \n",
       "615                             0           0.000000   \n",
       "5244                            0           0.000000   \n",
       "3555                            0           0.000000   \n",
       "3352                            0           0.000000   \n",
       "6519                            0           0.000000   \n",
       "1208                            0           0.000000   \n",
       "3953                            0           0.000000   \n",
       "4340                            0           0.000000   \n",
       "\n",
       "      player_match_gk_positioning_error  player_match_positive_outcome_score  \\\n",
       "4332                                NaN                             0.172414   \n",
       "5713                                NaN                             0.229885   \n",
       "3083                                NaN                             0.189189   \n",
       "6099                                NaN                             0.163934   \n",
       "2665                                NaN                             0.397626   \n",
       "6009                           1.523964                             0.337900   \n",
       "5948                                NaN                             0.588235   \n",
       "615                                 NaN                             0.496000   \n",
       "5244                                NaN                             0.158140   \n",
       "3555                                NaN                                  NaN   \n",
       "3352                                NaN                             0.184713   \n",
       "6519                                NaN                             0.072727   \n",
       "1208                                NaN                             0.323810   \n",
       "3953                                NaN                             0.068966   \n",
       "4340                                NaN                                  NaN   \n",
       "\n",
       "      player_match_npot_psxg_faced  player_match_save_ratio  \\\n",
       "4332                      0.000000                 0.000000   \n",
       "5713                      0.000000                 0.000000   \n",
       "3083                      0.000000                 0.000000   \n",
       "6099                      0.000000                 0.000000   \n",
       "2665                      0.000000                 0.000000   \n",
       "6009                      2.201252                 0.666667   \n",
       "5948                      0.000000                 0.000000   \n",
       "615                       0.000000                 0.000000   \n",
       "5244                      0.000000                 0.000000   \n",
       "3555                      0.000000                 0.000000   \n",
       "3352                      0.000000                 0.000000   \n",
       "6519                      0.000000                 0.000000   \n",
       "1208                      0.000000                 0.000000   \n",
       "3953                      0.000000                 0.000000   \n",
       "4340                      0.000000                 0.000000   \n",
       "\n",
       "      player_match_gsaa_ratio  player_match_npot_shots_faced  \n",
       "4332                      NaN                              0  \n",
       "5713                      NaN                              0  \n",
       "3083                      NaN                              0  \n",
       "6099                      NaN                              0  \n",
       "2665                      NaN                              0  \n",
       "6009                 0.033542                              6  \n",
       "5948                      NaN                              0  \n",
       "615                       NaN                              0  \n",
       "5244                      NaN                              0  \n",
       "3555                      NaN                              0  \n",
       "3352                      NaN                              0  \n",
       "6519                      NaN                              0  \n",
       "1208                      NaN                              0  \n",
       "3953                      NaN                              0  \n",
       "4340                      NaN                              0  \n",
       "\n",
       "[15 rows x 167 columns]"
      ]
     },
     "execution_count": 49,
     "metadata": {},
     "output_type": "execute_result"
    }
   ],
   "source": [
    "# COMPROBACION DF CORRECTO\n",
    "\n",
    "player_match_stats.sample(15)"
   ]
  },
  {
   "cell_type": "code",
   "execution_count": 50,
   "metadata": {
    "executionInfo": {
     "elapsed": 799,
     "status": "ok",
     "timestamp": 1678392124846,
     "user": {
      "displayName": "Gonzalo Araya",
      "userId": "13966201719893279824"
     },
     "user_tz": 180
    },
    "id": "-XmtSgI0fkHY"
   },
   "outputs": [],
   "source": [
    "# DF COMPETITIONS\n",
    "\n",
    "competitions = sb.competitions(creds=creds)"
   ]
  },
  {
   "cell_type": "code",
   "execution_count": 51,
   "metadata": {
    "executionInfo": {
     "elapsed": 2840,
     "status": "ok",
     "timestamp": 1678392127683,
     "user": {
      "displayName": "Gonzalo Araya",
      "userId": "13966201719893279824"
     },
     "user_tz": 180
    },
    "id": "JVYdFh6vfl8d"
   },
   "outputs": [],
   "source": [
    "# DF PLAYER SEASON STATS\n",
    "\n",
    "player_season_stats = sb.player_season_stats(competition_id=103, season_id=107, creds=creds)"
   ]
  },
  {
   "cell_type": "code",
   "execution_count": 52,
   "metadata": {
    "executionInfo": {
     "elapsed": 1244,
     "status": "ok",
     "timestamp": 1678392128924,
     "user": {
      "displayName": "Gonzalo Araya",
      "userId": "13966201719893279824"
     },
     "user_tz": 180
    },
    "id": "ubpJVlF0f-Vq"
   },
   "outputs": [],
   "source": [
    "# DF TEAM SEASON STATS\n",
    "\n",
    "team_season_stats = sb.team_season_stats(competition_id=103, season_id=107, creds=creds)"
   ]
  },
  {
   "cell_type": "markdown",
   "metadata": {
    "id": "gVzSAlflBiyR"
   },
   "source": [
    "**CREACION DE TEAM MATCH STATS**\n",
    "\n",
    "A partir desde df player_match_stats, se realiza groupby y a su vez, suma y promedio acorde a el tipo de estadistica.\n",
    "\n",
    "Se cambia nombre de todas las columnas, para que en vez de ser 'player_match....', sea 'team_match...'"
   ]
  },
  {
   "cell_type": "code",
   "execution_count": 53,
   "metadata": {
    "executionInfo": {
     "elapsed": 3,
     "status": "ok",
     "timestamp": 1678392128924,
     "user": {
      "displayName": "Gonzalo Araya",
      "userId": "13966201719893279824"
     },
     "user_tz": 180
    },
    "id": "ZwWJ15jyg3lm"
   },
   "outputs": [],
   "source": [
    "# CREACION DE DF TEAM MATCH STATS DESDE DF DE JUGADOR\n",
    "\n",
    "team_match_stats = player_match_stats.groupby(['match_id', 'team_name',\n",
    "                                               'team_id', 'account_id']).agg({'player_match_minutes':'sum',\n",
    "                                                                              'player_match_np_xg_per_shot':'sum',\n",
    "                                                                              'player_match_np_xg':'sum',\n",
    "                                                                              'player_match_np_shots':'sum',\n",
    "                                                                              'player_match_goals':'sum',\n",
    "                                                                              'player_match_xa':'sum',\n",
    "                                                                              'player_match_key_passes':'sum',\n",
    "                                                                              'player_match_np_xg':'sum',\n",
    "                                                                              'player_match_assists':'sum',\n",
    "                                                                              'player_match_through_balls':'sum',                                                                              \n",
    "                                                                              'player_match_passes_into_box':'sum',\n",
    "                                                                              'player_match_touches_inside_box':'sum',\n",
    "                                                                              'player_match_tackles':'sum',\n",
    "                                                                              'player_match_interceptions':'sum',\n",
    "                                                                              'player_match_possession':'sum',\n",
    "                                                                              'player_match_dribbles_faced':'sum',\n",
    "                                                                              'player_match_touches_inside_box':'sum',\n",
    "                                                                              'player_match_dribbles':'sum',\n",
    "                                                                              'player_match_challenge_ratio':'mean',\n",
    "                                                                              'player_match_fouls':'sum',                                                                              \n",
    "                                                                              'player_match_dispossessions':'sum',\n",
    "                                                                              'player_match_long_balls':'sum',\n",
    "                                                                              'player_match_successful_long_balls':'sum',\n",
    "                                                                              'player_match_long_ball_ratio':'mean',\n",
    "                                                                              'player_match_shots_blocked':'sum',                                                                              \n",
    "                                                                              'player_match_clearances':'sum',\n",
    "                                                                              'player_match_aerials':'sum',\n",
    "                                                                              'player_match_successful_aerials':'sum',\n",
    "                                                                              'player_match_aerial_ratio':'mean',\n",
    "                                                                              'player_match_passes':'sum',                                                                              \n",
    "                                                                              'player_match_successful_passes':'sum',\n",
    "                                                                              'player_match_passing_ratio':'mean',\n",
    "                                                                              'player_match_op_passes':'sum',\n",
    "                                                                              'player_match_forward_passes':'sum',\n",
    "                                                                              'player_match_backward_passes':'sum',                                                                              \n",
    "                                                                              'player_match_sideways_passes':'sum',\n",
    "                                                                              'player_match_op_f3_passes':'sum',\n",
    "                                                                              'player_match_op_f3_forward_passes':'sum',\n",
    "                                                                              'player_match_op_f3_backward_passes':'sum',\n",
    "                                                                              'player_match_op_f3_sideways_passes':'sum',                                                                              \n",
    "                                                                              'player_match_np_shots_on_target':'sum',\n",
    "                                                                              'player_match_crosses':'sum',\n",
    "                                                                              'player_match_successful_crosses':'sum',\n",
    "                                                                              'player_match_crossing_ratio':'mean',\n",
    "                                                                              'player_match_penalties_won':'sum',                                                                              \n",
    "                                                                              'player_match_passes_inside_box':'sum',\n",
    "                                                                              'player_match_op_xa':'sum',\n",
    "                                                                              'player_match_op_assists':'sum',\n",
    "                                                                              'player_match_pressured_long_balls':'sum',\n",
    "                                                                              'player_match_unpressured_long_balls':'sum',                                                                              \n",
    "                                                                              'player_match_aggressive_actions':'sum',\n",
    "                                                                              'player_match_turnovers':'sum',\n",
    "                                                                              'player_match_crosses_into_box':'sum',\n",
    "                                                                              'player_match_sp_xa':'sum',\n",
    "                                                                              'player_match_op_shots':'sum',                                                                              \n",
    "                                                                              'player_match_touches':'sum',\n",
    "                                                                              'player_match_pressure_regains':'sum',\n",
    "                                                                              'player_match_box_cross_ratio':'mean',\n",
    "                                                                              'player_match_deep_progressions':'sum',\n",
    "                                                                              'player_match_shot_touch_ratio':'mean',                                                                              \n",
    "                                                                              'player_match_fouls_won':'sum',\n",
    "                                                                              'player_match_xgchain':'sum',\n",
    "                                                                              'player_match_op_xgchain':'sum',\n",
    "                                                                              'player_match_xgbuildup':'sum',\n",
    "                                                                              'player_match_op_xgbuildup':'sum',                                                                              \n",
    "                                                                              'player_match_xgchain_per_possession':'sum',\n",
    "                                                                              'player_match_op_xgchain_per_possession':'sum',\n",
    "                                                                              'player_match_xgbuildup_per_possession':'sum',\n",
    "                                                                              'player_match_op_xgbuildup_per_possession':'sum',\n",
    "                                                                              'player_match_pressures':'sum',                                                                              \n",
    "                                                                              'player_match_pressure_duration_total':'sum',\n",
    "                                                                              'player_match_pressure_duration_avg':'sum',\n",
    "                                                                              'player_match_pressured_action_fails':'sum',\n",
    "                                                                              'player_match_counterpressures':'sum',\n",
    "                                                                              'player_match_counterpressure_duration_total':'sum',                                                                              \n",
    "                                                                              'player_match_counterpressure_duration_avg':'sum',\n",
    "                                                                              'player_match_counterpressured_action_fails':'sum',\n",
    "                                                                              'player_match_obv':'sum',\n",
    "                                                                              'player_match_obv_pass':'sum',\n",
    "                                                                              'player_match_obv_shot':'sum',                                                                              \n",
    "                                                                              'player_match_obv_defensive_action':'sum',\n",
    "                                                                              'player_match_obv_dribble_carry':'sum',\n",
    "                                                                              'player_match_obv_gk':'sum',\n",
    "                                                                              'player_match_deep_completions':'sum',\n",
    "                                                                              'player_match_ball_recoveries':'sum',                                                                              \n",
    "                                                                              'player_match_np_psxg':'sum',\n",
    "                                                                              'player_match_penalties_faced':'sum',\n",
    "                                                                              'player_match_penalties_conceded':'sum',\n",
    "                                                                              'player_match_fhalf_ball_recoveries':'sum'})\n",
    "\n",
    "team_match_stats.reset_index(inplace=True)"
   ]
  },
  {
   "cell_type": "code",
   "execution_count": 54,
   "metadata": {
    "executionInfo": {
     "elapsed": 2,
     "status": "ok",
     "timestamp": 1678392129914,
     "user": {
      "displayName": "Gonzalo Araya",
      "userId": "13966201719893279824"
     },
     "user_tz": 180
    },
    "id": "MZ3nV8dFemH3"
   },
   "outputs": [],
   "source": [
    "team_match_stats.rename(columns={'player_match_minutes':'team_match_minutes', \n",
    "                                  'player_match_np_xg_per_shot':'team_match_np_xg_per_shot',\n",
    "                                  'player_match_np_xg':'team_match_np_xg',\n",
    "                                  'player_match_np_shots':'team_match_np_shots',\n",
    "                                  'player_match_goals':'team_match_goals',\n",
    "                                  'player_match_xa':'team_match_xa',\n",
    "                                  'player_match_key_passes':'team_match_key_passes',\n",
    "                                  'player_match_np_xg':'team_match_np_xg',\n",
    "                                  'player_match_assists':'team_match_assists',\n",
    "                                  'player_match_through_balls':'team_match_through_balls',        \n",
    "                                  'player_match_passes_into_box':'team_match_passes_into_box',\n",
    "                                  'player_match_touches_inside_box':'team_match_touches_inside_box',\n",
    "                                  'player_match_tackles':'team_match_tackles',\n",
    "                                  'player_match_interceptions':'team_match_interceptions',\n",
    "                                  'player_match_possession':'team_match_possession',\n",
    "                                  'player_match_dribbles_faced':'team_match_dribbles_faced',\n",
    "                                  'player_match_touches_inside_box':'team_match_touches_inside_box',\n",
    "                                  'player_match_dribbles':'team_match_dribbles',\n",
    "                                  'player_match_challenge_ratio':'team_match_challenge_ratio',\n",
    "                                  'player_match_fouls':'team_match_fouls',                 \n",
    "                                  'player_match_dispossessions':'team_match_dispossessions',\n",
    "                                  'player_match_long_balls':'team_match_long_balls',\n",
    "                                  'player_match_successful_long_balls':'team_match_successful_long_balls',\n",
    "                                  'player_match_long_ball_ratio':'team_match_long_ball_ratio',\n",
    "                                  'player_match_shots_blocked':'team_match_shots_blocked',         \n",
    "                                  'player_match_clearances':'team_match_clearances',\n",
    "                                  'player_match_aerials':'team_match_aerials',\n",
    "                                  'player_match_successful_aerials':'team_match_successful_aerials',\n",
    "                                  'player_match_aerial_ratio':'team_match_aerial_ratio',\n",
    "                                  'player_match_passes':'team_match_passes',                \n",
    "                                  'player_match_successful_passes':'team_match_successful_passes',\n",
    "                                  'player_match_passing_ratio':'team_match_passing_ratio',\n",
    "                                  'player_match_op_passes':'team_match_op_passes',\n",
    "                                  'player_match_forward_passes':'team_match_forward_passes',\n",
    "                                  'player_match_backward_passes':'team_match_backward_passes',      \n",
    "                                  'player_match_sideways_passes':'team_match_sideways_passes',\n",
    "                                  'player_match_op_f3_passes':'team_match_op_f3_passes',\n",
    "                                  'player_match_op_f3_forward_passes':'team_match_op_f3_forward_passes',\n",
    "                                  'player_match_op_f3_backward_passes':'team_match_op_f3_backward_passes',\n",
    "                                  'player_match_op_f3_sideways_passes':'team_match_op_f3_sideways_passes', \n",
    "                                  'player_match_np_shots_on_target':'team_match_np_shots_on_target',\n",
    "                                  'player_match_crosses':'team_match_crosses',\n",
    "                                  'player_match_successful_crosses':'team_match_successful_crosses',\n",
    "                                  'player_match_crossing_ratio':'team_match_crossing_ratio',\n",
    "                                  'player_match_penalties_won':'team_match_penalties_won',       \n",
    "                                  'player_match_passes_inside_box':'team_match_passes_inside_box',\n",
    "                                  'player_match_op_xa':'team_match_op_xa',\n",
    "                                  'player_match_op_assists':'team_match_op_assists',\n",
    "                                  'player_match_pressured_long_balls':'team_match_pressured_long_balls',\n",
    "                                  'player_match_unpressured_long_balls':'team_match_unpressured_long_balls',\n",
    "                                  'player_match_aggressive_actions':'team_match_aggressive_actions',\n",
    "                                  'player_match_turnovers':'team_match_turnovers',\n",
    "                                  'player_match_crosses_into_box':'team_match_crosses_into_box',\n",
    "                                  'player_match_sp_xa':'team_match_sp_xa',\n",
    "                                  'player_match_op_shots':'team_match_op_shots',             \n",
    "                                  'player_match_touches':'team_match_touches',\n",
    "                                  'player_match_pressure_regains':'team_match_pressure_regains',\n",
    "                                  'player_match_box_cross_ratio':'team_match_box_cross_ratio',\n",
    "                                  'player_match_deep_progressions':'team_match_deep_progressions',\n",
    "                                  'player_match_shot_touch_ratio':'team_match_shot_touch_ratio',    \n",
    "                                  'player_match_fouls_won':'team_match_fouls_won',\n",
    "                                  'player_match_xgchain':'team_match_xgchain',\n",
    "                                  'player_match_op_xgchain':'team_match_op_xgchain',\n",
    "                                  'player_match_xgbuildup':'team_match_xgbuildup',\n",
    "                                  'player_match_op_xgbuildup':'team_match_op_xgbuildup',          \n",
    "                                  'player_match_xgchain_per_possession':'team_match_xgchain_per_possession',\n",
    "                                  'player_match_op_xgchain_per_possession':'team_match_op_xgchain_per_possession',\n",
    "                                  'player_match_xgbuildup_per_possession':'team_match_xgbuildup_per_possession',\n",
    "                                  'player_match_op_xgbuildup_per_possession':'team_match_op_xgbuildup_per_possession',\n",
    "                                  'player_match_pressures':'team_match_pressures',             \n",
    "                                  'player_match_pressure_duration_total':'team_match_pressure_duration_total',\n",
    "                                  'player_match_pressure_duration_avg':'team_match_pressure_duration_avg',\n",
    "                                  'player_match_pressured_action_fails':'team_match_pressured_action_fails',\n",
    "                                  'player_match_counterpressures':'team_match_counterpressures',\n",
    "                                  'player_match_counterpressure_duration_total':'team_match_counterpressure_duration_total',\n",
    "                                  'player_match_counterpressure_duration_avg':'team_match_counterpressure_duration_avg',\n",
    "                                  'player_match_counterpressured_action_fails':'team_match_counterpressured_action_fails',\n",
    "                                  'player_match_obv':'team_match_obv',\n",
    "                                  'player_match_obv_pass':'team_match_obv_pass',\n",
    "                                  'player_match_obv_shot':'team_match_obv_shot',              \n",
    "                                  'player_match_obv_defensive_action':'team_match_obv_defensive_action',\n",
    "                                  'player_match_obv_dribble_carry':'team_match_obv_dribble_carry',\n",
    "                                  'player_match_obv_gk':'team_match_obv_gk',\n",
    "                                  'player_match_deep_completions':'team_match_deep_completions',\n",
    "                                  'player_match_ball_recoveries':'team_match_ball_recoveries',       \n",
    "                                  'player_match_np_psxg':'team_match_np_psxg',\n",
    "                                  'player_match_penalties_faced':'team_match_penalties_faced',\n",
    "                                  'player_match_penalties_conceded':'team_match_penalties_conceded',\n",
    "                                  'player_match_fhalf_ball_recoveries':'team_match_fhalf_ball_recoveries'},\n",
    "                         inplace = True)"
   ]
  },
  {
   "cell_type": "code",
   "execution_count": 55,
   "metadata": {
    "executionInfo": {
     "elapsed": 4630,
     "status": "ok",
     "timestamp": 1678392138212,
     "user": {
      "displayName": "Gonzalo Araya",
      "userId": "13966201719893279824"
     },
     "user_tz": 180
    },
    "id": "9VDyuLiYg1eH"
   },
   "outputs": [],
   "source": [
    "# EXPORTACION A CSV DE CADA DF\n",
    "\n",
    "matches.to_csv('C:/Users/lucio/OneDrive/Desktop/AUDAX ITALIANO/outs_data/sb_matches.csv', encoding='utf-8', index=False)\n",
    "player_match_stats.to_csv('C:/Users/lucio/OneDrive/Desktop/AUDAX ITALIANO/outs_data/sb_player_match_stats.csv', encoding='utf-8', index=False)\n",
    "competitions.to_csv('C:/Users/lucio/OneDrive/Desktop/AUDAX ITALIANO/outs_data/sb_competitions.csv', encoding='utf-8', index=False)\n",
    "player_season_stats.to_csv('C:/Users/lucio/OneDrive/Desktop/AUDAX ITALIANO/outs_data/sb_player_season_stats.csv', encoding='utf-8', index=False)\n",
    "team_season_stats.to_csv('C:/Users/lucio/OneDrive/Desktop/AUDAX ITALIANO/outs_data/sb_team_season_stats.csv', encoding='utf-8', index=False)\n",
    "team_match_stats.to_csv('C:/Users/lucio/OneDrive/Desktop/AUDAX ITALIANO/outs_data/sb_team_match_stats.csv', encoding='utf-8', index=False)"
   ]
  },
  {
   "cell_type": "code",
   "execution_count": 56,
   "metadata": {
    "id": "YXHfT7AQ-dQ6"
   },
   "outputs": [],
   "source": [
    "######################################\n",
    "##### NUEVO LINEUPS Y EVENTS TOTAL ###\n",
    "######################################"
   ]
  },
  {
   "cell_type": "code",
   "execution_count": 57,
   "metadata": {
    "colab": {
     "base_uri": "https://localhost:8080/"
    },
    "executionInfo": {
     "elapsed": 330683,
     "status": "ok",
     "timestamp": 1678392493788,
     "user": {
      "displayName": "Gonzalo Araya",
      "userId": "13966201719893279824"
     },
     "user_tz": 180
    },
    "id": "LxsrDIQQt5n1",
    "outputId": "b1393266-5c20-4dc7-8904-6c01e9b479b7"
   },
   "outputs": [
    {
     "name": "stderr",
     "output_type": "stream",
     "text": [
      "C:\\Users\\lucio\\AppData\\Local\\Packages\\PythonSoftwareFoundation.Python.3.11_qbz5n2kfra8p0\\LocalCache\\local-packages\\Python311\\site-packages\\statsbombpy\\sb.py:122: FutureWarning: The behavior of DataFrame concatenation with empty or all-NA entries is deprecated. In a future version, this will no longer exclude empty or all-NA columns when determining the result dtypes. To retain the old behavior, exclude the relevant entries before the concat operation.\n",
      "  events = pd.concat([*events.values()], axis=0, ignore_index=True, sort=True)\n"
     ]
    },
    {
     "name": "stdout",
     "output_type": "stream",
     "text": [
      "Partido 3872041 completado\n"
     ]
    },
    {
     "name": "stderr",
     "output_type": "stream",
     "text": [
      "C:\\Users\\lucio\\AppData\\Local\\Packages\\PythonSoftwareFoundation.Python.3.11_qbz5n2kfra8p0\\LocalCache\\local-packages\\Python311\\site-packages\\statsbombpy\\sb.py:122: FutureWarning: The behavior of DataFrame concatenation with empty or all-NA entries is deprecated. In a future version, this will no longer exclude empty or all-NA columns when determining the result dtypes. To retain the old behavior, exclude the relevant entries before the concat operation.\n",
      "  events = pd.concat([*events.values()], axis=0, ignore_index=True, sort=True)\n"
     ]
    },
    {
     "name": "stdout",
     "output_type": "stream",
     "text": [
      "Partido 3872126 completado\n"
     ]
    },
    {
     "name": "stderr",
     "output_type": "stream",
     "text": [
      "C:\\Users\\lucio\\AppData\\Local\\Packages\\PythonSoftwareFoundation.Python.3.11_qbz5n2kfra8p0\\LocalCache\\local-packages\\Python311\\site-packages\\statsbombpy\\sb.py:122: FutureWarning: The behavior of DataFrame concatenation with empty or all-NA entries is deprecated. In a future version, this will no longer exclude empty or all-NA columns when determining the result dtypes. To retain the old behavior, exclude the relevant entries before the concat operation.\n",
      "  events = pd.concat([*events.values()], axis=0, ignore_index=True, sort=True)\n"
     ]
    },
    {
     "name": "stdout",
     "output_type": "stream",
     "text": [
      "Partido 3872142 completado\n"
     ]
    },
    {
     "name": "stderr",
     "output_type": "stream",
     "text": [
      "C:\\Users\\lucio\\AppData\\Local\\Packages\\PythonSoftwareFoundation.Python.3.11_qbz5n2kfra8p0\\LocalCache\\local-packages\\Python311\\site-packages\\statsbombpy\\sb.py:122: FutureWarning: The behavior of DataFrame concatenation with empty or all-NA entries is deprecated. In a future version, this will no longer exclude empty or all-NA columns when determining the result dtypes. To retain the old behavior, exclude the relevant entries before the concat operation.\n",
      "  events = pd.concat([*events.values()], axis=0, ignore_index=True, sort=True)\n"
     ]
    },
    {
     "name": "stdout",
     "output_type": "stream",
     "text": [
      "Partido 3872144 completado\n"
     ]
    },
    {
     "name": "stderr",
     "output_type": "stream",
     "text": [
      "C:\\Users\\lucio\\AppData\\Local\\Packages\\PythonSoftwareFoundation.Python.3.11_qbz5n2kfra8p0\\LocalCache\\local-packages\\Python311\\site-packages\\statsbombpy\\sb.py:122: FutureWarning: The behavior of DataFrame concatenation with empty or all-NA entries is deprecated. In a future version, this will no longer exclude empty or all-NA columns when determining the result dtypes. To retain the old behavior, exclude the relevant entries before the concat operation.\n",
      "  events = pd.concat([*events.values()], axis=0, ignore_index=True, sort=True)\n"
     ]
    },
    {
     "name": "stdout",
     "output_type": "stream",
     "text": [
      "Partido 3872176 completado\n"
     ]
    },
    {
     "name": "stderr",
     "output_type": "stream",
     "text": [
      "C:\\Users\\lucio\\AppData\\Local\\Packages\\PythonSoftwareFoundation.Python.3.11_qbz5n2kfra8p0\\LocalCache\\local-packages\\Python311\\site-packages\\statsbombpy\\sb.py:122: FutureWarning: The behavior of DataFrame concatenation with empty or all-NA entries is deprecated. In a future version, this will no longer exclude empty or all-NA columns when determining the result dtypes. To retain the old behavior, exclude the relevant entries before the concat operation.\n",
      "  events = pd.concat([*events.values()], axis=0, ignore_index=True, sort=True)\n"
     ]
    },
    {
     "name": "stdout",
     "output_type": "stream",
     "text": [
      "Partido 3872134 completado\n"
     ]
    },
    {
     "name": "stderr",
     "output_type": "stream",
     "text": [
      "C:\\Users\\lucio\\AppData\\Local\\Packages\\PythonSoftwareFoundation.Python.3.11_qbz5n2kfra8p0\\LocalCache\\local-packages\\Python311\\site-packages\\statsbombpy\\sb.py:122: FutureWarning: The behavior of DataFrame concatenation with empty or all-NA entries is deprecated. In a future version, this will no longer exclude empty or all-NA columns when determining the result dtypes. To retain the old behavior, exclude the relevant entries before the concat operation.\n",
      "  events = pd.concat([*events.values()], axis=0, ignore_index=True, sort=True)\n"
     ]
    },
    {
     "name": "stdout",
     "output_type": "stream",
     "text": [
      "Partido 3872163 completado\n"
     ]
    },
    {
     "name": "stderr",
     "output_type": "stream",
     "text": [
      "C:\\Users\\lucio\\AppData\\Local\\Packages\\PythonSoftwareFoundation.Python.3.11_qbz5n2kfra8p0\\LocalCache\\local-packages\\Python311\\site-packages\\statsbombpy\\sb.py:122: FutureWarning: The behavior of DataFrame concatenation with empty or all-NA entries is deprecated. In a future version, this will no longer exclude empty or all-NA columns when determining the result dtypes. To retain the old behavior, exclude the relevant entries before the concat operation.\n",
      "  events = pd.concat([*events.values()], axis=0, ignore_index=True, sort=True)\n"
     ]
    },
    {
     "name": "stdout",
     "output_type": "stream",
     "text": [
      "Partido 3871961 completado\n"
     ]
    },
    {
     "name": "stderr",
     "output_type": "stream",
     "text": [
      "C:\\Users\\lucio\\AppData\\Local\\Packages\\PythonSoftwareFoundation.Python.3.11_qbz5n2kfra8p0\\LocalCache\\local-packages\\Python311\\site-packages\\statsbombpy\\sb.py:122: FutureWarning: The behavior of DataFrame concatenation with empty or all-NA entries is deprecated. In a future version, this will no longer exclude empty or all-NA columns when determining the result dtypes. To retain the old behavior, exclude the relevant entries before the concat operation.\n",
      "  events = pd.concat([*events.values()], axis=0, ignore_index=True, sort=True)\n"
     ]
    },
    {
     "name": "stdout",
     "output_type": "stream",
     "text": [
      "Partido 3872175 completado\n"
     ]
    },
    {
     "name": "stderr",
     "output_type": "stream",
     "text": [
      "C:\\Users\\lucio\\AppData\\Local\\Packages\\PythonSoftwareFoundation.Python.3.11_qbz5n2kfra8p0\\LocalCache\\local-packages\\Python311\\site-packages\\statsbombpy\\sb.py:122: FutureWarning: The behavior of DataFrame concatenation with empty or all-NA entries is deprecated. In a future version, this will no longer exclude empty or all-NA columns when determining the result dtypes. To retain the old behavior, exclude the relevant entries before the concat operation.\n",
      "  events = pd.concat([*events.values()], axis=0, ignore_index=True, sort=True)\n"
     ]
    },
    {
     "name": "stdout",
     "output_type": "stream",
     "text": [
      "Partido 3872164 completado\n"
     ]
    },
    {
     "name": "stderr",
     "output_type": "stream",
     "text": [
      "C:\\Users\\lucio\\AppData\\Local\\Packages\\PythonSoftwareFoundation.Python.3.11_qbz5n2kfra8p0\\LocalCache\\local-packages\\Python311\\site-packages\\statsbombpy\\sb.py:122: FutureWarning: The behavior of DataFrame concatenation with empty or all-NA entries is deprecated. In a future version, this will no longer exclude empty or all-NA columns when determining the result dtypes. To retain the old behavior, exclude the relevant entries before the concat operation.\n",
      "  events = pd.concat([*events.values()], axis=0, ignore_index=True, sort=True)\n"
     ]
    },
    {
     "name": "stdout",
     "output_type": "stream",
     "text": [
      "Partido 3872162 completado\n"
     ]
    },
    {
     "name": "stderr",
     "output_type": "stream",
     "text": [
      "C:\\Users\\lucio\\AppData\\Local\\Packages\\PythonSoftwareFoundation.Python.3.11_qbz5n2kfra8p0\\LocalCache\\local-packages\\Python311\\site-packages\\statsbombpy\\sb.py:122: FutureWarning: The behavior of DataFrame concatenation with empty or all-NA entries is deprecated. In a future version, this will no longer exclude empty or all-NA columns when determining the result dtypes. To retain the old behavior, exclude the relevant entries before the concat operation.\n",
      "  events = pd.concat([*events.values()], axis=0, ignore_index=True, sort=True)\n"
     ]
    },
    {
     "name": "stdout",
     "output_type": "stream",
     "text": [
      "Partido 3872152 completado\n"
     ]
    },
    {
     "name": "stderr",
     "output_type": "stream",
     "text": [
      "C:\\Users\\lucio\\AppData\\Local\\Packages\\PythonSoftwareFoundation.Python.3.11_qbz5n2kfra8p0\\LocalCache\\local-packages\\Python311\\site-packages\\statsbombpy\\sb.py:122: FutureWarning: The behavior of DataFrame concatenation with empty or all-NA entries is deprecated. In a future version, this will no longer exclude empty or all-NA columns when determining the result dtypes. To retain the old behavior, exclude the relevant entries before the concat operation.\n",
      "  events = pd.concat([*events.values()], axis=0, ignore_index=True, sort=True)\n"
     ]
    },
    {
     "name": "stdout",
     "output_type": "stream",
     "text": [
      "Partido 3872165 completado\n"
     ]
    },
    {
     "name": "stderr",
     "output_type": "stream",
     "text": [
      "C:\\Users\\lucio\\AppData\\Local\\Packages\\PythonSoftwareFoundation.Python.3.11_qbz5n2kfra8p0\\LocalCache\\local-packages\\Python311\\site-packages\\statsbombpy\\sb.py:122: FutureWarning: The behavior of DataFrame concatenation with empty or all-NA entries is deprecated. In a future version, this will no longer exclude empty or all-NA columns when determining the result dtypes. To retain the old behavior, exclude the relevant entries before the concat operation.\n",
      "  events = pd.concat([*events.values()], axis=0, ignore_index=True, sort=True)\n"
     ]
    },
    {
     "name": "stdout",
     "output_type": "stream",
     "text": [
      "Partido 3872160 completado\n"
     ]
    },
    {
     "name": "stderr",
     "output_type": "stream",
     "text": [
      "C:\\Users\\lucio\\AppData\\Local\\Packages\\PythonSoftwareFoundation.Python.3.11_qbz5n2kfra8p0\\LocalCache\\local-packages\\Python311\\site-packages\\statsbombpy\\sb.py:122: FutureWarning: The behavior of DataFrame concatenation with empty or all-NA entries is deprecated. In a future version, this will no longer exclude empty or all-NA columns when determining the result dtypes. To retain the old behavior, exclude the relevant entries before the concat operation.\n",
      "  events = pd.concat([*events.values()], axis=0, ignore_index=True, sort=True)\n"
     ]
    },
    {
     "name": "stdout",
     "output_type": "stream",
     "text": [
      "Partido 3872161 completado\n"
     ]
    },
    {
     "name": "stderr",
     "output_type": "stream",
     "text": [
      "C:\\Users\\lucio\\AppData\\Local\\Packages\\PythonSoftwareFoundation.Python.3.11_qbz5n2kfra8p0\\LocalCache\\local-packages\\Python311\\site-packages\\statsbombpy\\sb.py:122: FutureWarning: The behavior of DataFrame concatenation with empty or all-NA entries is deprecated. In a future version, this will no longer exclude empty or all-NA columns when determining the result dtypes. To retain the old behavior, exclude the relevant entries before the concat operation.\n",
      "  events = pd.concat([*events.values()], axis=0, ignore_index=True, sort=True)\n"
     ]
    },
    {
     "name": "stdout",
     "output_type": "stream",
     "text": [
      "Partido 3872159 completado\n"
     ]
    },
    {
     "name": "stderr",
     "output_type": "stream",
     "text": [
      "C:\\Users\\lucio\\AppData\\Local\\Packages\\PythonSoftwareFoundation.Python.3.11_qbz5n2kfra8p0\\LocalCache\\local-packages\\Python311\\site-packages\\statsbombpy\\sb.py:122: FutureWarning: The behavior of DataFrame concatenation with empty or all-NA entries is deprecated. In a future version, this will no longer exclude empty or all-NA columns when determining the result dtypes. To retain the old behavior, exclude the relevant entries before the concat operation.\n",
      "  events = pd.concat([*events.values()], axis=0, ignore_index=True, sort=True)\n"
     ]
    },
    {
     "name": "stdout",
     "output_type": "stream",
     "text": [
      "Partido 3872156 completado\n"
     ]
    },
    {
     "name": "stderr",
     "output_type": "stream",
     "text": [
      "C:\\Users\\lucio\\AppData\\Local\\Packages\\PythonSoftwareFoundation.Python.3.11_qbz5n2kfra8p0\\LocalCache\\local-packages\\Python311\\site-packages\\statsbombpy\\sb.py:122: FutureWarning: The behavior of DataFrame concatenation with empty or all-NA entries is deprecated. In a future version, this will no longer exclude empty or all-NA columns when determining the result dtypes. To retain the old behavior, exclude the relevant entries before the concat operation.\n",
      "  events = pd.concat([*events.values()], axis=0, ignore_index=True, sort=True)\n"
     ]
    },
    {
     "name": "stdout",
     "output_type": "stream",
     "text": [
      "Partido 3872133 completado\n"
     ]
    },
    {
     "name": "stderr",
     "output_type": "stream",
     "text": [
      "C:\\Users\\lucio\\AppData\\Local\\Packages\\PythonSoftwareFoundation.Python.3.11_qbz5n2kfra8p0\\LocalCache\\local-packages\\Python311\\site-packages\\statsbombpy\\sb.py:122: FutureWarning: The behavior of DataFrame concatenation with empty or all-NA entries is deprecated. In a future version, this will no longer exclude empty or all-NA columns when determining the result dtypes. To retain the old behavior, exclude the relevant entries before the concat operation.\n",
      "  events = pd.concat([*events.values()], axis=0, ignore_index=True, sort=True)\n"
     ]
    },
    {
     "name": "stdout",
     "output_type": "stream",
     "text": [
      "Partido 3872113 completado\n"
     ]
    },
    {
     "name": "stderr",
     "output_type": "stream",
     "text": [
      "C:\\Users\\lucio\\AppData\\Local\\Packages\\PythonSoftwareFoundation.Python.3.11_qbz5n2kfra8p0\\LocalCache\\local-packages\\Python311\\site-packages\\statsbombpy\\sb.py:122: FutureWarning: The behavior of DataFrame concatenation with empty or all-NA entries is deprecated. In a future version, this will no longer exclude empty or all-NA columns when determining the result dtypes. To retain the old behavior, exclude the relevant entries before the concat operation.\n",
      "  events = pd.concat([*events.values()], axis=0, ignore_index=True, sort=True)\n"
     ]
    },
    {
     "name": "stdout",
     "output_type": "stream",
     "text": [
      "Partido 3872103 completado\n"
     ]
    },
    {
     "name": "stderr",
     "output_type": "stream",
     "text": [
      "C:\\Users\\lucio\\AppData\\Local\\Packages\\PythonSoftwareFoundation.Python.3.11_qbz5n2kfra8p0\\LocalCache\\local-packages\\Python311\\site-packages\\statsbombpy\\sb.py:122: FutureWarning: The behavior of DataFrame concatenation with empty or all-NA entries is deprecated. In a future version, this will no longer exclude empty or all-NA columns when determining the result dtypes. To retain the old behavior, exclude the relevant entries before the concat operation.\n",
      "  events = pd.concat([*events.values()], axis=0, ignore_index=True, sort=True)\n"
     ]
    },
    {
     "name": "stdout",
     "output_type": "stream",
     "text": [
      "Partido 3872084 completado\n"
     ]
    },
    {
     "name": "stderr",
     "output_type": "stream",
     "text": [
      "C:\\Users\\lucio\\AppData\\Local\\Packages\\PythonSoftwareFoundation.Python.3.11_qbz5n2kfra8p0\\LocalCache\\local-packages\\Python311\\site-packages\\statsbombpy\\sb.py:122: FutureWarning: The behavior of DataFrame concatenation with empty or all-NA entries is deprecated. In a future version, this will no longer exclude empty or all-NA columns when determining the result dtypes. To retain the old behavior, exclude the relevant entries before the concat operation.\n",
      "  events = pd.concat([*events.values()], axis=0, ignore_index=True, sort=True)\n"
     ]
    },
    {
     "name": "stdout",
     "output_type": "stream",
     "text": [
      "Partido 3872006 completado\n"
     ]
    },
    {
     "name": "stderr",
     "output_type": "stream",
     "text": [
      "C:\\Users\\lucio\\AppData\\Local\\Packages\\PythonSoftwareFoundation.Python.3.11_qbz5n2kfra8p0\\LocalCache\\local-packages\\Python311\\site-packages\\statsbombpy\\sb.py:122: FutureWarning: The behavior of DataFrame concatenation with empty or all-NA entries is deprecated. In a future version, this will no longer exclude empty or all-NA columns when determining the result dtypes. To retain the old behavior, exclude the relevant entries before the concat operation.\n",
      "  events = pd.concat([*events.values()], axis=0, ignore_index=True, sort=True)\n"
     ]
    },
    {
     "name": "stdout",
     "output_type": "stream",
     "text": [
      "Partido 3872097 completado\n"
     ]
    },
    {
     "name": "stderr",
     "output_type": "stream",
     "text": [
      "C:\\Users\\lucio\\AppData\\Local\\Packages\\PythonSoftwareFoundation.Python.3.11_qbz5n2kfra8p0\\LocalCache\\local-packages\\Python311\\site-packages\\statsbombpy\\sb.py:122: FutureWarning: The behavior of DataFrame concatenation with empty or all-NA entries is deprecated. In a future version, this will no longer exclude empty or all-NA columns when determining the result dtypes. To retain the old behavior, exclude the relevant entries before the concat operation.\n",
      "  events = pd.concat([*events.values()], axis=0, ignore_index=True, sort=True)\n"
     ]
    },
    {
     "name": "stdout",
     "output_type": "stream",
     "text": [
      "Partido 3872037 completado\n"
     ]
    },
    {
     "name": "stderr",
     "output_type": "stream",
     "text": [
      "C:\\Users\\lucio\\AppData\\Local\\Packages\\PythonSoftwareFoundation.Python.3.11_qbz5n2kfra8p0\\LocalCache\\local-packages\\Python311\\site-packages\\statsbombpy\\sb.py:122: FutureWarning: The behavior of DataFrame concatenation with empty or all-NA entries is deprecated. In a future version, this will no longer exclude empty or all-NA columns when determining the result dtypes. To retain the old behavior, exclude the relevant entries before the concat operation.\n",
      "  events = pd.concat([*events.values()], axis=0, ignore_index=True, sort=True)\n"
     ]
    },
    {
     "name": "stdout",
     "output_type": "stream",
     "text": [
      "Partido 3872117 completado\n"
     ]
    },
    {
     "name": "stderr",
     "output_type": "stream",
     "text": [
      "C:\\Users\\lucio\\AppData\\Local\\Packages\\PythonSoftwareFoundation.Python.3.11_qbz5n2kfra8p0\\LocalCache\\local-packages\\Python311\\site-packages\\statsbombpy\\sb.py:122: FutureWarning: The behavior of DataFrame concatenation with empty or all-NA entries is deprecated. In a future version, this will no longer exclude empty or all-NA columns when determining the result dtypes. To retain the old behavior, exclude the relevant entries before the concat operation.\n",
      "  events = pd.concat([*events.values()], axis=0, ignore_index=True, sort=True)\n"
     ]
    },
    {
     "name": "stdout",
     "output_type": "stream",
     "text": [
      "Partido 3872015 completado\n"
     ]
    },
    {
     "name": "stderr",
     "output_type": "stream",
     "text": [
      "C:\\Users\\lucio\\AppData\\Local\\Packages\\PythonSoftwareFoundation.Python.3.11_qbz5n2kfra8p0\\LocalCache\\local-packages\\Python311\\site-packages\\statsbombpy\\sb.py:122: FutureWarning: The behavior of DataFrame concatenation with empty or all-NA entries is deprecated. In a future version, this will no longer exclude empty or all-NA columns when determining the result dtypes. To retain the old behavior, exclude the relevant entries before the concat operation.\n",
      "  events = pd.concat([*events.values()], axis=0, ignore_index=True, sort=True)\n"
     ]
    },
    {
     "name": "stdout",
     "output_type": "stream",
     "text": [
      "Partido 3872143 completado\n"
     ]
    },
    {
     "name": "stderr",
     "output_type": "stream",
     "text": [
      "C:\\Users\\lucio\\AppData\\Local\\Packages\\PythonSoftwareFoundation.Python.3.11_qbz5n2kfra8p0\\LocalCache\\local-packages\\Python311\\site-packages\\statsbombpy\\sb.py:122: FutureWarning: The behavior of DataFrame concatenation with empty or all-NA entries is deprecated. In a future version, this will no longer exclude empty or all-NA columns when determining the result dtypes. To retain the old behavior, exclude the relevant entries before the concat operation.\n",
      "  events = pd.concat([*events.values()], axis=0, ignore_index=True, sort=True)\n"
     ]
    },
    {
     "name": "stdout",
     "output_type": "stream",
     "text": [
      "Partido 3872146 completado\n"
     ]
    },
    {
     "name": "stderr",
     "output_type": "stream",
     "text": [
      "C:\\Users\\lucio\\AppData\\Local\\Packages\\PythonSoftwareFoundation.Python.3.11_qbz5n2kfra8p0\\LocalCache\\local-packages\\Python311\\site-packages\\statsbombpy\\sb.py:122: FutureWarning: The behavior of DataFrame concatenation with empty or all-NA entries is deprecated. In a future version, this will no longer exclude empty or all-NA columns when determining the result dtypes. To retain the old behavior, exclude the relevant entries before the concat operation.\n",
      "  events = pd.concat([*events.values()], axis=0, ignore_index=True, sort=True)\n"
     ]
    },
    {
     "name": "stdout",
     "output_type": "stream",
     "text": [
      "Partido 3872128 completado\n"
     ]
    },
    {
     "name": "stderr",
     "output_type": "stream",
     "text": [
      "C:\\Users\\lucio\\AppData\\Local\\Packages\\PythonSoftwareFoundation.Python.3.11_qbz5n2kfra8p0\\LocalCache\\local-packages\\Python311\\site-packages\\statsbombpy\\sb.py:122: FutureWarning: The behavior of DataFrame concatenation with empty or all-NA entries is deprecated. In a future version, this will no longer exclude empty or all-NA columns when determining the result dtypes. To retain the old behavior, exclude the relevant entries before the concat operation.\n",
      "  events = pd.concat([*events.values()], axis=0, ignore_index=True, sort=True)\n"
     ]
    },
    {
     "name": "stdout",
     "output_type": "stream",
     "text": [
      "Partido 3872129 completado\n"
     ]
    },
    {
     "name": "stderr",
     "output_type": "stream",
     "text": [
      "C:\\Users\\lucio\\AppData\\Local\\Packages\\PythonSoftwareFoundation.Python.3.11_qbz5n2kfra8p0\\LocalCache\\local-packages\\Python311\\site-packages\\statsbombpy\\sb.py:122: FutureWarning: The behavior of DataFrame concatenation with empty or all-NA entries is deprecated. In a future version, this will no longer exclude empty or all-NA columns when determining the result dtypes. To retain the old behavior, exclude the relevant entries before the concat operation.\n",
      "  events = pd.concat([*events.values()], axis=0, ignore_index=True, sort=True)\n"
     ]
    },
    {
     "name": "stdout",
     "output_type": "stream",
     "text": [
      "Partido 3872125 completado\n"
     ]
    },
    {
     "name": "stderr",
     "output_type": "stream",
     "text": [
      "C:\\Users\\lucio\\AppData\\Local\\Packages\\PythonSoftwareFoundation.Python.3.11_qbz5n2kfra8p0\\LocalCache\\local-packages\\Python311\\site-packages\\statsbombpy\\sb.py:122: FutureWarning: The behavior of DataFrame concatenation with empty or all-NA entries is deprecated. In a future version, this will no longer exclude empty or all-NA columns when determining the result dtypes. To retain the old behavior, exclude the relevant entries before the concat operation.\n",
      "  events = pd.concat([*events.values()], axis=0, ignore_index=True, sort=True)\n"
     ]
    },
    {
     "name": "stdout",
     "output_type": "stream",
     "text": [
      "Partido 3872114 completado\n"
     ]
    },
    {
     "name": "stderr",
     "output_type": "stream",
     "text": [
      "C:\\Users\\lucio\\AppData\\Local\\Packages\\PythonSoftwareFoundation.Python.3.11_qbz5n2kfra8p0\\LocalCache\\local-packages\\Python311\\site-packages\\statsbombpy\\sb.py:122: FutureWarning: The behavior of DataFrame concatenation with empty or all-NA entries is deprecated. In a future version, this will no longer exclude empty or all-NA columns when determining the result dtypes. To retain the old behavior, exclude the relevant entries before the concat operation.\n",
      "  events = pd.concat([*events.values()], axis=0, ignore_index=True, sort=True)\n"
     ]
    },
    {
     "name": "stdout",
     "output_type": "stream",
     "text": [
      "Partido 3872123 completado\n"
     ]
    },
    {
     "name": "stderr",
     "output_type": "stream",
     "text": [
      "C:\\Users\\lucio\\AppData\\Local\\Packages\\PythonSoftwareFoundation.Python.3.11_qbz5n2kfra8p0\\LocalCache\\local-packages\\Python311\\site-packages\\statsbombpy\\sb.py:122: FutureWarning: The behavior of DataFrame concatenation with empty or all-NA entries is deprecated. In a future version, this will no longer exclude empty or all-NA columns when determining the result dtypes. To retain the old behavior, exclude the relevant entries before the concat operation.\n",
      "  events = pd.concat([*events.values()], axis=0, ignore_index=True, sort=True)\n"
     ]
    },
    {
     "name": "stdout",
     "output_type": "stream",
     "text": [
      "Partido 3872124 completado\n"
     ]
    },
    {
     "name": "stderr",
     "output_type": "stream",
     "text": [
      "C:\\Users\\lucio\\AppData\\Local\\Packages\\PythonSoftwareFoundation.Python.3.11_qbz5n2kfra8p0\\LocalCache\\local-packages\\Python311\\site-packages\\statsbombpy\\sb.py:122: FutureWarning: The behavior of DataFrame concatenation with empty or all-NA entries is deprecated. In a future version, this will no longer exclude empty or all-NA columns when determining the result dtypes. To retain the old behavior, exclude the relevant entries before the concat operation.\n",
      "  events = pd.concat([*events.values()], axis=0, ignore_index=True, sort=True)\n"
     ]
    },
    {
     "name": "stdout",
     "output_type": "stream",
     "text": [
      "Partido 3872110 completado\n"
     ]
    },
    {
     "name": "stderr",
     "output_type": "stream",
     "text": [
      "C:\\Users\\lucio\\AppData\\Local\\Packages\\PythonSoftwareFoundation.Python.3.11_qbz5n2kfra8p0\\LocalCache\\local-packages\\Python311\\site-packages\\statsbombpy\\sb.py:122: FutureWarning: The behavior of DataFrame concatenation with empty or all-NA entries is deprecated. In a future version, this will no longer exclude empty or all-NA columns when determining the result dtypes. To retain the old behavior, exclude the relevant entries before the concat operation.\n",
      "  events = pd.concat([*events.values()], axis=0, ignore_index=True, sort=True)\n"
     ]
    },
    {
     "name": "stdout",
     "output_type": "stream",
     "text": [
      "Partido 3872111 completado\n"
     ]
    },
    {
     "name": "stderr",
     "output_type": "stream",
     "text": [
      "C:\\Users\\lucio\\AppData\\Local\\Packages\\PythonSoftwareFoundation.Python.3.11_qbz5n2kfra8p0\\LocalCache\\local-packages\\Python311\\site-packages\\statsbombpy\\sb.py:122: FutureWarning: The behavior of DataFrame concatenation with empty or all-NA entries is deprecated. In a future version, this will no longer exclude empty or all-NA columns when determining the result dtypes. To retain the old behavior, exclude the relevant entries before the concat operation.\n",
      "  events = pd.concat([*events.values()], axis=0, ignore_index=True, sort=True)\n"
     ]
    },
    {
     "name": "stdout",
     "output_type": "stream",
     "text": [
      "Partido 3872116 completado\n"
     ]
    },
    {
     "name": "stderr",
     "output_type": "stream",
     "text": [
      "C:\\Users\\lucio\\AppData\\Local\\Packages\\PythonSoftwareFoundation.Python.3.11_qbz5n2kfra8p0\\LocalCache\\local-packages\\Python311\\site-packages\\statsbombpy\\sb.py:122: FutureWarning: The behavior of DataFrame concatenation with empty or all-NA entries is deprecated. In a future version, this will no longer exclude empty or all-NA columns when determining the result dtypes. To retain the old behavior, exclude the relevant entries before the concat operation.\n",
      "  events = pd.concat([*events.values()], axis=0, ignore_index=True, sort=True)\n"
     ]
    },
    {
     "name": "stdout",
     "output_type": "stream",
     "text": [
      "Partido 3872105 completado\n"
     ]
    },
    {
     "name": "stderr",
     "output_type": "stream",
     "text": [
      "C:\\Users\\lucio\\AppData\\Local\\Packages\\PythonSoftwareFoundation.Python.3.11_qbz5n2kfra8p0\\LocalCache\\local-packages\\Python311\\site-packages\\statsbombpy\\sb.py:122: FutureWarning: The behavior of DataFrame concatenation with empty or all-NA entries is deprecated. In a future version, this will no longer exclude empty or all-NA columns when determining the result dtypes. To retain the old behavior, exclude the relevant entries before the concat operation.\n",
      "  events = pd.concat([*events.values()], axis=0, ignore_index=True, sort=True)\n"
     ]
    },
    {
     "name": "stdout",
     "output_type": "stream",
     "text": [
      "Partido 3872091 completado\n"
     ]
    },
    {
     "name": "stderr",
     "output_type": "stream",
     "text": [
      "C:\\Users\\lucio\\AppData\\Local\\Packages\\PythonSoftwareFoundation.Python.3.11_qbz5n2kfra8p0\\LocalCache\\local-packages\\Python311\\site-packages\\statsbombpy\\sb.py:122: FutureWarning: The behavior of DataFrame concatenation with empty or all-NA entries is deprecated. In a future version, this will no longer exclude empty or all-NA columns when determining the result dtypes. To retain the old behavior, exclude the relevant entries before the concat operation.\n",
      "  events = pd.concat([*events.values()], axis=0, ignore_index=True, sort=True)\n"
     ]
    },
    {
     "name": "stdout",
     "output_type": "stream",
     "text": [
      "Partido 3871989 completado\n"
     ]
    },
    {
     "name": "stderr",
     "output_type": "stream",
     "text": [
      "C:\\Users\\lucio\\AppData\\Local\\Packages\\PythonSoftwareFoundation.Python.3.11_qbz5n2kfra8p0\\LocalCache\\local-packages\\Python311\\site-packages\\statsbombpy\\sb.py:122: FutureWarning: The behavior of DataFrame concatenation with empty or all-NA entries is deprecated. In a future version, this will no longer exclude empty or all-NA columns when determining the result dtypes. To retain the old behavior, exclude the relevant entries before the concat operation.\n",
      "  events = pd.concat([*events.values()], axis=0, ignore_index=True, sort=True)\n"
     ]
    },
    {
     "name": "stdout",
     "output_type": "stream",
     "text": [
      "Partido 3872073 completado\n"
     ]
    },
    {
     "name": "stderr",
     "output_type": "stream",
     "text": [
      "C:\\Users\\lucio\\AppData\\Local\\Packages\\PythonSoftwareFoundation.Python.3.11_qbz5n2kfra8p0\\LocalCache\\local-packages\\Python311\\site-packages\\statsbombpy\\sb.py:122: FutureWarning: The behavior of DataFrame concatenation with empty or all-NA entries is deprecated. In a future version, this will no longer exclude empty or all-NA columns when determining the result dtypes. To retain the old behavior, exclude the relevant entries before the concat operation.\n",
      "  events = pd.concat([*events.values()], axis=0, ignore_index=True, sort=True)\n"
     ]
    },
    {
     "name": "stdout",
     "output_type": "stream",
     "text": [
      "Partido 3872070 completado\n"
     ]
    },
    {
     "name": "stderr",
     "output_type": "stream",
     "text": [
      "C:\\Users\\lucio\\AppData\\Local\\Packages\\PythonSoftwareFoundation.Python.3.11_qbz5n2kfra8p0\\LocalCache\\local-packages\\Python311\\site-packages\\statsbombpy\\sb.py:122: FutureWarning: The behavior of DataFrame concatenation with empty or all-NA entries is deprecated. In a future version, this will no longer exclude empty or all-NA columns when determining the result dtypes. To retain the old behavior, exclude the relevant entries before the concat operation.\n",
      "  events = pd.concat([*events.values()], axis=0, ignore_index=True, sort=True)\n"
     ]
    },
    {
     "name": "stdout",
     "output_type": "stream",
     "text": [
      "Partido 3872087 completado\n"
     ]
    },
    {
     "name": "stderr",
     "output_type": "stream",
     "text": [
      "C:\\Users\\lucio\\AppData\\Local\\Packages\\PythonSoftwareFoundation.Python.3.11_qbz5n2kfra8p0\\LocalCache\\local-packages\\Python311\\site-packages\\statsbombpy\\sb.py:122: FutureWarning: The behavior of DataFrame concatenation with empty or all-NA entries is deprecated. In a future version, this will no longer exclude empty or all-NA columns when determining the result dtypes. To retain the old behavior, exclude the relevant entries before the concat operation.\n",
      "  events = pd.concat([*events.values()], axis=0, ignore_index=True, sort=True)\n"
     ]
    },
    {
     "name": "stdout",
     "output_type": "stream",
     "text": [
      "Partido 3872092 completado\n"
     ]
    },
    {
     "name": "stderr",
     "output_type": "stream",
     "text": [
      "C:\\Users\\lucio\\AppData\\Local\\Packages\\PythonSoftwareFoundation.Python.3.11_qbz5n2kfra8p0\\LocalCache\\local-packages\\Python311\\site-packages\\statsbombpy\\sb.py:122: FutureWarning: The behavior of DataFrame concatenation with empty or all-NA entries is deprecated. In a future version, this will no longer exclude empty or all-NA columns when determining the result dtypes. To retain the old behavior, exclude the relevant entries before the concat operation.\n",
      "  events = pd.concat([*events.values()], axis=0, ignore_index=True, sort=True)\n"
     ]
    },
    {
     "name": "stdout",
     "output_type": "stream",
     "text": [
      "Partido 3872093 completado\n"
     ]
    },
    {
     "name": "stderr",
     "output_type": "stream",
     "text": [
      "C:\\Users\\lucio\\AppData\\Local\\Packages\\PythonSoftwareFoundation.Python.3.11_qbz5n2kfra8p0\\LocalCache\\local-packages\\Python311\\site-packages\\statsbombpy\\sb.py:122: FutureWarning: The behavior of DataFrame concatenation with empty or all-NA entries is deprecated. In a future version, this will no longer exclude empty or all-NA columns when determining the result dtypes. To retain the old behavior, exclude the relevant entries before the concat operation.\n",
      "  events = pd.concat([*events.values()], axis=0, ignore_index=True, sort=True)\n"
     ]
    },
    {
     "name": "stdout",
     "output_type": "stream",
     "text": [
      "Partido 3872083 completado\n"
     ]
    },
    {
     "name": "stderr",
     "output_type": "stream",
     "text": [
      "C:\\Users\\lucio\\AppData\\Local\\Packages\\PythonSoftwareFoundation.Python.3.11_qbz5n2kfra8p0\\LocalCache\\local-packages\\Python311\\site-packages\\statsbombpy\\sb.py:122: FutureWarning: The behavior of DataFrame concatenation with empty or all-NA entries is deprecated. In a future version, this will no longer exclude empty or all-NA columns when determining the result dtypes. To retain the old behavior, exclude the relevant entries before the concat operation.\n",
      "  events = pd.concat([*events.values()], axis=0, ignore_index=True, sort=True)\n"
     ]
    },
    {
     "name": "stdout",
     "output_type": "stream",
     "text": [
      "Partido 3872081 completado\n"
     ]
    },
    {
     "name": "stderr",
     "output_type": "stream",
     "text": [
      "C:\\Users\\lucio\\AppData\\Local\\Packages\\PythonSoftwareFoundation.Python.3.11_qbz5n2kfra8p0\\LocalCache\\local-packages\\Python311\\site-packages\\statsbombpy\\sb.py:122: FutureWarning: The behavior of DataFrame concatenation with empty or all-NA entries is deprecated. In a future version, this will no longer exclude empty or all-NA columns when determining the result dtypes. To retain the old behavior, exclude the relevant entries before the concat operation.\n",
      "  events = pd.concat([*events.values()], axis=0, ignore_index=True, sort=True)\n"
     ]
    },
    {
     "name": "stdout",
     "output_type": "stream",
     "text": [
      "Partido 3872086 completado\n"
     ]
    },
    {
     "name": "stderr",
     "output_type": "stream",
     "text": [
      "C:\\Users\\lucio\\AppData\\Local\\Packages\\PythonSoftwareFoundation.Python.3.11_qbz5n2kfra8p0\\LocalCache\\local-packages\\Python311\\site-packages\\statsbombpy\\sb.py:122: FutureWarning: The behavior of DataFrame concatenation with empty or all-NA entries is deprecated. In a future version, this will no longer exclude empty or all-NA columns when determining the result dtypes. To retain the old behavior, exclude the relevant entries before the concat operation.\n",
      "  events = pd.concat([*events.values()], axis=0, ignore_index=True, sort=True)\n"
     ]
    },
    {
     "name": "stdout",
     "output_type": "stream",
     "text": [
      "Partido 3872079 completado\n"
     ]
    },
    {
     "name": "stderr",
     "output_type": "stream",
     "text": [
      "C:\\Users\\lucio\\AppData\\Local\\Packages\\PythonSoftwareFoundation.Python.3.11_qbz5n2kfra8p0\\LocalCache\\local-packages\\Python311\\site-packages\\statsbombpy\\sb.py:122: FutureWarning: The behavior of DataFrame concatenation with empty or all-NA entries is deprecated. In a future version, this will no longer exclude empty or all-NA columns when determining the result dtypes. To retain the old behavior, exclude the relevant entries before the concat operation.\n",
      "  events = pd.concat([*events.values()], axis=0, ignore_index=True, sort=True)\n"
     ]
    },
    {
     "name": "stdout",
     "output_type": "stream",
     "text": [
      "Partido 3872063 completado\n"
     ]
    },
    {
     "name": "stderr",
     "output_type": "stream",
     "text": [
      "C:\\Users\\lucio\\AppData\\Local\\Packages\\PythonSoftwareFoundation.Python.3.11_qbz5n2kfra8p0\\LocalCache\\local-packages\\Python311\\site-packages\\statsbombpy\\sb.py:122: FutureWarning: The behavior of DataFrame concatenation with empty or all-NA entries is deprecated. In a future version, this will no longer exclude empty or all-NA columns when determining the result dtypes. To retain the old behavior, exclude the relevant entries before the concat operation.\n",
      "  events = pd.concat([*events.values()], axis=0, ignore_index=True, sort=True)\n"
     ]
    },
    {
     "name": "stdout",
     "output_type": "stream",
     "text": [
      "Partido 3872068 completado\n"
     ]
    },
    {
     "name": "stderr",
     "output_type": "stream",
     "text": [
      "C:\\Users\\lucio\\AppData\\Local\\Packages\\PythonSoftwareFoundation.Python.3.11_qbz5n2kfra8p0\\LocalCache\\local-packages\\Python311\\site-packages\\statsbombpy\\sb.py:122: FutureWarning: The behavior of DataFrame concatenation with empty or all-NA entries is deprecated. In a future version, this will no longer exclude empty or all-NA columns when determining the result dtypes. To retain the old behavior, exclude the relevant entries before the concat operation.\n",
      "  events = pd.concat([*events.values()], axis=0, ignore_index=True, sort=True)\n"
     ]
    },
    {
     "name": "stdout",
     "output_type": "stream",
     "text": [
      "Partido 3872057 completado\n"
     ]
    },
    {
     "name": "stderr",
     "output_type": "stream",
     "text": [
      "C:\\Users\\lucio\\AppData\\Local\\Packages\\PythonSoftwareFoundation.Python.3.11_qbz5n2kfra8p0\\LocalCache\\local-packages\\Python311\\site-packages\\statsbombpy\\sb.py:122: FutureWarning: The behavior of DataFrame concatenation with empty or all-NA entries is deprecated. In a future version, this will no longer exclude empty or all-NA columns when determining the result dtypes. To retain the old behavior, exclude the relevant entries before the concat operation.\n",
      "  events = pd.concat([*events.values()], axis=0, ignore_index=True, sort=True)\n"
     ]
    },
    {
     "name": "stdout",
     "output_type": "stream",
     "text": [
      "Partido 3872059 completado\n"
     ]
    },
    {
     "name": "stderr",
     "output_type": "stream",
     "text": [
      "C:\\Users\\lucio\\AppData\\Local\\Packages\\PythonSoftwareFoundation.Python.3.11_qbz5n2kfra8p0\\LocalCache\\local-packages\\Python311\\site-packages\\statsbombpy\\sb.py:122: FutureWarning: The behavior of DataFrame concatenation with empty or all-NA entries is deprecated. In a future version, this will no longer exclude empty or all-NA columns when determining the result dtypes. To retain the old behavior, exclude the relevant entries before the concat operation.\n",
      "  events = pd.concat([*events.values()], axis=0, ignore_index=True, sort=True)\n"
     ]
    },
    {
     "name": "stdout",
     "output_type": "stream",
     "text": [
      "Partido 3872040 completado\n"
     ]
    },
    {
     "name": "stderr",
     "output_type": "stream",
     "text": [
      "C:\\Users\\lucio\\AppData\\Local\\Packages\\PythonSoftwareFoundation.Python.3.11_qbz5n2kfra8p0\\LocalCache\\local-packages\\Python311\\site-packages\\statsbombpy\\sb.py:122: FutureWarning: The behavior of DataFrame concatenation with empty or all-NA entries is deprecated. In a future version, this will no longer exclude empty or all-NA columns when determining the result dtypes. To retain the old behavior, exclude the relevant entries before the concat operation.\n",
      "  events = pd.concat([*events.values()], axis=0, ignore_index=True, sort=True)\n"
     ]
    },
    {
     "name": "stdout",
     "output_type": "stream",
     "text": [
      "Partido 3872048 completado\n"
     ]
    },
    {
     "name": "stderr",
     "output_type": "stream",
     "text": [
      "C:\\Users\\lucio\\AppData\\Local\\Packages\\PythonSoftwareFoundation.Python.3.11_qbz5n2kfra8p0\\LocalCache\\local-packages\\Python311\\site-packages\\statsbombpy\\sb.py:122: FutureWarning: The behavior of DataFrame concatenation with empty or all-NA entries is deprecated. In a future version, this will no longer exclude empty or all-NA columns when determining the result dtypes. To retain the old behavior, exclude the relevant entries before the concat operation.\n",
      "  events = pd.concat([*events.values()], axis=0, ignore_index=True, sort=True)\n"
     ]
    },
    {
     "name": "stdout",
     "output_type": "stream",
     "text": [
      "Partido 3872047 completado\n"
     ]
    },
    {
     "name": "stderr",
     "output_type": "stream",
     "text": [
      "C:\\Users\\lucio\\AppData\\Local\\Packages\\PythonSoftwareFoundation.Python.3.11_qbz5n2kfra8p0\\LocalCache\\local-packages\\Python311\\site-packages\\statsbombpy\\sb.py:122: FutureWarning: The behavior of DataFrame concatenation with empty or all-NA entries is deprecated. In a future version, this will no longer exclude empty or all-NA columns when determining the result dtypes. To retain the old behavior, exclude the relevant entries before the concat operation.\n",
      "  events = pd.concat([*events.values()], axis=0, ignore_index=True, sort=True)\n"
     ]
    },
    {
     "name": "stdout",
     "output_type": "stream",
     "text": [
      "Partido 3872049 completado\n"
     ]
    },
    {
     "name": "stderr",
     "output_type": "stream",
     "text": [
      "C:\\Users\\lucio\\AppData\\Local\\Packages\\PythonSoftwareFoundation.Python.3.11_qbz5n2kfra8p0\\LocalCache\\local-packages\\Python311\\site-packages\\statsbombpy\\sb.py:122: FutureWarning: The behavior of DataFrame concatenation with empty or all-NA entries is deprecated. In a future version, this will no longer exclude empty or all-NA columns when determining the result dtypes. To retain the old behavior, exclude the relevant entries before the concat operation.\n",
      "  events = pd.concat([*events.values()], axis=0, ignore_index=True, sort=True)\n"
     ]
    },
    {
     "name": "stdout",
     "output_type": "stream",
     "text": [
      "Partido 3872033 completado\n"
     ]
    },
    {
     "name": "stderr",
     "output_type": "stream",
     "text": [
      "C:\\Users\\lucio\\AppData\\Local\\Packages\\PythonSoftwareFoundation.Python.3.11_qbz5n2kfra8p0\\LocalCache\\local-packages\\Python311\\site-packages\\statsbombpy\\sb.py:122: FutureWarning: The behavior of DataFrame concatenation with empty or all-NA entries is deprecated. In a future version, this will no longer exclude empty or all-NA columns when determining the result dtypes. To retain the old behavior, exclude the relevant entries before the concat operation.\n",
      "  events = pd.concat([*events.values()], axis=0, ignore_index=True, sort=True)\n"
     ]
    },
    {
     "name": "stdout",
     "output_type": "stream",
     "text": [
      "Partido 3872055 completado\n"
     ]
    },
    {
     "name": "stderr",
     "output_type": "stream",
     "text": [
      "C:\\Users\\lucio\\AppData\\Local\\Packages\\PythonSoftwareFoundation.Python.3.11_qbz5n2kfra8p0\\LocalCache\\local-packages\\Python311\\site-packages\\statsbombpy\\sb.py:122: FutureWarning: The behavior of DataFrame concatenation with empty or all-NA entries is deprecated. In a future version, this will no longer exclude empty or all-NA columns when determining the result dtypes. To retain the old behavior, exclude the relevant entries before the concat operation.\n",
      "  events = pd.concat([*events.values()], axis=0, ignore_index=True, sort=True)\n"
     ]
    },
    {
     "name": "stdout",
     "output_type": "stream",
     "text": [
      "Partido 3872056 completado\n"
     ]
    },
    {
     "name": "stderr",
     "output_type": "stream",
     "text": [
      "C:\\Users\\lucio\\AppData\\Local\\Packages\\PythonSoftwareFoundation.Python.3.11_qbz5n2kfra8p0\\LocalCache\\local-packages\\Python311\\site-packages\\statsbombpy\\sb.py:122: FutureWarning: The behavior of DataFrame concatenation with empty or all-NA entries is deprecated. In a future version, this will no longer exclude empty or all-NA columns when determining the result dtypes. To retain the old behavior, exclude the relevant entries before the concat operation.\n",
      "  events = pd.concat([*events.values()], axis=0, ignore_index=True, sort=True)\n"
     ]
    },
    {
     "name": "stdout",
     "output_type": "stream",
     "text": [
      "Partido 3872058 completado\n"
     ]
    },
    {
     "name": "stderr",
     "output_type": "stream",
     "text": [
      "C:\\Users\\lucio\\AppData\\Local\\Packages\\PythonSoftwareFoundation.Python.3.11_qbz5n2kfra8p0\\LocalCache\\local-packages\\Python311\\site-packages\\statsbombpy\\sb.py:122: FutureWarning: The behavior of DataFrame concatenation with empty or all-NA entries is deprecated. In a future version, this will no longer exclude empty or all-NA columns when determining the result dtypes. To retain the old behavior, exclude the relevant entries before the concat operation.\n",
      "  events = pd.concat([*events.values()], axis=0, ignore_index=True, sort=True)\n"
     ]
    },
    {
     "name": "stdout",
     "output_type": "stream",
     "text": [
      "Partido 3872034 completado\n"
     ]
    },
    {
     "name": "stderr",
     "output_type": "stream",
     "text": [
      "C:\\Users\\lucio\\AppData\\Local\\Packages\\PythonSoftwareFoundation.Python.3.11_qbz5n2kfra8p0\\LocalCache\\local-packages\\Python311\\site-packages\\statsbombpy\\sb.py:122: FutureWarning: The behavior of DataFrame concatenation with empty or all-NA entries is deprecated. In a future version, this will no longer exclude empty or all-NA columns when determining the result dtypes. To retain the old behavior, exclude the relevant entries before the concat operation.\n",
      "  events = pd.concat([*events.values()], axis=0, ignore_index=True, sort=True)\n"
     ]
    },
    {
     "name": "stdout",
     "output_type": "stream",
     "text": [
      "Partido 3872025 completado\n"
     ]
    },
    {
     "name": "stderr",
     "output_type": "stream",
     "text": [
      "C:\\Users\\lucio\\AppData\\Local\\Packages\\PythonSoftwareFoundation.Python.3.11_qbz5n2kfra8p0\\LocalCache\\local-packages\\Python311\\site-packages\\statsbombpy\\sb.py:122: FutureWarning: The behavior of DataFrame concatenation with empty or all-NA entries is deprecated. In a future version, this will no longer exclude empty or all-NA columns when determining the result dtypes. To retain the old behavior, exclude the relevant entries before the concat operation.\n",
      "  events = pd.concat([*events.values()], axis=0, ignore_index=True, sort=True)\n"
     ]
    },
    {
     "name": "stdout",
     "output_type": "stream",
     "text": [
      "Partido 3872030 completado\n"
     ]
    },
    {
     "name": "stderr",
     "output_type": "stream",
     "text": [
      "C:\\Users\\lucio\\AppData\\Local\\Packages\\PythonSoftwareFoundation.Python.3.11_qbz5n2kfra8p0\\LocalCache\\local-packages\\Python311\\site-packages\\statsbombpy\\sb.py:122: FutureWarning: The behavior of DataFrame concatenation with empty or all-NA entries is deprecated. In a future version, this will no longer exclude empty or all-NA columns when determining the result dtypes. To retain the old behavior, exclude the relevant entries before the concat operation.\n",
      "  events = pd.concat([*events.values()], axis=0, ignore_index=True, sort=True)\n"
     ]
    },
    {
     "name": "stdout",
     "output_type": "stream",
     "text": [
      "Partido 3872024 completado\n"
     ]
    },
    {
     "name": "stderr",
     "output_type": "stream",
     "text": [
      "C:\\Users\\lucio\\AppData\\Local\\Packages\\PythonSoftwareFoundation.Python.3.11_qbz5n2kfra8p0\\LocalCache\\local-packages\\Python311\\site-packages\\statsbombpy\\sb.py:122: FutureWarning: The behavior of DataFrame concatenation with empty or all-NA entries is deprecated. In a future version, this will no longer exclude empty or all-NA columns when determining the result dtypes. To retain the old behavior, exclude the relevant entries before the concat operation.\n",
      "  events = pd.concat([*events.values()], axis=0, ignore_index=True, sort=True)\n"
     ]
    },
    {
     "name": "stdout",
     "output_type": "stream",
     "text": [
      "Partido 3872050 completado\n"
     ]
    },
    {
     "name": "stderr",
     "output_type": "stream",
     "text": [
      "C:\\Users\\lucio\\AppData\\Local\\Packages\\PythonSoftwareFoundation.Python.3.11_qbz5n2kfra8p0\\LocalCache\\local-packages\\Python311\\site-packages\\statsbombpy\\sb.py:122: FutureWarning: The behavior of DataFrame concatenation with empty or all-NA entries is deprecated. In a future version, this will no longer exclude empty or all-NA columns when determining the result dtypes. To retain the old behavior, exclude the relevant entries before the concat operation.\n",
      "  events = pd.concat([*events.values()], axis=0, ignore_index=True, sort=True)\n"
     ]
    },
    {
     "name": "stdout",
     "output_type": "stream",
     "text": [
      "Partido 3872046 completado\n"
     ]
    },
    {
     "name": "stderr",
     "output_type": "stream",
     "text": [
      "C:\\Users\\lucio\\AppData\\Local\\Packages\\PythonSoftwareFoundation.Python.3.11_qbz5n2kfra8p0\\LocalCache\\local-packages\\Python311\\site-packages\\statsbombpy\\sb.py:122: FutureWarning: The behavior of DataFrame concatenation with empty or all-NA entries is deprecated. In a future version, this will no longer exclude empty or all-NA columns when determining the result dtypes. To retain the old behavior, exclude the relevant entries before the concat operation.\n",
      "  events = pd.concat([*events.values()], axis=0, ignore_index=True, sort=True)\n"
     ]
    },
    {
     "name": "stdout",
     "output_type": "stream",
     "text": [
      "Partido 3872043 completado\n"
     ]
    },
    {
     "name": "stderr",
     "output_type": "stream",
     "text": [
      "C:\\Users\\lucio\\AppData\\Local\\Packages\\PythonSoftwareFoundation.Python.3.11_qbz5n2kfra8p0\\LocalCache\\local-packages\\Python311\\site-packages\\statsbombpy\\sb.py:122: FutureWarning: The behavior of DataFrame concatenation with empty or all-NA entries is deprecated. In a future version, this will no longer exclude empty or all-NA columns when determining the result dtypes. To retain the old behavior, exclude the relevant entries before the concat operation.\n",
      "  events = pd.concat([*events.values()], axis=0, ignore_index=True, sort=True)\n"
     ]
    },
    {
     "name": "stdout",
     "output_type": "stream",
     "text": [
      "Partido 3872026 completado\n"
     ]
    },
    {
     "name": "stderr",
     "output_type": "stream",
     "text": [
      "C:\\Users\\lucio\\AppData\\Local\\Packages\\PythonSoftwareFoundation.Python.3.11_qbz5n2kfra8p0\\LocalCache\\local-packages\\Python311\\site-packages\\statsbombpy\\sb.py:122: FutureWarning: The behavior of DataFrame concatenation with empty or all-NA entries is deprecated. In a future version, this will no longer exclude empty or all-NA columns when determining the result dtypes. To retain the old behavior, exclude the relevant entries before the concat operation.\n",
      "  events = pd.concat([*events.values()], axis=0, ignore_index=True, sort=True)\n"
     ]
    },
    {
     "name": "stdout",
     "output_type": "stream",
     "text": [
      "Partido 3872054 completado\n"
     ]
    },
    {
     "name": "stderr",
     "output_type": "stream",
     "text": [
      "C:\\Users\\lucio\\AppData\\Local\\Packages\\PythonSoftwareFoundation.Python.3.11_qbz5n2kfra8p0\\LocalCache\\local-packages\\Python311\\site-packages\\statsbombpy\\sb.py:122: FutureWarning: The behavior of DataFrame concatenation with empty or all-NA entries is deprecated. In a future version, this will no longer exclude empty or all-NA columns when determining the result dtypes. To retain the old behavior, exclude the relevant entries before the concat operation.\n",
      "  events = pd.concat([*events.values()], axis=0, ignore_index=True, sort=True)\n"
     ]
    },
    {
     "name": "stdout",
     "output_type": "stream",
     "text": [
      "Partido 3872044 completado\n"
     ]
    },
    {
     "name": "stderr",
     "output_type": "stream",
     "text": [
      "C:\\Users\\lucio\\AppData\\Local\\Packages\\PythonSoftwareFoundation.Python.3.11_qbz5n2kfra8p0\\LocalCache\\local-packages\\Python311\\site-packages\\statsbombpy\\sb.py:122: FutureWarning: The behavior of DataFrame concatenation with empty or all-NA entries is deprecated. In a future version, this will no longer exclude empty or all-NA columns when determining the result dtypes. To retain the old behavior, exclude the relevant entries before the concat operation.\n",
      "  events = pd.concat([*events.values()], axis=0, ignore_index=True, sort=True)\n"
     ]
    },
    {
     "name": "stdout",
     "output_type": "stream",
     "text": [
      "Partido 3872019 completado\n"
     ]
    },
    {
     "name": "stderr",
     "output_type": "stream",
     "text": [
      "C:\\Users\\lucio\\AppData\\Local\\Packages\\PythonSoftwareFoundation.Python.3.11_qbz5n2kfra8p0\\LocalCache\\local-packages\\Python311\\site-packages\\statsbombpy\\sb.py:122: FutureWarning: The behavior of DataFrame concatenation with empty or all-NA entries is deprecated. In a future version, this will no longer exclude empty or all-NA columns when determining the result dtypes. To retain the old behavior, exclude the relevant entries before the concat operation.\n",
      "  events = pd.concat([*events.values()], axis=0, ignore_index=True, sort=True)\n"
     ]
    },
    {
     "name": "stdout",
     "output_type": "stream",
     "text": [
      "Partido 3871970 completado\n"
     ]
    },
    {
     "name": "stderr",
     "output_type": "stream",
     "text": [
      "C:\\Users\\lucio\\AppData\\Local\\Packages\\PythonSoftwareFoundation.Python.3.11_qbz5n2kfra8p0\\LocalCache\\local-packages\\Python311\\site-packages\\statsbombpy\\sb.py:122: FutureWarning: The behavior of DataFrame concatenation with empty or all-NA entries is deprecated. In a future version, this will no longer exclude empty or all-NA columns when determining the result dtypes. To retain the old behavior, exclude the relevant entries before the concat operation.\n",
      "  events = pd.concat([*events.values()], axis=0, ignore_index=True, sort=True)\n"
     ]
    },
    {
     "name": "stdout",
     "output_type": "stream",
     "text": [
      "Partido 3871998 completado\n"
     ]
    },
    {
     "name": "stderr",
     "output_type": "stream",
     "text": [
      "C:\\Users\\lucio\\AppData\\Local\\Packages\\PythonSoftwareFoundation.Python.3.11_qbz5n2kfra8p0\\LocalCache\\local-packages\\Python311\\site-packages\\statsbombpy\\sb.py:122: FutureWarning: The behavior of DataFrame concatenation with empty or all-NA entries is deprecated. In a future version, this will no longer exclude empty or all-NA columns when determining the result dtypes. To retain the old behavior, exclude the relevant entries before the concat operation.\n",
      "  events = pd.concat([*events.values()], axis=0, ignore_index=True, sort=True)\n"
     ]
    },
    {
     "name": "stdout",
     "output_type": "stream",
     "text": [
      "Partido 3872039 completado\n"
     ]
    },
    {
     "name": "stderr",
     "output_type": "stream",
     "text": [
      "C:\\Users\\lucio\\AppData\\Local\\Packages\\PythonSoftwareFoundation.Python.3.11_qbz5n2kfra8p0\\LocalCache\\local-packages\\Python311\\site-packages\\statsbombpy\\sb.py:122: FutureWarning: The behavior of DataFrame concatenation with empty or all-NA entries is deprecated. In a future version, this will no longer exclude empty or all-NA columns when determining the result dtypes. To retain the old behavior, exclude the relevant entries before the concat operation.\n",
      "  events = pd.concat([*events.values()], axis=0, ignore_index=True, sort=True)\n"
     ]
    },
    {
     "name": "stdout",
     "output_type": "stream",
     "text": [
      "Partido 3872036 completado\n"
     ]
    },
    {
     "name": "stderr",
     "output_type": "stream",
     "text": [
      "C:\\Users\\lucio\\AppData\\Local\\Packages\\PythonSoftwareFoundation.Python.3.11_qbz5n2kfra8p0\\LocalCache\\local-packages\\Python311\\site-packages\\statsbombpy\\sb.py:122: FutureWarning: The behavior of DataFrame concatenation with empty or all-NA entries is deprecated. In a future version, this will no longer exclude empty or all-NA columns when determining the result dtypes. To retain the old behavior, exclude the relevant entries before the concat operation.\n",
      "  events = pd.concat([*events.values()], axis=0, ignore_index=True, sort=True)\n"
     ]
    },
    {
     "name": "stdout",
     "output_type": "stream",
     "text": [
      "Partido 3872031 completado\n"
     ]
    },
    {
     "name": "stderr",
     "output_type": "stream",
     "text": [
      "C:\\Users\\lucio\\AppData\\Local\\Packages\\PythonSoftwareFoundation.Python.3.11_qbz5n2kfra8p0\\LocalCache\\local-packages\\Python311\\site-packages\\statsbombpy\\sb.py:122: FutureWarning: The behavior of DataFrame concatenation with empty or all-NA entries is deprecated. In a future version, this will no longer exclude empty or all-NA columns when determining the result dtypes. To retain the old behavior, exclude the relevant entries before the concat operation.\n",
      "  events = pd.concat([*events.values()], axis=0, ignore_index=True, sort=True)\n"
     ]
    },
    {
     "name": "stdout",
     "output_type": "stream",
     "text": [
      "Partido 3872027 completado\n"
     ]
    },
    {
     "name": "stderr",
     "output_type": "stream",
     "text": [
      "C:\\Users\\lucio\\AppData\\Local\\Packages\\PythonSoftwareFoundation.Python.3.11_qbz5n2kfra8p0\\LocalCache\\local-packages\\Python311\\site-packages\\statsbombpy\\sb.py:122: FutureWarning: The behavior of DataFrame concatenation with empty or all-NA entries is deprecated. In a future version, this will no longer exclude empty or all-NA columns when determining the result dtypes. To retain the old behavior, exclude the relevant entries before the concat operation.\n",
      "  events = pd.concat([*events.values()], axis=0, ignore_index=True, sort=True)\n"
     ]
    },
    {
     "name": "stdout",
     "output_type": "stream",
     "text": [
      "Partido 3872021 completado\n"
     ]
    },
    {
     "name": "stderr",
     "output_type": "stream",
     "text": [
      "C:\\Users\\lucio\\AppData\\Local\\Packages\\PythonSoftwareFoundation.Python.3.11_qbz5n2kfra8p0\\LocalCache\\local-packages\\Python311\\site-packages\\statsbombpy\\sb.py:122: FutureWarning: The behavior of DataFrame concatenation with empty or all-NA entries is deprecated. In a future version, this will no longer exclude empty or all-NA columns when determining the result dtypes. To retain the old behavior, exclude the relevant entries before the concat operation.\n",
      "  events = pd.concat([*events.values()], axis=0, ignore_index=True, sort=True)\n"
     ]
    },
    {
     "name": "stdout",
     "output_type": "stream",
     "text": [
      "Partido 3872045 completado\n"
     ]
    },
    {
     "name": "stderr",
     "output_type": "stream",
     "text": [
      "C:\\Users\\lucio\\AppData\\Local\\Packages\\PythonSoftwareFoundation.Python.3.11_qbz5n2kfra8p0\\LocalCache\\local-packages\\Python311\\site-packages\\statsbombpy\\sb.py:122: FutureWarning: The behavior of DataFrame concatenation with empty or all-NA entries is deprecated. In a future version, this will no longer exclude empty or all-NA columns when determining the result dtypes. To retain the old behavior, exclude the relevant entries before the concat operation.\n",
      "  events = pd.concat([*events.values()], axis=0, ignore_index=True, sort=True)\n"
     ]
    },
    {
     "name": "stdout",
     "output_type": "stream",
     "text": [
      "Partido 3872010 completado\n"
     ]
    },
    {
     "name": "stderr",
     "output_type": "stream",
     "text": [
      "C:\\Users\\lucio\\AppData\\Local\\Packages\\PythonSoftwareFoundation.Python.3.11_qbz5n2kfra8p0\\LocalCache\\local-packages\\Python311\\site-packages\\statsbombpy\\sb.py:122: FutureWarning: The behavior of DataFrame concatenation with empty or all-NA entries is deprecated. In a future version, this will no longer exclude empty or all-NA columns when determining the result dtypes. To retain the old behavior, exclude the relevant entries before the concat operation.\n",
      "  events = pd.concat([*events.values()], axis=0, ignore_index=True, sort=True)\n"
     ]
    },
    {
     "name": "stdout",
     "output_type": "stream",
     "text": [
      "Partido 3872009 completado\n"
     ]
    },
    {
     "name": "stderr",
     "output_type": "stream",
     "text": [
      "C:\\Users\\lucio\\AppData\\Local\\Packages\\PythonSoftwareFoundation.Python.3.11_qbz5n2kfra8p0\\LocalCache\\local-packages\\Python311\\site-packages\\statsbombpy\\sb.py:122: FutureWarning: The behavior of DataFrame concatenation with empty or all-NA entries is deprecated. In a future version, this will no longer exclude empty or all-NA columns when determining the result dtypes. To retain the old behavior, exclude the relevant entries before the concat operation.\n",
      "  events = pd.concat([*events.values()], axis=0, ignore_index=True, sort=True)\n"
     ]
    },
    {
     "name": "stdout",
     "output_type": "stream",
     "text": [
      "Partido 3871984 completado\n"
     ]
    },
    {
     "name": "stderr",
     "output_type": "stream",
     "text": [
      "C:\\Users\\lucio\\AppData\\Local\\Packages\\PythonSoftwareFoundation.Python.3.11_qbz5n2kfra8p0\\LocalCache\\local-packages\\Python311\\site-packages\\statsbombpy\\sb.py:122: FutureWarning: The behavior of DataFrame concatenation with empty or all-NA entries is deprecated. In a future version, this will no longer exclude empty or all-NA columns when determining the result dtypes. To retain the old behavior, exclude the relevant entries before the concat operation.\n",
      "  events = pd.concat([*events.values()], axis=0, ignore_index=True, sort=True)\n"
     ]
    },
    {
     "name": "stdout",
     "output_type": "stream",
     "text": [
      "Partido 3871997 completado\n"
     ]
    },
    {
     "name": "stderr",
     "output_type": "stream",
     "text": [
      "C:\\Users\\lucio\\AppData\\Local\\Packages\\PythonSoftwareFoundation.Python.3.11_qbz5n2kfra8p0\\LocalCache\\local-packages\\Python311\\site-packages\\statsbombpy\\sb.py:122: FutureWarning: The behavior of DataFrame concatenation with empty or all-NA entries is deprecated. In a future version, this will no longer exclude empty or all-NA columns when determining the result dtypes. To retain the old behavior, exclude the relevant entries before the concat operation.\n",
      "  events = pd.concat([*events.values()], axis=0, ignore_index=True, sort=True)\n"
     ]
    },
    {
     "name": "stdout",
     "output_type": "stream",
     "text": [
      "Partido 3871983 completado\n"
     ]
    },
    {
     "name": "stderr",
     "output_type": "stream",
     "text": [
      "C:\\Users\\lucio\\AppData\\Local\\Packages\\PythonSoftwareFoundation.Python.3.11_qbz5n2kfra8p0\\LocalCache\\local-packages\\Python311\\site-packages\\statsbombpy\\sb.py:122: FutureWarning: The behavior of DataFrame concatenation with empty or all-NA entries is deprecated. In a future version, this will no longer exclude empty or all-NA columns when determining the result dtypes. To retain the old behavior, exclude the relevant entries before the concat operation.\n",
      "  events = pd.concat([*events.values()], axis=0, ignore_index=True, sort=True)\n"
     ]
    },
    {
     "name": "stdout",
     "output_type": "stream",
     "text": [
      "Partido 3871972 completado\n"
     ]
    },
    {
     "name": "stderr",
     "output_type": "stream",
     "text": [
      "C:\\Users\\lucio\\AppData\\Local\\Packages\\PythonSoftwareFoundation.Python.3.11_qbz5n2kfra8p0\\LocalCache\\local-packages\\Python311\\site-packages\\statsbombpy\\sb.py:122: FutureWarning: The behavior of DataFrame concatenation with empty or all-NA entries is deprecated. In a future version, this will no longer exclude empty or all-NA columns when determining the result dtypes. To retain the old behavior, exclude the relevant entries before the concat operation.\n",
      "  events = pd.concat([*events.values()], axis=0, ignore_index=True, sort=True)\n"
     ]
    },
    {
     "name": "stdout",
     "output_type": "stream",
     "text": [
      "Partido 3872005 completado\n"
     ]
    },
    {
     "name": "stderr",
     "output_type": "stream",
     "text": [
      "C:\\Users\\lucio\\AppData\\Local\\Packages\\PythonSoftwareFoundation.Python.3.11_qbz5n2kfra8p0\\LocalCache\\local-packages\\Python311\\site-packages\\statsbombpy\\sb.py:122: FutureWarning: The behavior of DataFrame concatenation with empty or all-NA entries is deprecated. In a future version, this will no longer exclude empty or all-NA columns when determining the result dtypes. To retain the old behavior, exclude the relevant entries before the concat operation.\n",
      "  events = pd.concat([*events.values()], axis=0, ignore_index=True, sort=True)\n"
     ]
    },
    {
     "name": "stdout",
     "output_type": "stream",
     "text": [
      "Partido 3871987 completado\n"
     ]
    },
    {
     "name": "stderr",
     "output_type": "stream",
     "text": [
      "C:\\Users\\lucio\\AppData\\Local\\Packages\\PythonSoftwareFoundation.Python.3.11_qbz5n2kfra8p0\\LocalCache\\local-packages\\Python311\\site-packages\\statsbombpy\\sb.py:122: FutureWarning: The behavior of DataFrame concatenation with empty or all-NA entries is deprecated. In a future version, this will no longer exclude empty or all-NA columns when determining the result dtypes. To retain the old behavior, exclude the relevant entries before the concat operation.\n",
      "  events = pd.concat([*events.values()], axis=0, ignore_index=True, sort=True)\n"
     ]
    },
    {
     "name": "stdout",
     "output_type": "stream",
     "text": [
      "Partido 3871975 completado\n"
     ]
    },
    {
     "name": "stderr",
     "output_type": "stream",
     "text": [
      "C:\\Users\\lucio\\AppData\\Local\\Packages\\PythonSoftwareFoundation.Python.3.11_qbz5n2kfra8p0\\LocalCache\\local-packages\\Python311\\site-packages\\statsbombpy\\sb.py:122: FutureWarning: The behavior of DataFrame concatenation with empty or all-NA entries is deprecated. In a future version, this will no longer exclude empty or all-NA columns when determining the result dtypes. To retain the old behavior, exclude the relevant entries before the concat operation.\n",
      "  events = pd.concat([*events.values()], axis=0, ignore_index=True, sort=True)\n"
     ]
    },
    {
     "name": "stdout",
     "output_type": "stream",
     "text": [
      "Partido 3871981 completado\n"
     ]
    },
    {
     "name": "stderr",
     "output_type": "stream",
     "text": [
      "C:\\Users\\lucio\\AppData\\Local\\Packages\\PythonSoftwareFoundation.Python.3.11_qbz5n2kfra8p0\\LocalCache\\local-packages\\Python311\\site-packages\\statsbombpy\\sb.py:122: FutureWarning: The behavior of DataFrame concatenation with empty or all-NA entries is deprecated. In a future version, this will no longer exclude empty or all-NA columns when determining the result dtypes. To retain the old behavior, exclude the relevant entries before the concat operation.\n",
      "  events = pd.concat([*events.values()], axis=0, ignore_index=True, sort=True)\n"
     ]
    },
    {
     "name": "stdout",
     "output_type": "stream",
     "text": [
      "Partido 3871982 completado\n"
     ]
    },
    {
     "name": "stderr",
     "output_type": "stream",
     "text": [
      "C:\\Users\\lucio\\AppData\\Local\\Packages\\PythonSoftwareFoundation.Python.3.11_qbz5n2kfra8p0\\LocalCache\\local-packages\\Python311\\site-packages\\statsbombpy\\sb.py:122: FutureWarning: The behavior of DataFrame concatenation with empty or all-NA entries is deprecated. In a future version, this will no longer exclude empty or all-NA columns when determining the result dtypes. To retain the old behavior, exclude the relevant entries before the concat operation.\n",
      "  events = pd.concat([*events.values()], axis=0, ignore_index=True, sort=True)\n"
     ]
    },
    {
     "name": "stdout",
     "output_type": "stream",
     "text": [
      "Partido 3871978 completado\n"
     ]
    },
    {
     "name": "stderr",
     "output_type": "stream",
     "text": [
      "C:\\Users\\lucio\\AppData\\Local\\Packages\\PythonSoftwareFoundation.Python.3.11_qbz5n2kfra8p0\\LocalCache\\local-packages\\Python311\\site-packages\\statsbombpy\\sb.py:122: FutureWarning: The behavior of DataFrame concatenation with empty or all-NA entries is deprecated. In a future version, this will no longer exclude empty or all-NA columns when determining the result dtypes. To retain the old behavior, exclude the relevant entries before the concat operation.\n",
      "  events = pd.concat([*events.values()], axis=0, ignore_index=True, sort=True)\n"
     ]
    },
    {
     "name": "stdout",
     "output_type": "stream",
     "text": [
      "Partido 3871964 completado\n"
     ]
    },
    {
     "name": "stderr",
     "output_type": "stream",
     "text": [
      "C:\\Users\\lucio\\AppData\\Local\\Packages\\PythonSoftwareFoundation.Python.3.11_qbz5n2kfra8p0\\LocalCache\\local-packages\\Python311\\site-packages\\statsbombpy\\sb.py:122: FutureWarning: The behavior of DataFrame concatenation with empty or all-NA entries is deprecated. In a future version, this will no longer exclude empty or all-NA columns when determining the result dtypes. To retain the old behavior, exclude the relevant entries before the concat operation.\n",
      "  events = pd.concat([*events.values()], axis=0, ignore_index=True, sort=True)\n"
     ]
    },
    {
     "name": "stdout",
     "output_type": "stream",
     "text": [
      "Partido 3871980 completado\n"
     ]
    },
    {
     "name": "stderr",
     "output_type": "stream",
     "text": [
      "C:\\Users\\lucio\\AppData\\Local\\Packages\\PythonSoftwareFoundation.Python.3.11_qbz5n2kfra8p0\\LocalCache\\local-packages\\Python311\\site-packages\\statsbombpy\\sb.py:122: FutureWarning: The behavior of DataFrame concatenation with empty or all-NA entries is deprecated. In a future version, this will no longer exclude empty or all-NA columns when determining the result dtypes. To retain the old behavior, exclude the relevant entries before the concat operation.\n",
      "  events = pd.concat([*events.values()], axis=0, ignore_index=True, sort=True)\n"
     ]
    },
    {
     "name": "stdout",
     "output_type": "stream",
     "text": [
      "Partido 3871996 completado\n"
     ]
    },
    {
     "name": "stderr",
     "output_type": "stream",
     "text": [
      "C:\\Users\\lucio\\AppData\\Local\\Packages\\PythonSoftwareFoundation.Python.3.11_qbz5n2kfra8p0\\LocalCache\\local-packages\\Python311\\site-packages\\statsbombpy\\sb.py:122: FutureWarning: The behavior of DataFrame concatenation with empty or all-NA entries is deprecated. In a future version, this will no longer exclude empty or all-NA columns when determining the result dtypes. To retain the old behavior, exclude the relevant entries before the concat operation.\n",
      "  events = pd.concat([*events.values()], axis=0, ignore_index=True, sort=True)\n"
     ]
    },
    {
     "name": "stdout",
     "output_type": "stream",
     "text": [
      "Partido 3871991 completado\n"
     ]
    },
    {
     "name": "stderr",
     "output_type": "stream",
     "text": [
      "C:\\Users\\lucio\\AppData\\Local\\Packages\\PythonSoftwareFoundation.Python.3.11_qbz5n2kfra8p0\\LocalCache\\local-packages\\Python311\\site-packages\\statsbombpy\\sb.py:122: FutureWarning: The behavior of DataFrame concatenation with empty or all-NA entries is deprecated. In a future version, this will no longer exclude empty or all-NA columns when determining the result dtypes. To retain the old behavior, exclude the relevant entries before the concat operation.\n",
      "  events = pd.concat([*events.values()], axis=0, ignore_index=True, sort=True)\n"
     ]
    },
    {
     "name": "stdout",
     "output_type": "stream",
     "text": [
      "Partido 3871994 completado\n"
     ]
    },
    {
     "name": "stderr",
     "output_type": "stream",
     "text": [
      "C:\\Users\\lucio\\AppData\\Local\\Packages\\PythonSoftwareFoundation.Python.3.11_qbz5n2kfra8p0\\LocalCache\\local-packages\\Python311\\site-packages\\statsbombpy\\sb.py:122: FutureWarning: The behavior of DataFrame concatenation with empty or all-NA entries is deprecated. In a future version, this will no longer exclude empty or all-NA columns when determining the result dtypes. To retain the old behavior, exclude the relevant entries before the concat operation.\n",
      "  events = pd.concat([*events.values()], axis=0, ignore_index=True, sort=True)\n"
     ]
    },
    {
     "name": "stdout",
     "output_type": "stream",
     "text": [
      "Partido 3871995 completado\n"
     ]
    },
    {
     "name": "stderr",
     "output_type": "stream",
     "text": [
      "C:\\Users\\lucio\\AppData\\Local\\Packages\\PythonSoftwareFoundation.Python.3.11_qbz5n2kfra8p0\\LocalCache\\local-packages\\Python311\\site-packages\\statsbombpy\\sb.py:122: FutureWarning: The behavior of DataFrame concatenation with empty or all-NA entries is deprecated. In a future version, this will no longer exclude empty or all-NA columns when determining the result dtypes. To retain the old behavior, exclude the relevant entries before the concat operation.\n",
      "  events = pd.concat([*events.values()], axis=0, ignore_index=True, sort=True)\n"
     ]
    },
    {
     "name": "stdout",
     "output_type": "stream",
     "text": [
      "Partido 3872182 completado\n"
     ]
    },
    {
     "name": "stderr",
     "output_type": "stream",
     "text": [
      "C:\\Users\\lucio\\AppData\\Local\\Packages\\PythonSoftwareFoundation.Python.3.11_qbz5n2kfra8p0\\LocalCache\\local-packages\\Python311\\site-packages\\statsbombpy\\sb.py:122: FutureWarning: The behavior of DataFrame concatenation with empty or all-NA entries is deprecated. In a future version, this will no longer exclude empty or all-NA columns when determining the result dtypes. To retain the old behavior, exclude the relevant entries before the concat operation.\n",
      "  events = pd.concat([*events.values()], axis=0, ignore_index=True, sort=True)\n"
     ]
    },
    {
     "name": "stdout",
     "output_type": "stream",
     "text": [
      "Partido 3872181 completado\n"
     ]
    },
    {
     "name": "stderr",
     "output_type": "stream",
     "text": [
      "C:\\Users\\lucio\\AppData\\Local\\Packages\\PythonSoftwareFoundation.Python.3.11_qbz5n2kfra8p0\\LocalCache\\local-packages\\Python311\\site-packages\\statsbombpy\\sb.py:122: FutureWarning: The behavior of DataFrame concatenation with empty or all-NA entries is deprecated. In a future version, this will no longer exclude empty or all-NA columns when determining the result dtypes. To retain the old behavior, exclude the relevant entries before the concat operation.\n",
      "  events = pd.concat([*events.values()], axis=0, ignore_index=True, sort=True)\n"
     ]
    },
    {
     "name": "stdout",
     "output_type": "stream",
     "text": [
      "Partido 3872180 completado\n"
     ]
    },
    {
     "name": "stderr",
     "output_type": "stream",
     "text": [
      "C:\\Users\\lucio\\AppData\\Local\\Packages\\PythonSoftwareFoundation.Python.3.11_qbz5n2kfra8p0\\LocalCache\\local-packages\\Python311\\site-packages\\statsbombpy\\sb.py:122: FutureWarning: The behavior of DataFrame concatenation with empty or all-NA entries is deprecated. In a future version, this will no longer exclude empty or all-NA columns when determining the result dtypes. To retain the old behavior, exclude the relevant entries before the concat operation.\n",
      "  events = pd.concat([*events.values()], axis=0, ignore_index=True, sort=True)\n"
     ]
    },
    {
     "name": "stdout",
     "output_type": "stream",
     "text": [
      "Partido 3872179 completado\n"
     ]
    },
    {
     "name": "stderr",
     "output_type": "stream",
     "text": [
      "C:\\Users\\lucio\\AppData\\Local\\Packages\\PythonSoftwareFoundation.Python.3.11_qbz5n2kfra8p0\\LocalCache\\local-packages\\Python311\\site-packages\\statsbombpy\\sb.py:122: FutureWarning: The behavior of DataFrame concatenation with empty or all-NA entries is deprecated. In a future version, this will no longer exclude empty or all-NA columns when determining the result dtypes. To retain the old behavior, exclude the relevant entries before the concat operation.\n",
      "  events = pd.concat([*events.values()], axis=0, ignore_index=True, sort=True)\n"
     ]
    },
    {
     "name": "stdout",
     "output_type": "stream",
     "text": [
      "Partido 3872178 completado\n"
     ]
    },
    {
     "name": "stderr",
     "output_type": "stream",
     "text": [
      "C:\\Users\\lucio\\AppData\\Local\\Packages\\PythonSoftwareFoundation.Python.3.11_qbz5n2kfra8p0\\LocalCache\\local-packages\\Python311\\site-packages\\statsbombpy\\sb.py:122: FutureWarning: The behavior of DataFrame concatenation with empty or all-NA entries is deprecated. In a future version, this will no longer exclude empty or all-NA columns when determining the result dtypes. To retain the old behavior, exclude the relevant entries before the concat operation.\n",
      "  events = pd.concat([*events.values()], axis=0, ignore_index=True, sort=True)\n"
     ]
    },
    {
     "name": "stdout",
     "output_type": "stream",
     "text": [
      "Partido 3872177 completado\n"
     ]
    },
    {
     "name": "stderr",
     "output_type": "stream",
     "text": [
      "C:\\Users\\lucio\\AppData\\Local\\Packages\\PythonSoftwareFoundation.Python.3.11_qbz5n2kfra8p0\\LocalCache\\local-packages\\Python311\\site-packages\\statsbombpy\\sb.py:122: FutureWarning: The behavior of DataFrame concatenation with empty or all-NA entries is deprecated. In a future version, this will no longer exclude empty or all-NA columns when determining the result dtypes. To retain the old behavior, exclude the relevant entries before the concat operation.\n",
      "  events = pd.concat([*events.values()], axis=0, ignore_index=True, sort=True)\n"
     ]
    },
    {
     "name": "stdout",
     "output_type": "stream",
     "text": [
      "Partido 3872174 completado\n"
     ]
    },
    {
     "name": "stderr",
     "output_type": "stream",
     "text": [
      "C:\\Users\\lucio\\AppData\\Local\\Packages\\PythonSoftwareFoundation.Python.3.11_qbz5n2kfra8p0\\LocalCache\\local-packages\\Python311\\site-packages\\statsbombpy\\sb.py:122: FutureWarning: The behavior of DataFrame concatenation with empty or all-NA entries is deprecated. In a future version, this will no longer exclude empty or all-NA columns when determining the result dtypes. To retain the old behavior, exclude the relevant entries before the concat operation.\n",
      "  events = pd.concat([*events.values()], axis=0, ignore_index=True, sort=True)\n"
     ]
    },
    {
     "name": "stdout",
     "output_type": "stream",
     "text": [
      "Partido 3872173 completado\n"
     ]
    },
    {
     "name": "stderr",
     "output_type": "stream",
     "text": [
      "C:\\Users\\lucio\\AppData\\Local\\Packages\\PythonSoftwareFoundation.Python.3.11_qbz5n2kfra8p0\\LocalCache\\local-packages\\Python311\\site-packages\\statsbombpy\\sb.py:122: FutureWarning: The behavior of DataFrame concatenation with empty or all-NA entries is deprecated. In a future version, this will no longer exclude empty or all-NA columns when determining the result dtypes. To retain the old behavior, exclude the relevant entries before the concat operation.\n",
      "  events = pd.concat([*events.values()], axis=0, ignore_index=True, sort=True)\n"
     ]
    },
    {
     "name": "stdout",
     "output_type": "stream",
     "text": [
      "Partido 3872172 completado\n"
     ]
    },
    {
     "name": "stderr",
     "output_type": "stream",
     "text": [
      "C:\\Users\\lucio\\AppData\\Local\\Packages\\PythonSoftwareFoundation.Python.3.11_qbz5n2kfra8p0\\LocalCache\\local-packages\\Python311\\site-packages\\statsbombpy\\sb.py:122: FutureWarning: The behavior of DataFrame concatenation with empty or all-NA entries is deprecated. In a future version, this will no longer exclude empty or all-NA columns when determining the result dtypes. To retain the old behavior, exclude the relevant entries before the concat operation.\n",
      "  events = pd.concat([*events.values()], axis=0, ignore_index=True, sort=True)\n"
     ]
    },
    {
     "name": "stdout",
     "output_type": "stream",
     "text": [
      "Partido 3872171 completado\n"
     ]
    },
    {
     "name": "stderr",
     "output_type": "stream",
     "text": [
      "C:\\Users\\lucio\\AppData\\Local\\Packages\\PythonSoftwareFoundation.Python.3.11_qbz5n2kfra8p0\\LocalCache\\local-packages\\Python311\\site-packages\\statsbombpy\\sb.py:122: FutureWarning: The behavior of DataFrame concatenation with empty or all-NA entries is deprecated. In a future version, this will no longer exclude empty or all-NA columns when determining the result dtypes. To retain the old behavior, exclude the relevant entries before the concat operation.\n",
      "  events = pd.concat([*events.values()], axis=0, ignore_index=True, sort=True)\n"
     ]
    },
    {
     "name": "stdout",
     "output_type": "stream",
     "text": [
      "Partido 3872170 completado\n"
     ]
    },
    {
     "name": "stderr",
     "output_type": "stream",
     "text": [
      "C:\\Users\\lucio\\AppData\\Local\\Packages\\PythonSoftwareFoundation.Python.3.11_qbz5n2kfra8p0\\LocalCache\\local-packages\\Python311\\site-packages\\statsbombpy\\sb.py:122: FutureWarning: The behavior of DataFrame concatenation with empty or all-NA entries is deprecated. In a future version, this will no longer exclude empty or all-NA columns when determining the result dtypes. To retain the old behavior, exclude the relevant entries before the concat operation.\n",
      "  events = pd.concat([*events.values()], axis=0, ignore_index=True, sort=True)\n"
     ]
    },
    {
     "name": "stdout",
     "output_type": "stream",
     "text": [
      "Partido 3872169 completado\n"
     ]
    },
    {
     "name": "stderr",
     "output_type": "stream",
     "text": [
      "C:\\Users\\lucio\\AppData\\Local\\Packages\\PythonSoftwareFoundation.Python.3.11_qbz5n2kfra8p0\\LocalCache\\local-packages\\Python311\\site-packages\\statsbombpy\\sb.py:122: FutureWarning: The behavior of DataFrame concatenation with empty or all-NA entries is deprecated. In a future version, this will no longer exclude empty or all-NA columns when determining the result dtypes. To retain the old behavior, exclude the relevant entries before the concat operation.\n",
      "  events = pd.concat([*events.values()], axis=0, ignore_index=True, sort=True)\n"
     ]
    },
    {
     "name": "stdout",
     "output_type": "stream",
     "text": [
      "Partido 3872168 completado\n"
     ]
    },
    {
     "name": "stderr",
     "output_type": "stream",
     "text": [
      "C:\\Users\\lucio\\AppData\\Local\\Packages\\PythonSoftwareFoundation.Python.3.11_qbz5n2kfra8p0\\LocalCache\\local-packages\\Python311\\site-packages\\statsbombpy\\sb.py:122: FutureWarning: The behavior of DataFrame concatenation with empty or all-NA entries is deprecated. In a future version, this will no longer exclude empty or all-NA columns when determining the result dtypes. To retain the old behavior, exclude the relevant entries before the concat operation.\n",
      "  events = pd.concat([*events.values()], axis=0, ignore_index=True, sort=True)\n"
     ]
    },
    {
     "name": "stdout",
     "output_type": "stream",
     "text": [
      "Partido 3872167 completado\n"
     ]
    },
    {
     "name": "stderr",
     "output_type": "stream",
     "text": [
      "C:\\Users\\lucio\\AppData\\Local\\Packages\\PythonSoftwareFoundation.Python.3.11_qbz5n2kfra8p0\\LocalCache\\local-packages\\Python311\\site-packages\\statsbombpy\\sb.py:122: FutureWarning: The behavior of DataFrame concatenation with empty or all-NA entries is deprecated. In a future version, this will no longer exclude empty or all-NA columns when determining the result dtypes. To retain the old behavior, exclude the relevant entries before the concat operation.\n",
      "  events = pd.concat([*events.values()], axis=0, ignore_index=True, sort=True)\n"
     ]
    },
    {
     "name": "stdout",
     "output_type": "stream",
     "text": [
      "Partido 3872166 completado\n"
     ]
    },
    {
     "name": "stderr",
     "output_type": "stream",
     "text": [
      "C:\\Users\\lucio\\AppData\\Local\\Packages\\PythonSoftwareFoundation.Python.3.11_qbz5n2kfra8p0\\LocalCache\\local-packages\\Python311\\site-packages\\statsbombpy\\sb.py:122: FutureWarning: The behavior of DataFrame concatenation with empty or all-NA entries is deprecated. In a future version, this will no longer exclude empty or all-NA columns when determining the result dtypes. To retain the old behavior, exclude the relevant entries before the concat operation.\n",
      "  events = pd.concat([*events.values()], axis=0, ignore_index=True, sort=True)\n"
     ]
    },
    {
     "name": "stdout",
     "output_type": "stream",
     "text": [
      "Partido 3872158 completado\n"
     ]
    },
    {
     "name": "stderr",
     "output_type": "stream",
     "text": [
      "C:\\Users\\lucio\\AppData\\Local\\Packages\\PythonSoftwareFoundation.Python.3.11_qbz5n2kfra8p0\\LocalCache\\local-packages\\Python311\\site-packages\\statsbombpy\\sb.py:122: FutureWarning: The behavior of DataFrame concatenation with empty or all-NA entries is deprecated. In a future version, this will no longer exclude empty or all-NA columns when determining the result dtypes. To retain the old behavior, exclude the relevant entries before the concat operation.\n",
      "  events = pd.concat([*events.values()], axis=0, ignore_index=True, sort=True)\n"
     ]
    },
    {
     "name": "stdout",
     "output_type": "stream",
     "text": [
      "Partido 3872157 completado\n"
     ]
    },
    {
     "name": "stderr",
     "output_type": "stream",
     "text": [
      "C:\\Users\\lucio\\AppData\\Local\\Packages\\PythonSoftwareFoundation.Python.3.11_qbz5n2kfra8p0\\LocalCache\\local-packages\\Python311\\site-packages\\statsbombpy\\sb.py:122: FutureWarning: The behavior of DataFrame concatenation with empty or all-NA entries is deprecated. In a future version, this will no longer exclude empty or all-NA columns when determining the result dtypes. To retain the old behavior, exclude the relevant entries before the concat operation.\n",
      "  events = pd.concat([*events.values()], axis=0, ignore_index=True, sort=True)\n"
     ]
    },
    {
     "name": "stdout",
     "output_type": "stream",
     "text": [
      "Partido 3872155 completado\n"
     ]
    },
    {
     "name": "stderr",
     "output_type": "stream",
     "text": [
      "C:\\Users\\lucio\\AppData\\Local\\Packages\\PythonSoftwareFoundation.Python.3.11_qbz5n2kfra8p0\\LocalCache\\local-packages\\Python311\\site-packages\\statsbombpy\\sb.py:122: FutureWarning: The behavior of DataFrame concatenation with empty or all-NA entries is deprecated. In a future version, this will no longer exclude empty or all-NA columns when determining the result dtypes. To retain the old behavior, exclude the relevant entries before the concat operation.\n",
      "  events = pd.concat([*events.values()], axis=0, ignore_index=True, sort=True)\n"
     ]
    },
    {
     "name": "stdout",
     "output_type": "stream",
     "text": [
      "Partido 3872154 completado\n"
     ]
    },
    {
     "name": "stderr",
     "output_type": "stream",
     "text": [
      "C:\\Users\\lucio\\AppData\\Local\\Packages\\PythonSoftwareFoundation.Python.3.11_qbz5n2kfra8p0\\LocalCache\\local-packages\\Python311\\site-packages\\statsbombpy\\sb.py:122: FutureWarning: The behavior of DataFrame concatenation with empty or all-NA entries is deprecated. In a future version, this will no longer exclude empty or all-NA columns when determining the result dtypes. To retain the old behavior, exclude the relevant entries before the concat operation.\n",
      "  events = pd.concat([*events.values()], axis=0, ignore_index=True, sort=True)\n"
     ]
    },
    {
     "name": "stdout",
     "output_type": "stream",
     "text": [
      "Partido 3872153 completado\n"
     ]
    },
    {
     "name": "stderr",
     "output_type": "stream",
     "text": [
      "C:\\Users\\lucio\\AppData\\Local\\Packages\\PythonSoftwareFoundation.Python.3.11_qbz5n2kfra8p0\\LocalCache\\local-packages\\Python311\\site-packages\\statsbombpy\\sb.py:122: FutureWarning: The behavior of DataFrame concatenation with empty or all-NA entries is deprecated. In a future version, this will no longer exclude empty or all-NA columns when determining the result dtypes. To retain the old behavior, exclude the relevant entries before the concat operation.\n",
      "  events = pd.concat([*events.values()], axis=0, ignore_index=True, sort=True)\n"
     ]
    },
    {
     "name": "stdout",
     "output_type": "stream",
     "text": [
      "Partido 3872151 completado\n"
     ]
    },
    {
     "name": "stderr",
     "output_type": "stream",
     "text": [
      "C:\\Users\\lucio\\AppData\\Local\\Packages\\PythonSoftwareFoundation.Python.3.11_qbz5n2kfra8p0\\LocalCache\\local-packages\\Python311\\site-packages\\statsbombpy\\sb.py:122: FutureWarning: The behavior of DataFrame concatenation with empty or all-NA entries is deprecated. In a future version, this will no longer exclude empty or all-NA columns when determining the result dtypes. To retain the old behavior, exclude the relevant entries before the concat operation.\n",
      "  events = pd.concat([*events.values()], axis=0, ignore_index=True, sort=True)\n"
     ]
    },
    {
     "name": "stdout",
     "output_type": "stream",
     "text": [
      "Partido 3872150 completado\n"
     ]
    },
    {
     "name": "stderr",
     "output_type": "stream",
     "text": [
      "C:\\Users\\lucio\\AppData\\Local\\Packages\\PythonSoftwareFoundation.Python.3.11_qbz5n2kfra8p0\\LocalCache\\local-packages\\Python311\\site-packages\\statsbombpy\\sb.py:122: FutureWarning: The behavior of DataFrame concatenation with empty or all-NA entries is deprecated. In a future version, this will no longer exclude empty or all-NA columns when determining the result dtypes. To retain the old behavior, exclude the relevant entries before the concat operation.\n",
      "  events = pd.concat([*events.values()], axis=0, ignore_index=True, sort=True)\n"
     ]
    },
    {
     "name": "stdout",
     "output_type": "stream",
     "text": [
      "Partido 3872149 completado\n"
     ]
    },
    {
     "name": "stderr",
     "output_type": "stream",
     "text": [
      "C:\\Users\\lucio\\AppData\\Local\\Packages\\PythonSoftwareFoundation.Python.3.11_qbz5n2kfra8p0\\LocalCache\\local-packages\\Python311\\site-packages\\statsbombpy\\sb.py:122: FutureWarning: The behavior of DataFrame concatenation with empty or all-NA entries is deprecated. In a future version, this will no longer exclude empty or all-NA columns when determining the result dtypes. To retain the old behavior, exclude the relevant entries before the concat operation.\n",
      "  events = pd.concat([*events.values()], axis=0, ignore_index=True, sort=True)\n"
     ]
    },
    {
     "name": "stdout",
     "output_type": "stream",
     "text": [
      "Partido 3872148 completado\n"
     ]
    },
    {
     "name": "stderr",
     "output_type": "stream",
     "text": [
      "C:\\Users\\lucio\\AppData\\Local\\Packages\\PythonSoftwareFoundation.Python.3.11_qbz5n2kfra8p0\\LocalCache\\local-packages\\Python311\\site-packages\\statsbombpy\\sb.py:122: FutureWarning: The behavior of DataFrame concatenation with empty or all-NA entries is deprecated. In a future version, this will no longer exclude empty or all-NA columns when determining the result dtypes. To retain the old behavior, exclude the relevant entries before the concat operation.\n",
      "  events = pd.concat([*events.values()], axis=0, ignore_index=True, sort=True)\n"
     ]
    },
    {
     "name": "stdout",
     "output_type": "stream",
     "text": [
      "Partido 3872147 completado\n"
     ]
    },
    {
     "name": "stderr",
     "output_type": "stream",
     "text": [
      "C:\\Users\\lucio\\AppData\\Local\\Packages\\PythonSoftwareFoundation.Python.3.11_qbz5n2kfra8p0\\LocalCache\\local-packages\\Python311\\site-packages\\statsbombpy\\sb.py:122: FutureWarning: The behavior of DataFrame concatenation with empty or all-NA entries is deprecated. In a future version, this will no longer exclude empty or all-NA columns when determining the result dtypes. To retain the old behavior, exclude the relevant entries before the concat operation.\n",
      "  events = pd.concat([*events.values()], axis=0, ignore_index=True, sort=True)\n"
     ]
    },
    {
     "name": "stdout",
     "output_type": "stream",
     "text": [
      "Partido 3872145 completado\n"
     ]
    },
    {
     "name": "stderr",
     "output_type": "stream",
     "text": [
      "C:\\Users\\lucio\\AppData\\Local\\Packages\\PythonSoftwareFoundation.Python.3.11_qbz5n2kfra8p0\\LocalCache\\local-packages\\Python311\\site-packages\\statsbombpy\\sb.py:122: FutureWarning: The behavior of DataFrame concatenation with empty or all-NA entries is deprecated. In a future version, this will no longer exclude empty or all-NA columns when determining the result dtypes. To retain the old behavior, exclude the relevant entries before the concat operation.\n",
      "  events = pd.concat([*events.values()], axis=0, ignore_index=True, sort=True)\n"
     ]
    },
    {
     "name": "stdout",
     "output_type": "stream",
     "text": [
      "Partido 3872141 completado\n"
     ]
    },
    {
     "name": "stderr",
     "output_type": "stream",
     "text": [
      "C:\\Users\\lucio\\AppData\\Local\\Packages\\PythonSoftwareFoundation.Python.3.11_qbz5n2kfra8p0\\LocalCache\\local-packages\\Python311\\site-packages\\statsbombpy\\sb.py:122: FutureWarning: The behavior of DataFrame concatenation with empty or all-NA entries is deprecated. In a future version, this will no longer exclude empty or all-NA columns when determining the result dtypes. To retain the old behavior, exclude the relevant entries before the concat operation.\n",
      "  events = pd.concat([*events.values()], axis=0, ignore_index=True, sort=True)\n"
     ]
    },
    {
     "name": "stdout",
     "output_type": "stream",
     "text": [
      "Partido 3872140 completado\n"
     ]
    },
    {
     "name": "stderr",
     "output_type": "stream",
     "text": [
      "C:\\Users\\lucio\\AppData\\Local\\Packages\\PythonSoftwareFoundation.Python.3.11_qbz5n2kfra8p0\\LocalCache\\local-packages\\Python311\\site-packages\\statsbombpy\\sb.py:122: FutureWarning: The behavior of DataFrame concatenation with empty or all-NA entries is deprecated. In a future version, this will no longer exclude empty or all-NA columns when determining the result dtypes. To retain the old behavior, exclude the relevant entries before the concat operation.\n",
      "  events = pd.concat([*events.values()], axis=0, ignore_index=True, sort=True)\n"
     ]
    },
    {
     "name": "stdout",
     "output_type": "stream",
     "text": [
      "Partido 3872139 completado\n"
     ]
    },
    {
     "name": "stderr",
     "output_type": "stream",
     "text": [
      "C:\\Users\\lucio\\AppData\\Local\\Packages\\PythonSoftwareFoundation.Python.3.11_qbz5n2kfra8p0\\LocalCache\\local-packages\\Python311\\site-packages\\statsbombpy\\sb.py:122: FutureWarning: The behavior of DataFrame concatenation with empty or all-NA entries is deprecated. In a future version, this will no longer exclude empty or all-NA columns when determining the result dtypes. To retain the old behavior, exclude the relevant entries before the concat operation.\n",
      "  events = pd.concat([*events.values()], axis=0, ignore_index=True, sort=True)\n"
     ]
    },
    {
     "name": "stdout",
     "output_type": "stream",
     "text": [
      "Partido 3872138 completado\n"
     ]
    },
    {
     "name": "stderr",
     "output_type": "stream",
     "text": [
      "C:\\Users\\lucio\\AppData\\Local\\Packages\\PythonSoftwareFoundation.Python.3.11_qbz5n2kfra8p0\\LocalCache\\local-packages\\Python311\\site-packages\\statsbombpy\\sb.py:122: FutureWarning: The behavior of DataFrame concatenation with empty or all-NA entries is deprecated. In a future version, this will no longer exclude empty or all-NA columns when determining the result dtypes. To retain the old behavior, exclude the relevant entries before the concat operation.\n",
      "  events = pd.concat([*events.values()], axis=0, ignore_index=True, sort=True)\n"
     ]
    },
    {
     "name": "stdout",
     "output_type": "stream",
     "text": [
      "Partido 3872137 completado\n"
     ]
    },
    {
     "name": "stderr",
     "output_type": "stream",
     "text": [
      "C:\\Users\\lucio\\AppData\\Local\\Packages\\PythonSoftwareFoundation.Python.3.11_qbz5n2kfra8p0\\LocalCache\\local-packages\\Python311\\site-packages\\statsbombpy\\sb.py:122: FutureWarning: The behavior of DataFrame concatenation with empty or all-NA entries is deprecated. In a future version, this will no longer exclude empty or all-NA columns when determining the result dtypes. To retain the old behavior, exclude the relevant entries before the concat operation.\n",
      "  events = pd.concat([*events.values()], axis=0, ignore_index=True, sort=True)\n"
     ]
    },
    {
     "name": "stdout",
     "output_type": "stream",
     "text": [
      "Partido 3872136 completado\n"
     ]
    },
    {
     "name": "stderr",
     "output_type": "stream",
     "text": [
      "C:\\Users\\lucio\\AppData\\Local\\Packages\\PythonSoftwareFoundation.Python.3.11_qbz5n2kfra8p0\\LocalCache\\local-packages\\Python311\\site-packages\\statsbombpy\\sb.py:122: FutureWarning: The behavior of DataFrame concatenation with empty or all-NA entries is deprecated. In a future version, this will no longer exclude empty or all-NA columns when determining the result dtypes. To retain the old behavior, exclude the relevant entries before the concat operation.\n",
      "  events = pd.concat([*events.values()], axis=0, ignore_index=True, sort=True)\n"
     ]
    },
    {
     "name": "stdout",
     "output_type": "stream",
     "text": [
      "Partido 3872135 completado\n"
     ]
    },
    {
     "name": "stderr",
     "output_type": "stream",
     "text": [
      "C:\\Users\\lucio\\AppData\\Local\\Packages\\PythonSoftwareFoundation.Python.3.11_qbz5n2kfra8p0\\LocalCache\\local-packages\\Python311\\site-packages\\statsbombpy\\sb.py:122: FutureWarning: The behavior of DataFrame concatenation with empty or all-NA entries is deprecated. In a future version, this will no longer exclude empty or all-NA columns when determining the result dtypes. To retain the old behavior, exclude the relevant entries before the concat operation.\n",
      "  events = pd.concat([*events.values()], axis=0, ignore_index=True, sort=True)\n"
     ]
    },
    {
     "name": "stdout",
     "output_type": "stream",
     "text": [
      "Partido 3872132 completado\n"
     ]
    },
    {
     "name": "stderr",
     "output_type": "stream",
     "text": [
      "C:\\Users\\lucio\\AppData\\Local\\Packages\\PythonSoftwareFoundation.Python.3.11_qbz5n2kfra8p0\\LocalCache\\local-packages\\Python311\\site-packages\\statsbombpy\\sb.py:122: FutureWarning: The behavior of DataFrame concatenation with empty or all-NA entries is deprecated. In a future version, this will no longer exclude empty or all-NA columns when determining the result dtypes. To retain the old behavior, exclude the relevant entries before the concat operation.\n",
      "  events = pd.concat([*events.values()], axis=0, ignore_index=True, sort=True)\n"
     ]
    },
    {
     "name": "stdout",
     "output_type": "stream",
     "text": [
      "Partido 3872131 completado\n"
     ]
    },
    {
     "name": "stderr",
     "output_type": "stream",
     "text": [
      "C:\\Users\\lucio\\AppData\\Local\\Packages\\PythonSoftwareFoundation.Python.3.11_qbz5n2kfra8p0\\LocalCache\\local-packages\\Python311\\site-packages\\statsbombpy\\sb.py:122: FutureWarning: The behavior of DataFrame concatenation with empty or all-NA entries is deprecated. In a future version, this will no longer exclude empty or all-NA columns when determining the result dtypes. To retain the old behavior, exclude the relevant entries before the concat operation.\n",
      "  events = pd.concat([*events.values()], axis=0, ignore_index=True, sort=True)\n"
     ]
    },
    {
     "name": "stdout",
     "output_type": "stream",
     "text": [
      "Partido 3872130 completado\n"
     ]
    },
    {
     "name": "stderr",
     "output_type": "stream",
     "text": [
      "C:\\Users\\lucio\\AppData\\Local\\Packages\\PythonSoftwareFoundation.Python.3.11_qbz5n2kfra8p0\\LocalCache\\local-packages\\Python311\\site-packages\\statsbombpy\\sb.py:122: FutureWarning: The behavior of DataFrame concatenation with empty or all-NA entries is deprecated. In a future version, this will no longer exclude empty or all-NA columns when determining the result dtypes. To retain the old behavior, exclude the relevant entries before the concat operation.\n",
      "  events = pd.concat([*events.values()], axis=0, ignore_index=True, sort=True)\n"
     ]
    },
    {
     "name": "stdout",
     "output_type": "stream",
     "text": [
      "Partido 3872127 completado\n"
     ]
    },
    {
     "name": "stderr",
     "output_type": "stream",
     "text": [
      "C:\\Users\\lucio\\AppData\\Local\\Packages\\PythonSoftwareFoundation.Python.3.11_qbz5n2kfra8p0\\LocalCache\\local-packages\\Python311\\site-packages\\statsbombpy\\sb.py:122: FutureWarning: The behavior of DataFrame concatenation with empty or all-NA entries is deprecated. In a future version, this will no longer exclude empty or all-NA columns when determining the result dtypes. To retain the old behavior, exclude the relevant entries before the concat operation.\n",
      "  events = pd.concat([*events.values()], axis=0, ignore_index=True, sort=True)\n"
     ]
    },
    {
     "name": "stdout",
     "output_type": "stream",
     "text": [
      "Partido 3872122 completado\n"
     ]
    },
    {
     "name": "stderr",
     "output_type": "stream",
     "text": [
      "C:\\Users\\lucio\\AppData\\Local\\Packages\\PythonSoftwareFoundation.Python.3.11_qbz5n2kfra8p0\\LocalCache\\local-packages\\Python311\\site-packages\\statsbombpy\\sb.py:122: FutureWarning: The behavior of DataFrame concatenation with empty or all-NA entries is deprecated. In a future version, this will no longer exclude empty or all-NA columns when determining the result dtypes. To retain the old behavior, exclude the relevant entries before the concat operation.\n",
      "  events = pd.concat([*events.values()], axis=0, ignore_index=True, sort=True)\n"
     ]
    },
    {
     "name": "stdout",
     "output_type": "stream",
     "text": [
      "Partido 3872121 completado\n"
     ]
    },
    {
     "name": "stderr",
     "output_type": "stream",
     "text": [
      "C:\\Users\\lucio\\AppData\\Local\\Packages\\PythonSoftwareFoundation.Python.3.11_qbz5n2kfra8p0\\LocalCache\\local-packages\\Python311\\site-packages\\statsbombpy\\sb.py:122: FutureWarning: The behavior of DataFrame concatenation with empty or all-NA entries is deprecated. In a future version, this will no longer exclude empty or all-NA columns when determining the result dtypes. To retain the old behavior, exclude the relevant entries before the concat operation.\n",
      "  events = pd.concat([*events.values()], axis=0, ignore_index=True, sort=True)\n"
     ]
    },
    {
     "name": "stdout",
     "output_type": "stream",
     "text": [
      "Partido 3872120 completado\n"
     ]
    },
    {
     "name": "stderr",
     "output_type": "stream",
     "text": [
      "C:\\Users\\lucio\\AppData\\Local\\Packages\\PythonSoftwareFoundation.Python.3.11_qbz5n2kfra8p0\\LocalCache\\local-packages\\Python311\\site-packages\\statsbombpy\\sb.py:122: FutureWarning: The behavior of DataFrame concatenation with empty or all-NA entries is deprecated. In a future version, this will no longer exclude empty or all-NA columns when determining the result dtypes. To retain the old behavior, exclude the relevant entries before the concat operation.\n",
      "  events = pd.concat([*events.values()], axis=0, ignore_index=True, sort=True)\n"
     ]
    },
    {
     "name": "stdout",
     "output_type": "stream",
     "text": [
      "Partido 3872119 completado\n"
     ]
    },
    {
     "name": "stderr",
     "output_type": "stream",
     "text": [
      "C:\\Users\\lucio\\AppData\\Local\\Packages\\PythonSoftwareFoundation.Python.3.11_qbz5n2kfra8p0\\LocalCache\\local-packages\\Python311\\site-packages\\statsbombpy\\sb.py:122: FutureWarning: The behavior of DataFrame concatenation with empty or all-NA entries is deprecated. In a future version, this will no longer exclude empty or all-NA columns when determining the result dtypes. To retain the old behavior, exclude the relevant entries before the concat operation.\n",
      "  events = pd.concat([*events.values()], axis=0, ignore_index=True, sort=True)\n"
     ]
    },
    {
     "name": "stdout",
     "output_type": "stream",
     "text": [
      "Partido 3872118 completado\n"
     ]
    },
    {
     "name": "stderr",
     "output_type": "stream",
     "text": [
      "C:\\Users\\lucio\\AppData\\Local\\Packages\\PythonSoftwareFoundation.Python.3.11_qbz5n2kfra8p0\\LocalCache\\local-packages\\Python311\\site-packages\\statsbombpy\\sb.py:122: FutureWarning: The behavior of DataFrame concatenation with empty or all-NA entries is deprecated. In a future version, this will no longer exclude empty or all-NA columns when determining the result dtypes. To retain the old behavior, exclude the relevant entries before the concat operation.\n",
      "  events = pd.concat([*events.values()], axis=0, ignore_index=True, sort=True)\n"
     ]
    },
    {
     "name": "stdout",
     "output_type": "stream",
     "text": [
      "Partido 3872115 completado\n"
     ]
    },
    {
     "name": "stderr",
     "output_type": "stream",
     "text": [
      "C:\\Users\\lucio\\AppData\\Local\\Packages\\PythonSoftwareFoundation.Python.3.11_qbz5n2kfra8p0\\LocalCache\\local-packages\\Python311\\site-packages\\statsbombpy\\sb.py:122: FutureWarning: The behavior of DataFrame concatenation with empty or all-NA entries is deprecated. In a future version, this will no longer exclude empty or all-NA columns when determining the result dtypes. To retain the old behavior, exclude the relevant entries before the concat operation.\n",
      "  events = pd.concat([*events.values()], axis=0, ignore_index=True, sort=True)\n"
     ]
    },
    {
     "name": "stdout",
     "output_type": "stream",
     "text": [
      "Partido 3872112 completado\n"
     ]
    },
    {
     "name": "stderr",
     "output_type": "stream",
     "text": [
      "C:\\Users\\lucio\\AppData\\Local\\Packages\\PythonSoftwareFoundation.Python.3.11_qbz5n2kfra8p0\\LocalCache\\local-packages\\Python311\\site-packages\\statsbombpy\\sb.py:122: FutureWarning: The behavior of DataFrame concatenation with empty or all-NA entries is deprecated. In a future version, this will no longer exclude empty or all-NA columns when determining the result dtypes. To retain the old behavior, exclude the relevant entries before the concat operation.\n",
      "  events = pd.concat([*events.values()], axis=0, ignore_index=True, sort=True)\n"
     ]
    },
    {
     "name": "stdout",
     "output_type": "stream",
     "text": [
      "Partido 3872109 completado\n"
     ]
    },
    {
     "name": "stderr",
     "output_type": "stream",
     "text": [
      "C:\\Users\\lucio\\AppData\\Local\\Packages\\PythonSoftwareFoundation.Python.3.11_qbz5n2kfra8p0\\LocalCache\\local-packages\\Python311\\site-packages\\statsbombpy\\sb.py:122: FutureWarning: The behavior of DataFrame concatenation with empty or all-NA entries is deprecated. In a future version, this will no longer exclude empty or all-NA columns when determining the result dtypes. To retain the old behavior, exclude the relevant entries before the concat operation.\n",
      "  events = pd.concat([*events.values()], axis=0, ignore_index=True, sort=True)\n"
     ]
    },
    {
     "name": "stdout",
     "output_type": "stream",
     "text": [
      "Partido 3872108 completado\n"
     ]
    },
    {
     "name": "stderr",
     "output_type": "stream",
     "text": [
      "C:\\Users\\lucio\\AppData\\Local\\Packages\\PythonSoftwareFoundation.Python.3.11_qbz5n2kfra8p0\\LocalCache\\local-packages\\Python311\\site-packages\\statsbombpy\\sb.py:122: FutureWarning: The behavior of DataFrame concatenation with empty or all-NA entries is deprecated. In a future version, this will no longer exclude empty or all-NA columns when determining the result dtypes. To retain the old behavior, exclude the relevant entries before the concat operation.\n",
      "  events = pd.concat([*events.values()], axis=0, ignore_index=True, sort=True)\n"
     ]
    },
    {
     "name": "stdout",
     "output_type": "stream",
     "text": [
      "Partido 3872107 completado\n"
     ]
    },
    {
     "name": "stderr",
     "output_type": "stream",
     "text": [
      "C:\\Users\\lucio\\AppData\\Local\\Packages\\PythonSoftwareFoundation.Python.3.11_qbz5n2kfra8p0\\LocalCache\\local-packages\\Python311\\site-packages\\statsbombpy\\sb.py:122: FutureWarning: The behavior of DataFrame concatenation with empty or all-NA entries is deprecated. In a future version, this will no longer exclude empty or all-NA columns when determining the result dtypes. To retain the old behavior, exclude the relevant entries before the concat operation.\n",
      "  events = pd.concat([*events.values()], axis=0, ignore_index=True, sort=True)\n"
     ]
    },
    {
     "name": "stdout",
     "output_type": "stream",
     "text": [
      "Partido 3872106 completado\n"
     ]
    },
    {
     "name": "stderr",
     "output_type": "stream",
     "text": [
      "C:\\Users\\lucio\\AppData\\Local\\Packages\\PythonSoftwareFoundation.Python.3.11_qbz5n2kfra8p0\\LocalCache\\local-packages\\Python311\\site-packages\\statsbombpy\\sb.py:122: FutureWarning: The behavior of DataFrame concatenation with empty or all-NA entries is deprecated. In a future version, this will no longer exclude empty or all-NA columns when determining the result dtypes. To retain the old behavior, exclude the relevant entries before the concat operation.\n",
      "  events = pd.concat([*events.values()], axis=0, ignore_index=True, sort=True)\n"
     ]
    },
    {
     "name": "stdout",
     "output_type": "stream",
     "text": [
      "Partido 3872104 completado\n"
     ]
    },
    {
     "name": "stderr",
     "output_type": "stream",
     "text": [
      "C:\\Users\\lucio\\AppData\\Local\\Packages\\PythonSoftwareFoundation.Python.3.11_qbz5n2kfra8p0\\LocalCache\\local-packages\\Python311\\site-packages\\statsbombpy\\sb.py:122: FutureWarning: The behavior of DataFrame concatenation with empty or all-NA entries is deprecated. In a future version, this will no longer exclude empty or all-NA columns when determining the result dtypes. To retain the old behavior, exclude the relevant entries before the concat operation.\n",
      "  events = pd.concat([*events.values()], axis=0, ignore_index=True, sort=True)\n"
     ]
    },
    {
     "name": "stdout",
     "output_type": "stream",
     "text": [
      "Partido 3872102 completado\n"
     ]
    },
    {
     "name": "stderr",
     "output_type": "stream",
     "text": [
      "C:\\Users\\lucio\\AppData\\Local\\Packages\\PythonSoftwareFoundation.Python.3.11_qbz5n2kfra8p0\\LocalCache\\local-packages\\Python311\\site-packages\\statsbombpy\\sb.py:122: FutureWarning: The behavior of DataFrame concatenation with empty or all-NA entries is deprecated. In a future version, this will no longer exclude empty or all-NA columns when determining the result dtypes. To retain the old behavior, exclude the relevant entries before the concat operation.\n",
      "  events = pd.concat([*events.values()], axis=0, ignore_index=True, sort=True)\n"
     ]
    },
    {
     "name": "stdout",
     "output_type": "stream",
     "text": [
      "Partido 3872101 completado\n"
     ]
    },
    {
     "name": "stderr",
     "output_type": "stream",
     "text": [
      "C:\\Users\\lucio\\AppData\\Local\\Packages\\PythonSoftwareFoundation.Python.3.11_qbz5n2kfra8p0\\LocalCache\\local-packages\\Python311\\site-packages\\statsbombpy\\sb.py:122: FutureWarning: The behavior of DataFrame concatenation with empty or all-NA entries is deprecated. In a future version, this will no longer exclude empty or all-NA columns when determining the result dtypes. To retain the old behavior, exclude the relevant entries before the concat operation.\n",
      "  events = pd.concat([*events.values()], axis=0, ignore_index=True, sort=True)\n"
     ]
    },
    {
     "name": "stdout",
     "output_type": "stream",
     "text": [
      "Partido 3872100 completado\n"
     ]
    },
    {
     "name": "stderr",
     "output_type": "stream",
     "text": [
      "C:\\Users\\lucio\\AppData\\Local\\Packages\\PythonSoftwareFoundation.Python.3.11_qbz5n2kfra8p0\\LocalCache\\local-packages\\Python311\\site-packages\\statsbombpy\\sb.py:122: FutureWarning: The behavior of DataFrame concatenation with empty or all-NA entries is deprecated. In a future version, this will no longer exclude empty or all-NA columns when determining the result dtypes. To retain the old behavior, exclude the relevant entries before the concat operation.\n",
      "  events = pd.concat([*events.values()], axis=0, ignore_index=True, sort=True)\n"
     ]
    },
    {
     "name": "stdout",
     "output_type": "stream",
     "text": [
      "Partido 3872099 completado\n"
     ]
    },
    {
     "name": "stderr",
     "output_type": "stream",
     "text": [
      "C:\\Users\\lucio\\AppData\\Local\\Packages\\PythonSoftwareFoundation.Python.3.11_qbz5n2kfra8p0\\LocalCache\\local-packages\\Python311\\site-packages\\statsbombpy\\sb.py:122: FutureWarning: The behavior of DataFrame concatenation with empty or all-NA entries is deprecated. In a future version, this will no longer exclude empty or all-NA columns when determining the result dtypes. To retain the old behavior, exclude the relevant entries before the concat operation.\n",
      "  events = pd.concat([*events.values()], axis=0, ignore_index=True, sort=True)\n"
     ]
    },
    {
     "name": "stdout",
     "output_type": "stream",
     "text": [
      "Partido 3872098 completado\n"
     ]
    },
    {
     "name": "stderr",
     "output_type": "stream",
     "text": [
      "C:\\Users\\lucio\\AppData\\Local\\Packages\\PythonSoftwareFoundation.Python.3.11_qbz5n2kfra8p0\\LocalCache\\local-packages\\Python311\\site-packages\\statsbombpy\\sb.py:122: FutureWarning: The behavior of DataFrame concatenation with empty or all-NA entries is deprecated. In a future version, this will no longer exclude empty or all-NA columns when determining the result dtypes. To retain the old behavior, exclude the relevant entries before the concat operation.\n",
      "  events = pd.concat([*events.values()], axis=0, ignore_index=True, sort=True)\n"
     ]
    },
    {
     "name": "stdout",
     "output_type": "stream",
     "text": [
      "Partido 3872096 completado\n"
     ]
    },
    {
     "name": "stderr",
     "output_type": "stream",
     "text": [
      "C:\\Users\\lucio\\AppData\\Local\\Packages\\PythonSoftwareFoundation.Python.3.11_qbz5n2kfra8p0\\LocalCache\\local-packages\\Python311\\site-packages\\statsbombpy\\sb.py:122: FutureWarning: The behavior of DataFrame concatenation with empty or all-NA entries is deprecated. In a future version, this will no longer exclude empty or all-NA columns when determining the result dtypes. To retain the old behavior, exclude the relevant entries before the concat operation.\n",
      "  events = pd.concat([*events.values()], axis=0, ignore_index=True, sort=True)\n"
     ]
    },
    {
     "name": "stdout",
     "output_type": "stream",
     "text": [
      "Partido 3872095 completado\n"
     ]
    },
    {
     "name": "stderr",
     "output_type": "stream",
     "text": [
      "C:\\Users\\lucio\\AppData\\Local\\Packages\\PythonSoftwareFoundation.Python.3.11_qbz5n2kfra8p0\\LocalCache\\local-packages\\Python311\\site-packages\\statsbombpy\\sb.py:122: FutureWarning: The behavior of DataFrame concatenation with empty or all-NA entries is deprecated. In a future version, this will no longer exclude empty or all-NA columns when determining the result dtypes. To retain the old behavior, exclude the relevant entries before the concat operation.\n",
      "  events = pd.concat([*events.values()], axis=0, ignore_index=True, sort=True)\n"
     ]
    },
    {
     "name": "stdout",
     "output_type": "stream",
     "text": [
      "Partido 3872094 completado\n"
     ]
    },
    {
     "name": "stderr",
     "output_type": "stream",
     "text": [
      "C:\\Users\\lucio\\AppData\\Local\\Packages\\PythonSoftwareFoundation.Python.3.11_qbz5n2kfra8p0\\LocalCache\\local-packages\\Python311\\site-packages\\statsbombpy\\sb.py:122: FutureWarning: The behavior of DataFrame concatenation with empty or all-NA entries is deprecated. In a future version, this will no longer exclude empty or all-NA columns when determining the result dtypes. To retain the old behavior, exclude the relevant entries before the concat operation.\n",
      "  events = pd.concat([*events.values()], axis=0, ignore_index=True, sort=True)\n"
     ]
    },
    {
     "name": "stdout",
     "output_type": "stream",
     "text": [
      "Partido 3872090 completado\n"
     ]
    },
    {
     "name": "stderr",
     "output_type": "stream",
     "text": [
      "C:\\Users\\lucio\\AppData\\Local\\Packages\\PythonSoftwareFoundation.Python.3.11_qbz5n2kfra8p0\\LocalCache\\local-packages\\Python311\\site-packages\\statsbombpy\\sb.py:122: FutureWarning: The behavior of DataFrame concatenation with empty or all-NA entries is deprecated. In a future version, this will no longer exclude empty or all-NA columns when determining the result dtypes. To retain the old behavior, exclude the relevant entries before the concat operation.\n",
      "  events = pd.concat([*events.values()], axis=0, ignore_index=True, sort=True)\n"
     ]
    },
    {
     "name": "stdout",
     "output_type": "stream",
     "text": [
      "Partido 3872089 completado\n"
     ]
    },
    {
     "name": "stderr",
     "output_type": "stream",
     "text": [
      "C:\\Users\\lucio\\AppData\\Local\\Packages\\PythonSoftwareFoundation.Python.3.11_qbz5n2kfra8p0\\LocalCache\\local-packages\\Python311\\site-packages\\statsbombpy\\sb.py:122: FutureWarning: The behavior of DataFrame concatenation with empty or all-NA entries is deprecated. In a future version, this will no longer exclude empty or all-NA columns when determining the result dtypes. To retain the old behavior, exclude the relevant entries before the concat operation.\n",
      "  events = pd.concat([*events.values()], axis=0, ignore_index=True, sort=True)\n"
     ]
    },
    {
     "name": "stdout",
     "output_type": "stream",
     "text": [
      "Partido 3872088 completado\n"
     ]
    },
    {
     "name": "stderr",
     "output_type": "stream",
     "text": [
      "C:\\Users\\lucio\\AppData\\Local\\Packages\\PythonSoftwareFoundation.Python.3.11_qbz5n2kfra8p0\\LocalCache\\local-packages\\Python311\\site-packages\\statsbombpy\\sb.py:122: FutureWarning: The behavior of DataFrame concatenation with empty or all-NA entries is deprecated. In a future version, this will no longer exclude empty or all-NA columns when determining the result dtypes. To retain the old behavior, exclude the relevant entries before the concat operation.\n",
      "  events = pd.concat([*events.values()], axis=0, ignore_index=True, sort=True)\n"
     ]
    },
    {
     "name": "stdout",
     "output_type": "stream",
     "text": [
      "Partido 3872085 completado\n"
     ]
    },
    {
     "name": "stderr",
     "output_type": "stream",
     "text": [
      "C:\\Users\\lucio\\AppData\\Local\\Packages\\PythonSoftwareFoundation.Python.3.11_qbz5n2kfra8p0\\LocalCache\\local-packages\\Python311\\site-packages\\statsbombpy\\sb.py:122: FutureWarning: The behavior of DataFrame concatenation with empty or all-NA entries is deprecated. In a future version, this will no longer exclude empty or all-NA columns when determining the result dtypes. To retain the old behavior, exclude the relevant entries before the concat operation.\n",
      "  events = pd.concat([*events.values()], axis=0, ignore_index=True, sort=True)\n"
     ]
    },
    {
     "name": "stdout",
     "output_type": "stream",
     "text": [
      "Partido 3872082 completado\n"
     ]
    },
    {
     "name": "stderr",
     "output_type": "stream",
     "text": [
      "C:\\Users\\lucio\\AppData\\Local\\Packages\\PythonSoftwareFoundation.Python.3.11_qbz5n2kfra8p0\\LocalCache\\local-packages\\Python311\\site-packages\\statsbombpy\\sb.py:122: FutureWarning: The behavior of DataFrame concatenation with empty or all-NA entries is deprecated. In a future version, this will no longer exclude empty or all-NA columns when determining the result dtypes. To retain the old behavior, exclude the relevant entries before the concat operation.\n",
      "  events = pd.concat([*events.values()], axis=0, ignore_index=True, sort=True)\n"
     ]
    },
    {
     "name": "stdout",
     "output_type": "stream",
     "text": [
      "Partido 3872080 completado\n"
     ]
    },
    {
     "name": "stderr",
     "output_type": "stream",
     "text": [
      "C:\\Users\\lucio\\AppData\\Local\\Packages\\PythonSoftwareFoundation.Python.3.11_qbz5n2kfra8p0\\LocalCache\\local-packages\\Python311\\site-packages\\statsbombpy\\sb.py:122: FutureWarning: The behavior of DataFrame concatenation with empty or all-NA entries is deprecated. In a future version, this will no longer exclude empty or all-NA columns when determining the result dtypes. To retain the old behavior, exclude the relevant entries before the concat operation.\n",
      "  events = pd.concat([*events.values()], axis=0, ignore_index=True, sort=True)\n"
     ]
    },
    {
     "name": "stdout",
     "output_type": "stream",
     "text": [
      "Partido 3872078 completado\n"
     ]
    },
    {
     "name": "stderr",
     "output_type": "stream",
     "text": [
      "C:\\Users\\lucio\\AppData\\Local\\Packages\\PythonSoftwareFoundation.Python.3.11_qbz5n2kfra8p0\\LocalCache\\local-packages\\Python311\\site-packages\\statsbombpy\\sb.py:122: FutureWarning: The behavior of DataFrame concatenation with empty or all-NA entries is deprecated. In a future version, this will no longer exclude empty or all-NA columns when determining the result dtypes. To retain the old behavior, exclude the relevant entries before the concat operation.\n",
      "  events = pd.concat([*events.values()], axis=0, ignore_index=True, sort=True)\n"
     ]
    },
    {
     "name": "stdout",
     "output_type": "stream",
     "text": [
      "Partido 3872077 completado\n"
     ]
    },
    {
     "name": "stderr",
     "output_type": "stream",
     "text": [
      "C:\\Users\\lucio\\AppData\\Local\\Packages\\PythonSoftwareFoundation.Python.3.11_qbz5n2kfra8p0\\LocalCache\\local-packages\\Python311\\site-packages\\statsbombpy\\sb.py:122: FutureWarning: The behavior of DataFrame concatenation with empty or all-NA entries is deprecated. In a future version, this will no longer exclude empty or all-NA columns when determining the result dtypes. To retain the old behavior, exclude the relevant entries before the concat operation.\n",
      "  events = pd.concat([*events.values()], axis=0, ignore_index=True, sort=True)\n"
     ]
    },
    {
     "name": "stdout",
     "output_type": "stream",
     "text": [
      "Partido 3872076 completado\n"
     ]
    },
    {
     "name": "stderr",
     "output_type": "stream",
     "text": [
      "C:\\Users\\lucio\\AppData\\Local\\Packages\\PythonSoftwareFoundation.Python.3.11_qbz5n2kfra8p0\\LocalCache\\local-packages\\Python311\\site-packages\\statsbombpy\\sb.py:122: FutureWarning: The behavior of DataFrame concatenation with empty or all-NA entries is deprecated. In a future version, this will no longer exclude empty or all-NA columns when determining the result dtypes. To retain the old behavior, exclude the relevant entries before the concat operation.\n",
      "  events = pd.concat([*events.values()], axis=0, ignore_index=True, sort=True)\n"
     ]
    },
    {
     "name": "stdout",
     "output_type": "stream",
     "text": [
      "Partido 3872075 completado\n"
     ]
    },
    {
     "name": "stderr",
     "output_type": "stream",
     "text": [
      "C:\\Users\\lucio\\AppData\\Local\\Packages\\PythonSoftwareFoundation.Python.3.11_qbz5n2kfra8p0\\LocalCache\\local-packages\\Python311\\site-packages\\statsbombpy\\sb.py:122: FutureWarning: The behavior of DataFrame concatenation with empty or all-NA entries is deprecated. In a future version, this will no longer exclude empty or all-NA columns when determining the result dtypes. To retain the old behavior, exclude the relevant entries before the concat operation.\n",
      "  events = pd.concat([*events.values()], axis=0, ignore_index=True, sort=True)\n"
     ]
    },
    {
     "name": "stdout",
     "output_type": "stream",
     "text": [
      "Partido 3872074 completado\n"
     ]
    },
    {
     "name": "stderr",
     "output_type": "stream",
     "text": [
      "C:\\Users\\lucio\\AppData\\Local\\Packages\\PythonSoftwareFoundation.Python.3.11_qbz5n2kfra8p0\\LocalCache\\local-packages\\Python311\\site-packages\\statsbombpy\\sb.py:122: FutureWarning: The behavior of DataFrame concatenation with empty or all-NA entries is deprecated. In a future version, this will no longer exclude empty or all-NA columns when determining the result dtypes. To retain the old behavior, exclude the relevant entries before the concat operation.\n",
      "  events = pd.concat([*events.values()], axis=0, ignore_index=True, sort=True)\n"
     ]
    },
    {
     "name": "stdout",
     "output_type": "stream",
     "text": [
      "Partido 3872072 completado\n"
     ]
    },
    {
     "name": "stderr",
     "output_type": "stream",
     "text": [
      "C:\\Users\\lucio\\AppData\\Local\\Packages\\PythonSoftwareFoundation.Python.3.11_qbz5n2kfra8p0\\LocalCache\\local-packages\\Python311\\site-packages\\statsbombpy\\sb.py:122: FutureWarning: The behavior of DataFrame concatenation with empty or all-NA entries is deprecated. In a future version, this will no longer exclude empty or all-NA columns when determining the result dtypes. To retain the old behavior, exclude the relevant entries before the concat operation.\n",
      "  events = pd.concat([*events.values()], axis=0, ignore_index=True, sort=True)\n"
     ]
    },
    {
     "name": "stdout",
     "output_type": "stream",
     "text": [
      "Partido 3872071 completado\n"
     ]
    },
    {
     "name": "stderr",
     "output_type": "stream",
     "text": [
      "C:\\Users\\lucio\\AppData\\Local\\Packages\\PythonSoftwareFoundation.Python.3.11_qbz5n2kfra8p0\\LocalCache\\local-packages\\Python311\\site-packages\\statsbombpy\\sb.py:122: FutureWarning: The behavior of DataFrame concatenation with empty or all-NA entries is deprecated. In a future version, this will no longer exclude empty or all-NA columns when determining the result dtypes. To retain the old behavior, exclude the relevant entries before the concat operation.\n",
      "  events = pd.concat([*events.values()], axis=0, ignore_index=True, sort=True)\n"
     ]
    },
    {
     "name": "stdout",
     "output_type": "stream",
     "text": [
      "Partido 3872069 completado\n"
     ]
    },
    {
     "name": "stderr",
     "output_type": "stream",
     "text": [
      "C:\\Users\\lucio\\AppData\\Local\\Packages\\PythonSoftwareFoundation.Python.3.11_qbz5n2kfra8p0\\LocalCache\\local-packages\\Python311\\site-packages\\statsbombpy\\sb.py:122: FutureWarning: The behavior of DataFrame concatenation with empty or all-NA entries is deprecated. In a future version, this will no longer exclude empty or all-NA columns when determining the result dtypes. To retain the old behavior, exclude the relevant entries before the concat operation.\n",
      "  events = pd.concat([*events.values()], axis=0, ignore_index=True, sort=True)\n"
     ]
    },
    {
     "name": "stdout",
     "output_type": "stream",
     "text": [
      "Partido 3872067 completado\n"
     ]
    },
    {
     "name": "stderr",
     "output_type": "stream",
     "text": [
      "C:\\Users\\lucio\\AppData\\Local\\Packages\\PythonSoftwareFoundation.Python.3.11_qbz5n2kfra8p0\\LocalCache\\local-packages\\Python311\\site-packages\\statsbombpy\\sb.py:122: FutureWarning: The behavior of DataFrame concatenation with empty or all-NA entries is deprecated. In a future version, this will no longer exclude empty or all-NA columns when determining the result dtypes. To retain the old behavior, exclude the relevant entries before the concat operation.\n",
      "  events = pd.concat([*events.values()], axis=0, ignore_index=True, sort=True)\n"
     ]
    },
    {
     "name": "stdout",
     "output_type": "stream",
     "text": [
      "Partido 3872066 completado\n"
     ]
    },
    {
     "name": "stderr",
     "output_type": "stream",
     "text": [
      "C:\\Users\\lucio\\AppData\\Local\\Packages\\PythonSoftwareFoundation.Python.3.11_qbz5n2kfra8p0\\LocalCache\\local-packages\\Python311\\site-packages\\statsbombpy\\sb.py:122: FutureWarning: The behavior of DataFrame concatenation with empty or all-NA entries is deprecated. In a future version, this will no longer exclude empty or all-NA columns when determining the result dtypes. To retain the old behavior, exclude the relevant entries before the concat operation.\n",
      "  events = pd.concat([*events.values()], axis=0, ignore_index=True, sort=True)\n"
     ]
    },
    {
     "name": "stdout",
     "output_type": "stream",
     "text": [
      "Partido 3872065 completado\n"
     ]
    },
    {
     "name": "stderr",
     "output_type": "stream",
     "text": [
      "C:\\Users\\lucio\\AppData\\Local\\Packages\\PythonSoftwareFoundation.Python.3.11_qbz5n2kfra8p0\\LocalCache\\local-packages\\Python311\\site-packages\\statsbombpy\\sb.py:122: FutureWarning: The behavior of DataFrame concatenation with empty or all-NA entries is deprecated. In a future version, this will no longer exclude empty or all-NA columns when determining the result dtypes. To retain the old behavior, exclude the relevant entries before the concat operation.\n",
      "  events = pd.concat([*events.values()], axis=0, ignore_index=True, sort=True)\n"
     ]
    },
    {
     "name": "stdout",
     "output_type": "stream",
     "text": [
      "Partido 3872064 completado\n"
     ]
    },
    {
     "name": "stderr",
     "output_type": "stream",
     "text": [
      "C:\\Users\\lucio\\AppData\\Local\\Packages\\PythonSoftwareFoundation.Python.3.11_qbz5n2kfra8p0\\LocalCache\\local-packages\\Python311\\site-packages\\statsbombpy\\sb.py:122: FutureWarning: The behavior of DataFrame concatenation with empty or all-NA entries is deprecated. In a future version, this will no longer exclude empty or all-NA columns when determining the result dtypes. To retain the old behavior, exclude the relevant entries before the concat operation.\n",
      "  events = pd.concat([*events.values()], axis=0, ignore_index=True, sort=True)\n"
     ]
    },
    {
     "name": "stdout",
     "output_type": "stream",
     "text": [
      "Partido 3872062 completado\n"
     ]
    },
    {
     "name": "stderr",
     "output_type": "stream",
     "text": [
      "C:\\Users\\lucio\\AppData\\Local\\Packages\\PythonSoftwareFoundation.Python.3.11_qbz5n2kfra8p0\\LocalCache\\local-packages\\Python311\\site-packages\\statsbombpy\\sb.py:122: FutureWarning: The behavior of DataFrame concatenation with empty or all-NA entries is deprecated. In a future version, this will no longer exclude empty or all-NA columns when determining the result dtypes. To retain the old behavior, exclude the relevant entries before the concat operation.\n",
      "  events = pd.concat([*events.values()], axis=0, ignore_index=True, sort=True)\n"
     ]
    },
    {
     "name": "stdout",
     "output_type": "stream",
     "text": [
      "Partido 3872061 completado\n"
     ]
    },
    {
     "name": "stderr",
     "output_type": "stream",
     "text": [
      "C:\\Users\\lucio\\AppData\\Local\\Packages\\PythonSoftwareFoundation.Python.3.11_qbz5n2kfra8p0\\LocalCache\\local-packages\\Python311\\site-packages\\statsbombpy\\sb.py:122: FutureWarning: The behavior of DataFrame concatenation with empty or all-NA entries is deprecated. In a future version, this will no longer exclude empty or all-NA columns when determining the result dtypes. To retain the old behavior, exclude the relevant entries before the concat operation.\n",
      "  events = pd.concat([*events.values()], axis=0, ignore_index=True, sort=True)\n"
     ]
    },
    {
     "name": "stdout",
     "output_type": "stream",
     "text": [
      "Partido 3872060 completado\n"
     ]
    },
    {
     "name": "stderr",
     "output_type": "stream",
     "text": [
      "C:\\Users\\lucio\\AppData\\Local\\Packages\\PythonSoftwareFoundation.Python.3.11_qbz5n2kfra8p0\\LocalCache\\local-packages\\Python311\\site-packages\\statsbombpy\\sb.py:122: FutureWarning: The behavior of DataFrame concatenation with empty or all-NA entries is deprecated. In a future version, this will no longer exclude empty or all-NA columns when determining the result dtypes. To retain the old behavior, exclude the relevant entries before the concat operation.\n",
      "  events = pd.concat([*events.values()], axis=0, ignore_index=True, sort=True)\n"
     ]
    },
    {
     "name": "stdout",
     "output_type": "stream",
     "text": [
      "Partido 3872053 completado\n"
     ]
    },
    {
     "name": "stderr",
     "output_type": "stream",
     "text": [
      "C:\\Users\\lucio\\AppData\\Local\\Packages\\PythonSoftwareFoundation.Python.3.11_qbz5n2kfra8p0\\LocalCache\\local-packages\\Python311\\site-packages\\statsbombpy\\sb.py:122: FutureWarning: The behavior of DataFrame concatenation with empty or all-NA entries is deprecated. In a future version, this will no longer exclude empty or all-NA columns when determining the result dtypes. To retain the old behavior, exclude the relevant entries before the concat operation.\n",
      "  events = pd.concat([*events.values()], axis=0, ignore_index=True, sort=True)\n"
     ]
    },
    {
     "name": "stdout",
     "output_type": "stream",
     "text": [
      "Partido 3872052 completado\n"
     ]
    },
    {
     "name": "stderr",
     "output_type": "stream",
     "text": [
      "C:\\Users\\lucio\\AppData\\Local\\Packages\\PythonSoftwareFoundation.Python.3.11_qbz5n2kfra8p0\\LocalCache\\local-packages\\Python311\\site-packages\\statsbombpy\\sb.py:122: FutureWarning: The behavior of DataFrame concatenation with empty or all-NA entries is deprecated. In a future version, this will no longer exclude empty or all-NA columns when determining the result dtypes. To retain the old behavior, exclude the relevant entries before the concat operation.\n",
      "  events = pd.concat([*events.values()], axis=0, ignore_index=True, sort=True)\n"
     ]
    },
    {
     "name": "stdout",
     "output_type": "stream",
     "text": [
      "Partido 3872051 completado\n"
     ]
    },
    {
     "name": "stderr",
     "output_type": "stream",
     "text": [
      "C:\\Users\\lucio\\AppData\\Local\\Packages\\PythonSoftwareFoundation.Python.3.11_qbz5n2kfra8p0\\LocalCache\\local-packages\\Python311\\site-packages\\statsbombpy\\sb.py:122: FutureWarning: The behavior of DataFrame concatenation with empty or all-NA entries is deprecated. In a future version, this will no longer exclude empty or all-NA columns when determining the result dtypes. To retain the old behavior, exclude the relevant entries before the concat operation.\n",
      "  events = pd.concat([*events.values()], axis=0, ignore_index=True, sort=True)\n"
     ]
    },
    {
     "name": "stdout",
     "output_type": "stream",
     "text": [
      "Partido 3872042 completado\n"
     ]
    },
    {
     "name": "stderr",
     "output_type": "stream",
     "text": [
      "C:\\Users\\lucio\\AppData\\Local\\Packages\\PythonSoftwareFoundation.Python.3.11_qbz5n2kfra8p0\\LocalCache\\local-packages\\Python311\\site-packages\\statsbombpy\\sb.py:122: FutureWarning: The behavior of DataFrame concatenation with empty or all-NA entries is deprecated. In a future version, this will no longer exclude empty or all-NA columns when determining the result dtypes. To retain the old behavior, exclude the relevant entries before the concat operation.\n",
      "  events = pd.concat([*events.values()], axis=0, ignore_index=True, sort=True)\n"
     ]
    },
    {
     "name": "stdout",
     "output_type": "stream",
     "text": [
      "Partido 3872038 completado\n"
     ]
    },
    {
     "name": "stderr",
     "output_type": "stream",
     "text": [
      "C:\\Users\\lucio\\AppData\\Local\\Packages\\PythonSoftwareFoundation.Python.3.11_qbz5n2kfra8p0\\LocalCache\\local-packages\\Python311\\site-packages\\statsbombpy\\sb.py:122: FutureWarning: The behavior of DataFrame concatenation with empty or all-NA entries is deprecated. In a future version, this will no longer exclude empty or all-NA columns when determining the result dtypes. To retain the old behavior, exclude the relevant entries before the concat operation.\n",
      "  events = pd.concat([*events.values()], axis=0, ignore_index=True, sort=True)\n"
     ]
    },
    {
     "name": "stdout",
     "output_type": "stream",
     "text": [
      "Partido 3872035 completado\n"
     ]
    },
    {
     "name": "stderr",
     "output_type": "stream",
     "text": [
      "C:\\Users\\lucio\\AppData\\Local\\Packages\\PythonSoftwareFoundation.Python.3.11_qbz5n2kfra8p0\\LocalCache\\local-packages\\Python311\\site-packages\\statsbombpy\\sb.py:122: FutureWarning: The behavior of DataFrame concatenation with empty or all-NA entries is deprecated. In a future version, this will no longer exclude empty or all-NA columns when determining the result dtypes. To retain the old behavior, exclude the relevant entries before the concat operation.\n",
      "  events = pd.concat([*events.values()], axis=0, ignore_index=True, sort=True)\n"
     ]
    },
    {
     "name": "stdout",
     "output_type": "stream",
     "text": [
      "Partido 3872032 completado\n"
     ]
    },
    {
     "name": "stderr",
     "output_type": "stream",
     "text": [
      "C:\\Users\\lucio\\AppData\\Local\\Packages\\PythonSoftwareFoundation.Python.3.11_qbz5n2kfra8p0\\LocalCache\\local-packages\\Python311\\site-packages\\statsbombpy\\sb.py:122: FutureWarning: The behavior of DataFrame concatenation with empty or all-NA entries is deprecated. In a future version, this will no longer exclude empty or all-NA columns when determining the result dtypes. To retain the old behavior, exclude the relevant entries before the concat operation.\n",
      "  events = pd.concat([*events.values()], axis=0, ignore_index=True, sort=True)\n"
     ]
    },
    {
     "name": "stdout",
     "output_type": "stream",
     "text": [
      "Partido 3872029 completado\n"
     ]
    },
    {
     "name": "stderr",
     "output_type": "stream",
     "text": [
      "C:\\Users\\lucio\\AppData\\Local\\Packages\\PythonSoftwareFoundation.Python.3.11_qbz5n2kfra8p0\\LocalCache\\local-packages\\Python311\\site-packages\\statsbombpy\\sb.py:122: FutureWarning: The behavior of DataFrame concatenation with empty or all-NA entries is deprecated. In a future version, this will no longer exclude empty or all-NA columns when determining the result dtypes. To retain the old behavior, exclude the relevant entries before the concat operation.\n",
      "  events = pd.concat([*events.values()], axis=0, ignore_index=True, sort=True)\n"
     ]
    },
    {
     "name": "stdout",
     "output_type": "stream",
     "text": [
      "Partido 3872028 completado\n"
     ]
    },
    {
     "name": "stderr",
     "output_type": "stream",
     "text": [
      "C:\\Users\\lucio\\AppData\\Local\\Packages\\PythonSoftwareFoundation.Python.3.11_qbz5n2kfra8p0\\LocalCache\\local-packages\\Python311\\site-packages\\statsbombpy\\sb.py:122: FutureWarning: The behavior of DataFrame concatenation with empty or all-NA entries is deprecated. In a future version, this will no longer exclude empty or all-NA columns when determining the result dtypes. To retain the old behavior, exclude the relevant entries before the concat operation.\n",
      "  events = pd.concat([*events.values()], axis=0, ignore_index=True, sort=True)\n"
     ]
    },
    {
     "name": "stdout",
     "output_type": "stream",
     "text": [
      "Partido 3872023 completado\n"
     ]
    },
    {
     "name": "stderr",
     "output_type": "stream",
     "text": [
      "C:\\Users\\lucio\\AppData\\Local\\Packages\\PythonSoftwareFoundation.Python.3.11_qbz5n2kfra8p0\\LocalCache\\local-packages\\Python311\\site-packages\\statsbombpy\\sb.py:122: FutureWarning: The behavior of DataFrame concatenation with empty or all-NA entries is deprecated. In a future version, this will no longer exclude empty or all-NA columns when determining the result dtypes. To retain the old behavior, exclude the relevant entries before the concat operation.\n",
      "  events = pd.concat([*events.values()], axis=0, ignore_index=True, sort=True)\n"
     ]
    },
    {
     "name": "stdout",
     "output_type": "stream",
     "text": [
      "Partido 3872022 completado\n"
     ]
    },
    {
     "name": "stderr",
     "output_type": "stream",
     "text": [
      "C:\\Users\\lucio\\AppData\\Local\\Packages\\PythonSoftwareFoundation.Python.3.11_qbz5n2kfra8p0\\LocalCache\\local-packages\\Python311\\site-packages\\statsbombpy\\sb.py:122: FutureWarning: The behavior of DataFrame concatenation with empty or all-NA entries is deprecated. In a future version, this will no longer exclude empty or all-NA columns when determining the result dtypes. To retain the old behavior, exclude the relevant entries before the concat operation.\n",
      "  events = pd.concat([*events.values()], axis=0, ignore_index=True, sort=True)\n"
     ]
    },
    {
     "name": "stdout",
     "output_type": "stream",
     "text": [
      "Partido 3872020 completado\n"
     ]
    },
    {
     "name": "stderr",
     "output_type": "stream",
     "text": [
      "C:\\Users\\lucio\\AppData\\Local\\Packages\\PythonSoftwareFoundation.Python.3.11_qbz5n2kfra8p0\\LocalCache\\local-packages\\Python311\\site-packages\\statsbombpy\\sb.py:122: FutureWarning: The behavior of DataFrame concatenation with empty or all-NA entries is deprecated. In a future version, this will no longer exclude empty or all-NA columns when determining the result dtypes. To retain the old behavior, exclude the relevant entries before the concat operation.\n",
      "  events = pd.concat([*events.values()], axis=0, ignore_index=True, sort=True)\n"
     ]
    },
    {
     "name": "stdout",
     "output_type": "stream",
     "text": [
      "Partido 3872018 completado\n"
     ]
    },
    {
     "name": "stderr",
     "output_type": "stream",
     "text": [
      "C:\\Users\\lucio\\AppData\\Local\\Packages\\PythonSoftwareFoundation.Python.3.11_qbz5n2kfra8p0\\LocalCache\\local-packages\\Python311\\site-packages\\statsbombpy\\sb.py:122: FutureWarning: The behavior of DataFrame concatenation with empty or all-NA entries is deprecated. In a future version, this will no longer exclude empty or all-NA columns when determining the result dtypes. To retain the old behavior, exclude the relevant entries before the concat operation.\n",
      "  events = pd.concat([*events.values()], axis=0, ignore_index=True, sort=True)\n"
     ]
    },
    {
     "name": "stdout",
     "output_type": "stream",
     "text": [
      "Partido 3872017 completado\n"
     ]
    },
    {
     "name": "stderr",
     "output_type": "stream",
     "text": [
      "C:\\Users\\lucio\\AppData\\Local\\Packages\\PythonSoftwareFoundation.Python.3.11_qbz5n2kfra8p0\\LocalCache\\local-packages\\Python311\\site-packages\\statsbombpy\\sb.py:122: FutureWarning: The behavior of DataFrame concatenation with empty or all-NA entries is deprecated. In a future version, this will no longer exclude empty or all-NA columns when determining the result dtypes. To retain the old behavior, exclude the relevant entries before the concat operation.\n",
      "  events = pd.concat([*events.values()], axis=0, ignore_index=True, sort=True)\n"
     ]
    },
    {
     "name": "stdout",
     "output_type": "stream",
     "text": [
      "Partido 3872016 completado\n"
     ]
    },
    {
     "name": "stderr",
     "output_type": "stream",
     "text": [
      "C:\\Users\\lucio\\AppData\\Local\\Packages\\PythonSoftwareFoundation.Python.3.11_qbz5n2kfra8p0\\LocalCache\\local-packages\\Python311\\site-packages\\statsbombpy\\sb.py:122: FutureWarning: The behavior of DataFrame concatenation with empty or all-NA entries is deprecated. In a future version, this will no longer exclude empty or all-NA columns when determining the result dtypes. To retain the old behavior, exclude the relevant entries before the concat operation.\n",
      "  events = pd.concat([*events.values()], axis=0, ignore_index=True, sort=True)\n"
     ]
    },
    {
     "name": "stdout",
     "output_type": "stream",
     "text": [
      "Partido 3872014 completado\n"
     ]
    },
    {
     "name": "stderr",
     "output_type": "stream",
     "text": [
      "C:\\Users\\lucio\\AppData\\Local\\Packages\\PythonSoftwareFoundation.Python.3.11_qbz5n2kfra8p0\\LocalCache\\local-packages\\Python311\\site-packages\\statsbombpy\\sb.py:122: FutureWarning: The behavior of DataFrame concatenation with empty or all-NA entries is deprecated. In a future version, this will no longer exclude empty or all-NA columns when determining the result dtypes. To retain the old behavior, exclude the relevant entries before the concat operation.\n",
      "  events = pd.concat([*events.values()], axis=0, ignore_index=True, sort=True)\n"
     ]
    },
    {
     "name": "stdout",
     "output_type": "stream",
     "text": [
      "Partido 3872013 completado\n"
     ]
    },
    {
     "name": "stderr",
     "output_type": "stream",
     "text": [
      "C:\\Users\\lucio\\AppData\\Local\\Packages\\PythonSoftwareFoundation.Python.3.11_qbz5n2kfra8p0\\LocalCache\\local-packages\\Python311\\site-packages\\statsbombpy\\sb.py:122: FutureWarning: The behavior of DataFrame concatenation with empty or all-NA entries is deprecated. In a future version, this will no longer exclude empty or all-NA columns when determining the result dtypes. To retain the old behavior, exclude the relevant entries before the concat operation.\n",
      "  events = pd.concat([*events.values()], axis=0, ignore_index=True, sort=True)\n"
     ]
    },
    {
     "name": "stdout",
     "output_type": "stream",
     "text": [
      "Partido 3872012 completado\n"
     ]
    },
    {
     "name": "stderr",
     "output_type": "stream",
     "text": [
      "C:\\Users\\lucio\\AppData\\Local\\Packages\\PythonSoftwareFoundation.Python.3.11_qbz5n2kfra8p0\\LocalCache\\local-packages\\Python311\\site-packages\\statsbombpy\\sb.py:122: FutureWarning: The behavior of DataFrame concatenation with empty or all-NA entries is deprecated. In a future version, this will no longer exclude empty or all-NA columns when determining the result dtypes. To retain the old behavior, exclude the relevant entries before the concat operation.\n",
      "  events = pd.concat([*events.values()], axis=0, ignore_index=True, sort=True)\n"
     ]
    },
    {
     "name": "stdout",
     "output_type": "stream",
     "text": [
      "Partido 3872011 completado\n"
     ]
    },
    {
     "name": "stderr",
     "output_type": "stream",
     "text": [
      "C:\\Users\\lucio\\AppData\\Local\\Packages\\PythonSoftwareFoundation.Python.3.11_qbz5n2kfra8p0\\LocalCache\\local-packages\\Python311\\site-packages\\statsbombpy\\sb.py:122: FutureWarning: The behavior of DataFrame concatenation with empty or all-NA entries is deprecated. In a future version, this will no longer exclude empty or all-NA columns when determining the result dtypes. To retain the old behavior, exclude the relevant entries before the concat operation.\n",
      "  events = pd.concat([*events.values()], axis=0, ignore_index=True, sort=True)\n"
     ]
    },
    {
     "name": "stdout",
     "output_type": "stream",
     "text": [
      "Partido 3872008 completado\n"
     ]
    },
    {
     "name": "stderr",
     "output_type": "stream",
     "text": [
      "C:\\Users\\lucio\\AppData\\Local\\Packages\\PythonSoftwareFoundation.Python.3.11_qbz5n2kfra8p0\\LocalCache\\local-packages\\Python311\\site-packages\\statsbombpy\\sb.py:122: FutureWarning: The behavior of DataFrame concatenation with empty or all-NA entries is deprecated. In a future version, this will no longer exclude empty or all-NA columns when determining the result dtypes. To retain the old behavior, exclude the relevant entries before the concat operation.\n",
      "  events = pd.concat([*events.values()], axis=0, ignore_index=True, sort=True)\n"
     ]
    },
    {
     "name": "stdout",
     "output_type": "stream",
     "text": [
      "Partido 3872007 completado\n"
     ]
    },
    {
     "name": "stderr",
     "output_type": "stream",
     "text": [
      "C:\\Users\\lucio\\AppData\\Local\\Packages\\PythonSoftwareFoundation.Python.3.11_qbz5n2kfra8p0\\LocalCache\\local-packages\\Python311\\site-packages\\statsbombpy\\sb.py:122: FutureWarning: The behavior of DataFrame concatenation with empty or all-NA entries is deprecated. In a future version, this will no longer exclude empty or all-NA columns when determining the result dtypes. To retain the old behavior, exclude the relevant entries before the concat operation.\n",
      "  events = pd.concat([*events.values()], axis=0, ignore_index=True, sort=True)\n"
     ]
    },
    {
     "name": "stdout",
     "output_type": "stream",
     "text": [
      "Partido 3872004 completado\n"
     ]
    },
    {
     "name": "stderr",
     "output_type": "stream",
     "text": [
      "C:\\Users\\lucio\\AppData\\Local\\Packages\\PythonSoftwareFoundation.Python.3.11_qbz5n2kfra8p0\\LocalCache\\local-packages\\Python311\\site-packages\\statsbombpy\\sb.py:122: FutureWarning: The behavior of DataFrame concatenation with empty or all-NA entries is deprecated. In a future version, this will no longer exclude empty or all-NA columns when determining the result dtypes. To retain the old behavior, exclude the relevant entries before the concat operation.\n",
      "  events = pd.concat([*events.values()], axis=0, ignore_index=True, sort=True)\n"
     ]
    },
    {
     "name": "stdout",
     "output_type": "stream",
     "text": [
      "Partido 3872003 completado\n"
     ]
    },
    {
     "name": "stderr",
     "output_type": "stream",
     "text": [
      "C:\\Users\\lucio\\AppData\\Local\\Packages\\PythonSoftwareFoundation.Python.3.11_qbz5n2kfra8p0\\LocalCache\\local-packages\\Python311\\site-packages\\statsbombpy\\sb.py:122: FutureWarning: The behavior of DataFrame concatenation with empty or all-NA entries is deprecated. In a future version, this will no longer exclude empty or all-NA columns when determining the result dtypes. To retain the old behavior, exclude the relevant entries before the concat operation.\n",
      "  events = pd.concat([*events.values()], axis=0, ignore_index=True, sort=True)\n"
     ]
    },
    {
     "name": "stdout",
     "output_type": "stream",
     "text": [
      "Partido 3872002 completado\n"
     ]
    },
    {
     "name": "stderr",
     "output_type": "stream",
     "text": [
      "C:\\Users\\lucio\\AppData\\Local\\Packages\\PythonSoftwareFoundation.Python.3.11_qbz5n2kfra8p0\\LocalCache\\local-packages\\Python311\\site-packages\\statsbombpy\\sb.py:122: FutureWarning: The behavior of DataFrame concatenation with empty or all-NA entries is deprecated. In a future version, this will no longer exclude empty or all-NA columns when determining the result dtypes. To retain the old behavior, exclude the relevant entries before the concat operation.\n",
      "  events = pd.concat([*events.values()], axis=0, ignore_index=True, sort=True)\n"
     ]
    },
    {
     "name": "stdout",
     "output_type": "stream",
     "text": [
      "Partido 3872001 completado\n"
     ]
    },
    {
     "name": "stderr",
     "output_type": "stream",
     "text": [
      "C:\\Users\\lucio\\AppData\\Local\\Packages\\PythonSoftwareFoundation.Python.3.11_qbz5n2kfra8p0\\LocalCache\\local-packages\\Python311\\site-packages\\statsbombpy\\sb.py:122: FutureWarning: The behavior of DataFrame concatenation with empty or all-NA entries is deprecated. In a future version, this will no longer exclude empty or all-NA columns when determining the result dtypes. To retain the old behavior, exclude the relevant entries before the concat operation.\n",
      "  events = pd.concat([*events.values()], axis=0, ignore_index=True, sort=True)\n"
     ]
    },
    {
     "name": "stdout",
     "output_type": "stream",
     "text": [
      "Partido 3872000 completado\n"
     ]
    },
    {
     "name": "stderr",
     "output_type": "stream",
     "text": [
      "C:\\Users\\lucio\\AppData\\Local\\Packages\\PythonSoftwareFoundation.Python.3.11_qbz5n2kfra8p0\\LocalCache\\local-packages\\Python311\\site-packages\\statsbombpy\\sb.py:122: FutureWarning: The behavior of DataFrame concatenation with empty or all-NA entries is deprecated. In a future version, this will no longer exclude empty or all-NA columns when determining the result dtypes. To retain the old behavior, exclude the relevant entries before the concat operation.\n",
      "  events = pd.concat([*events.values()], axis=0, ignore_index=True, sort=True)\n"
     ]
    },
    {
     "name": "stdout",
     "output_type": "stream",
     "text": [
      "Partido 3871999 completado\n"
     ]
    },
    {
     "name": "stderr",
     "output_type": "stream",
     "text": [
      "C:\\Users\\lucio\\AppData\\Local\\Packages\\PythonSoftwareFoundation.Python.3.11_qbz5n2kfra8p0\\LocalCache\\local-packages\\Python311\\site-packages\\statsbombpy\\sb.py:122: FutureWarning: The behavior of DataFrame concatenation with empty or all-NA entries is deprecated. In a future version, this will no longer exclude empty or all-NA columns when determining the result dtypes. To retain the old behavior, exclude the relevant entries before the concat operation.\n",
      "  events = pd.concat([*events.values()], axis=0, ignore_index=True, sort=True)\n"
     ]
    },
    {
     "name": "stdout",
     "output_type": "stream",
     "text": [
      "Partido 3871993 completado\n"
     ]
    },
    {
     "name": "stderr",
     "output_type": "stream",
     "text": [
      "C:\\Users\\lucio\\AppData\\Local\\Packages\\PythonSoftwareFoundation.Python.3.11_qbz5n2kfra8p0\\LocalCache\\local-packages\\Python311\\site-packages\\statsbombpy\\sb.py:122: FutureWarning: The behavior of DataFrame concatenation with empty or all-NA entries is deprecated. In a future version, this will no longer exclude empty or all-NA columns when determining the result dtypes. To retain the old behavior, exclude the relevant entries before the concat operation.\n",
      "  events = pd.concat([*events.values()], axis=0, ignore_index=True, sort=True)\n"
     ]
    },
    {
     "name": "stdout",
     "output_type": "stream",
     "text": [
      "Partido 3871992 completado\n"
     ]
    },
    {
     "name": "stderr",
     "output_type": "stream",
     "text": [
      "C:\\Users\\lucio\\AppData\\Local\\Packages\\PythonSoftwareFoundation.Python.3.11_qbz5n2kfra8p0\\LocalCache\\local-packages\\Python311\\site-packages\\statsbombpy\\sb.py:122: FutureWarning: The behavior of DataFrame concatenation with empty or all-NA entries is deprecated. In a future version, this will no longer exclude empty or all-NA columns when determining the result dtypes. To retain the old behavior, exclude the relevant entries before the concat operation.\n",
      "  events = pd.concat([*events.values()], axis=0, ignore_index=True, sort=True)\n"
     ]
    },
    {
     "name": "stdout",
     "output_type": "stream",
     "text": [
      "Partido 3871990 completado\n"
     ]
    },
    {
     "name": "stderr",
     "output_type": "stream",
     "text": [
      "C:\\Users\\lucio\\AppData\\Local\\Packages\\PythonSoftwareFoundation.Python.3.11_qbz5n2kfra8p0\\LocalCache\\local-packages\\Python311\\site-packages\\statsbombpy\\sb.py:122: FutureWarning: The behavior of DataFrame concatenation with empty or all-NA entries is deprecated. In a future version, this will no longer exclude empty or all-NA columns when determining the result dtypes. To retain the old behavior, exclude the relevant entries before the concat operation.\n",
      "  events = pd.concat([*events.values()], axis=0, ignore_index=True, sort=True)\n"
     ]
    },
    {
     "name": "stdout",
     "output_type": "stream",
     "text": [
      "Partido 3871988 completado\n"
     ]
    },
    {
     "name": "stderr",
     "output_type": "stream",
     "text": [
      "C:\\Users\\lucio\\AppData\\Local\\Packages\\PythonSoftwareFoundation.Python.3.11_qbz5n2kfra8p0\\LocalCache\\local-packages\\Python311\\site-packages\\statsbombpy\\sb.py:122: FutureWarning: The behavior of DataFrame concatenation with empty or all-NA entries is deprecated. In a future version, this will no longer exclude empty or all-NA columns when determining the result dtypes. To retain the old behavior, exclude the relevant entries before the concat operation.\n",
      "  events = pd.concat([*events.values()], axis=0, ignore_index=True, sort=True)\n"
     ]
    },
    {
     "name": "stdout",
     "output_type": "stream",
     "text": [
      "Partido 3871986 completado\n"
     ]
    },
    {
     "name": "stderr",
     "output_type": "stream",
     "text": [
      "C:\\Users\\lucio\\AppData\\Local\\Packages\\PythonSoftwareFoundation.Python.3.11_qbz5n2kfra8p0\\LocalCache\\local-packages\\Python311\\site-packages\\statsbombpy\\sb.py:122: FutureWarning: The behavior of DataFrame concatenation with empty or all-NA entries is deprecated. In a future version, this will no longer exclude empty or all-NA columns when determining the result dtypes. To retain the old behavior, exclude the relevant entries before the concat operation.\n",
      "  events = pd.concat([*events.values()], axis=0, ignore_index=True, sort=True)\n"
     ]
    },
    {
     "name": "stdout",
     "output_type": "stream",
     "text": [
      "Partido 3871985 completado\n"
     ]
    },
    {
     "name": "stderr",
     "output_type": "stream",
     "text": [
      "C:\\Users\\lucio\\AppData\\Local\\Packages\\PythonSoftwareFoundation.Python.3.11_qbz5n2kfra8p0\\LocalCache\\local-packages\\Python311\\site-packages\\statsbombpy\\sb.py:122: FutureWarning: The behavior of DataFrame concatenation with empty or all-NA entries is deprecated. In a future version, this will no longer exclude empty or all-NA columns when determining the result dtypes. To retain the old behavior, exclude the relevant entries before the concat operation.\n",
      "  events = pd.concat([*events.values()], axis=0, ignore_index=True, sort=True)\n"
     ]
    },
    {
     "name": "stdout",
     "output_type": "stream",
     "text": [
      "Partido 3871979 completado\n"
     ]
    },
    {
     "name": "stderr",
     "output_type": "stream",
     "text": [
      "C:\\Users\\lucio\\AppData\\Local\\Packages\\PythonSoftwareFoundation.Python.3.11_qbz5n2kfra8p0\\LocalCache\\local-packages\\Python311\\site-packages\\statsbombpy\\sb.py:122: FutureWarning: The behavior of DataFrame concatenation with empty or all-NA entries is deprecated. In a future version, this will no longer exclude empty or all-NA columns when determining the result dtypes. To retain the old behavior, exclude the relevant entries before the concat operation.\n",
      "  events = pd.concat([*events.values()], axis=0, ignore_index=True, sort=True)\n"
     ]
    },
    {
     "name": "stdout",
     "output_type": "stream",
     "text": [
      "Partido 3871977 completado\n"
     ]
    },
    {
     "name": "stderr",
     "output_type": "stream",
     "text": [
      "C:\\Users\\lucio\\AppData\\Local\\Packages\\PythonSoftwareFoundation.Python.3.11_qbz5n2kfra8p0\\LocalCache\\local-packages\\Python311\\site-packages\\statsbombpy\\sb.py:122: FutureWarning: The behavior of DataFrame concatenation with empty or all-NA entries is deprecated. In a future version, this will no longer exclude empty or all-NA columns when determining the result dtypes. To retain the old behavior, exclude the relevant entries before the concat operation.\n",
      "  events = pd.concat([*events.values()], axis=0, ignore_index=True, sort=True)\n"
     ]
    },
    {
     "name": "stdout",
     "output_type": "stream",
     "text": [
      "Partido 3871976 completado\n"
     ]
    },
    {
     "name": "stderr",
     "output_type": "stream",
     "text": [
      "C:\\Users\\lucio\\AppData\\Local\\Packages\\PythonSoftwareFoundation.Python.3.11_qbz5n2kfra8p0\\LocalCache\\local-packages\\Python311\\site-packages\\statsbombpy\\sb.py:122: FutureWarning: The behavior of DataFrame concatenation with empty or all-NA entries is deprecated. In a future version, this will no longer exclude empty or all-NA columns when determining the result dtypes. To retain the old behavior, exclude the relevant entries before the concat operation.\n",
      "  events = pd.concat([*events.values()], axis=0, ignore_index=True, sort=True)\n"
     ]
    },
    {
     "name": "stdout",
     "output_type": "stream",
     "text": [
      "Partido 3871974 completado\n"
     ]
    },
    {
     "name": "stderr",
     "output_type": "stream",
     "text": [
      "C:\\Users\\lucio\\AppData\\Local\\Packages\\PythonSoftwareFoundation.Python.3.11_qbz5n2kfra8p0\\LocalCache\\local-packages\\Python311\\site-packages\\statsbombpy\\sb.py:122: FutureWarning: The behavior of DataFrame concatenation with empty or all-NA entries is deprecated. In a future version, this will no longer exclude empty or all-NA columns when determining the result dtypes. To retain the old behavior, exclude the relevant entries before the concat operation.\n",
      "  events = pd.concat([*events.values()], axis=0, ignore_index=True, sort=True)\n"
     ]
    },
    {
     "name": "stdout",
     "output_type": "stream",
     "text": [
      "Partido 3871973 completado\n"
     ]
    },
    {
     "name": "stderr",
     "output_type": "stream",
     "text": [
      "C:\\Users\\lucio\\AppData\\Local\\Packages\\PythonSoftwareFoundation.Python.3.11_qbz5n2kfra8p0\\LocalCache\\local-packages\\Python311\\site-packages\\statsbombpy\\sb.py:122: FutureWarning: The behavior of DataFrame concatenation with empty or all-NA entries is deprecated. In a future version, this will no longer exclude empty or all-NA columns when determining the result dtypes. To retain the old behavior, exclude the relevant entries before the concat operation.\n",
      "  events = pd.concat([*events.values()], axis=0, ignore_index=True, sort=True)\n"
     ]
    },
    {
     "name": "stdout",
     "output_type": "stream",
     "text": [
      "Partido 3871971 completado\n"
     ]
    },
    {
     "name": "stderr",
     "output_type": "stream",
     "text": [
      "C:\\Users\\lucio\\AppData\\Local\\Packages\\PythonSoftwareFoundation.Python.3.11_qbz5n2kfra8p0\\LocalCache\\local-packages\\Python311\\site-packages\\statsbombpy\\sb.py:122: FutureWarning: The behavior of DataFrame concatenation with empty or all-NA entries is deprecated. In a future version, this will no longer exclude empty or all-NA columns when determining the result dtypes. To retain the old behavior, exclude the relevant entries before the concat operation.\n",
      "  events = pd.concat([*events.values()], axis=0, ignore_index=True, sort=True)\n"
     ]
    },
    {
     "name": "stdout",
     "output_type": "stream",
     "text": [
      "Partido 3871969 completado\n"
     ]
    },
    {
     "name": "stderr",
     "output_type": "stream",
     "text": [
      "C:\\Users\\lucio\\AppData\\Local\\Packages\\PythonSoftwareFoundation.Python.3.11_qbz5n2kfra8p0\\LocalCache\\local-packages\\Python311\\site-packages\\statsbombpy\\sb.py:122: FutureWarning: The behavior of DataFrame concatenation with empty or all-NA entries is deprecated. In a future version, this will no longer exclude empty or all-NA columns when determining the result dtypes. To retain the old behavior, exclude the relevant entries before the concat operation.\n",
      "  events = pd.concat([*events.values()], axis=0, ignore_index=True, sort=True)\n"
     ]
    },
    {
     "name": "stdout",
     "output_type": "stream",
     "text": [
      "Partido 3871968 completado\n"
     ]
    },
    {
     "name": "stderr",
     "output_type": "stream",
     "text": [
      "C:\\Users\\lucio\\AppData\\Local\\Packages\\PythonSoftwareFoundation.Python.3.11_qbz5n2kfra8p0\\LocalCache\\local-packages\\Python311\\site-packages\\statsbombpy\\sb.py:122: FutureWarning: The behavior of DataFrame concatenation with empty or all-NA entries is deprecated. In a future version, this will no longer exclude empty or all-NA columns when determining the result dtypes. To retain the old behavior, exclude the relevant entries before the concat operation.\n",
      "  events = pd.concat([*events.values()], axis=0, ignore_index=True, sort=True)\n"
     ]
    },
    {
     "name": "stdout",
     "output_type": "stream",
     "text": [
      "Partido 3871967 completado\n"
     ]
    },
    {
     "name": "stderr",
     "output_type": "stream",
     "text": [
      "C:\\Users\\lucio\\AppData\\Local\\Packages\\PythonSoftwareFoundation.Python.3.11_qbz5n2kfra8p0\\LocalCache\\local-packages\\Python311\\site-packages\\statsbombpy\\sb.py:122: FutureWarning: The behavior of DataFrame concatenation with empty or all-NA entries is deprecated. In a future version, this will no longer exclude empty or all-NA columns when determining the result dtypes. To retain the old behavior, exclude the relevant entries before the concat operation.\n",
      "  events = pd.concat([*events.values()], axis=0, ignore_index=True, sort=True)\n"
     ]
    },
    {
     "name": "stdout",
     "output_type": "stream",
     "text": [
      "Partido 3871966 completado\n"
     ]
    },
    {
     "name": "stderr",
     "output_type": "stream",
     "text": [
      "C:\\Users\\lucio\\AppData\\Local\\Packages\\PythonSoftwareFoundation.Python.3.11_qbz5n2kfra8p0\\LocalCache\\local-packages\\Python311\\site-packages\\statsbombpy\\sb.py:122: FutureWarning: The behavior of DataFrame concatenation with empty or all-NA entries is deprecated. In a future version, this will no longer exclude empty or all-NA columns when determining the result dtypes. To retain the old behavior, exclude the relevant entries before the concat operation.\n",
      "  events = pd.concat([*events.values()], axis=0, ignore_index=True, sort=True)\n"
     ]
    },
    {
     "name": "stdout",
     "output_type": "stream",
     "text": [
      "Partido 3871965 completado\n"
     ]
    },
    {
     "name": "stderr",
     "output_type": "stream",
     "text": [
      "C:\\Users\\lucio\\AppData\\Local\\Packages\\PythonSoftwareFoundation.Python.3.11_qbz5n2kfra8p0\\LocalCache\\local-packages\\Python311\\site-packages\\statsbombpy\\sb.py:122: FutureWarning: The behavior of DataFrame concatenation with empty or all-NA entries is deprecated. In a future version, this will no longer exclude empty or all-NA columns when determining the result dtypes. To retain the old behavior, exclude the relevant entries before the concat operation.\n",
      "  events = pd.concat([*events.values()], axis=0, ignore_index=True, sort=True)\n"
     ]
    },
    {
     "name": "stdout",
     "output_type": "stream",
     "text": [
      "Partido 3871963 completado\n"
     ]
    },
    {
     "name": "stderr",
     "output_type": "stream",
     "text": [
      "C:\\Users\\lucio\\AppData\\Local\\Packages\\PythonSoftwareFoundation.Python.3.11_qbz5n2kfra8p0\\LocalCache\\local-packages\\Python311\\site-packages\\statsbombpy\\sb.py:122: FutureWarning: The behavior of DataFrame concatenation with empty or all-NA entries is deprecated. In a future version, this will no longer exclude empty or all-NA columns when determining the result dtypes. To retain the old behavior, exclude the relevant entries before the concat operation.\n",
      "  events = pd.concat([*events.values()], axis=0, ignore_index=True, sort=True)\n"
     ]
    },
    {
     "name": "stdout",
     "output_type": "stream",
     "text": [
      "Partido 3871962 completado\n"
     ]
    },
    {
     "name": "stderr",
     "output_type": "stream",
     "text": [
      "C:\\Users\\lucio\\AppData\\Local\\Packages\\PythonSoftwareFoundation.Python.3.11_qbz5n2kfra8p0\\LocalCache\\local-packages\\Python311\\site-packages\\statsbombpy\\sb.py:122: FutureWarning: The behavior of DataFrame concatenation with empty or all-NA entries is deprecated. In a future version, this will no longer exclude empty or all-NA columns when determining the result dtypes. To retain the old behavior, exclude the relevant entries before the concat operation.\n",
      "  events = pd.concat([*events.values()], axis=0, ignore_index=True, sort=True)\n"
     ]
    },
    {
     "name": "stdout",
     "output_type": "stream",
     "text": [
      "Partido 3871960 completado\n"
     ]
    },
    {
     "name": "stderr",
     "output_type": "stream",
     "text": [
      "C:\\Users\\lucio\\AppData\\Local\\Packages\\PythonSoftwareFoundation.Python.3.11_qbz5n2kfra8p0\\LocalCache\\local-packages\\Python311\\site-packages\\statsbombpy\\sb.py:122: FutureWarning: The behavior of DataFrame concatenation with empty or all-NA entries is deprecated. In a future version, this will no longer exclude empty or all-NA columns when determining the result dtypes. To retain the old behavior, exclude the relevant entries before the concat operation.\n",
      "  events = pd.concat([*events.values()], axis=0, ignore_index=True, sort=True)\n"
     ]
    },
    {
     "name": "stdout",
     "output_type": "stream",
     "text": [
      "Partido 3871959 completado\n"
     ]
    },
    {
     "name": "stderr",
     "output_type": "stream",
     "text": [
      "C:\\Users\\lucio\\AppData\\Local\\Packages\\PythonSoftwareFoundation.Python.3.11_qbz5n2kfra8p0\\LocalCache\\local-packages\\Python311\\site-packages\\statsbombpy\\sb.py:122: FutureWarning: The behavior of DataFrame concatenation with empty or all-NA entries is deprecated. In a future version, this will no longer exclude empty or all-NA columns when determining the result dtypes. To retain the old behavior, exclude the relevant entries before the concat operation.\n",
      "  events = pd.concat([*events.values()], axis=0, ignore_index=True, sort=True)\n"
     ]
    },
    {
     "name": "stdout",
     "output_type": "stream",
     "text": [
      "Partido 3871958 completado\n"
     ]
    },
    {
     "name": "stderr",
     "output_type": "stream",
     "text": [
      "C:\\Users\\lucio\\AppData\\Local\\Packages\\PythonSoftwareFoundation.Python.3.11_qbz5n2kfra8p0\\LocalCache\\local-packages\\Python311\\site-packages\\statsbombpy\\sb.py:122: FutureWarning: The behavior of DataFrame concatenation with empty or all-NA entries is deprecated. In a future version, this will no longer exclude empty or all-NA columns when determining the result dtypes. To retain the old behavior, exclude the relevant entries before the concat operation.\n",
      "  events = pd.concat([*events.values()], axis=0, ignore_index=True, sort=True)\n"
     ]
    },
    {
     "name": "stdout",
     "output_type": "stream",
     "text": [
      "Partido 3871957 completado\n"
     ]
    },
    {
     "name": "stderr",
     "output_type": "stream",
     "text": [
      "C:\\Users\\lucio\\AppData\\Local\\Packages\\PythonSoftwareFoundation.Python.3.11_qbz5n2kfra8p0\\LocalCache\\local-packages\\Python311\\site-packages\\statsbombpy\\sb.py:122: FutureWarning: The behavior of DataFrame concatenation with empty or all-NA entries is deprecated. In a future version, this will no longer exclude empty or all-NA columns when determining the result dtypes. To retain the old behavior, exclude the relevant entries before the concat operation.\n",
      "  events = pd.concat([*events.values()], axis=0, ignore_index=True, sort=True)\n"
     ]
    },
    {
     "name": "stdout",
     "output_type": "stream",
     "text": [
      "Partido 3871956 completado\n"
     ]
    },
    {
     "name": "stderr",
     "output_type": "stream",
     "text": [
      "C:\\Users\\lucio\\AppData\\Local\\Packages\\PythonSoftwareFoundation.Python.3.11_qbz5n2kfra8p0\\LocalCache\\local-packages\\Python311\\site-packages\\statsbombpy\\sb.py:122: FutureWarning: The behavior of DataFrame concatenation with empty or all-NA entries is deprecated. In a future version, this will no longer exclude empty or all-NA columns when determining the result dtypes. To retain the old behavior, exclude the relevant entries before the concat operation.\n",
      "  events = pd.concat([*events.values()], axis=0, ignore_index=True, sort=True)\n"
     ]
    },
    {
     "name": "stdout",
     "output_type": "stream",
     "text": [
      "Partido 3871955 completado\n"
     ]
    },
    {
     "name": "stderr",
     "output_type": "stream",
     "text": [
      "C:\\Users\\lucio\\AppData\\Local\\Packages\\PythonSoftwareFoundation.Python.3.11_qbz5n2kfra8p0\\LocalCache\\local-packages\\Python311\\site-packages\\statsbombpy\\sb.py:122: FutureWarning: The behavior of DataFrame concatenation with empty or all-NA entries is deprecated. In a future version, this will no longer exclude empty or all-NA columns when determining the result dtypes. To retain the old behavior, exclude the relevant entries before the concat operation.\n",
      "  events = pd.concat([*events.values()], axis=0, ignore_index=True, sort=True)\n"
     ]
    },
    {
     "name": "stdout",
     "output_type": "stream",
     "text": [
      "Partido 3871954 completado\n"
     ]
    },
    {
     "name": "stderr",
     "output_type": "stream",
     "text": [
      "C:\\Users\\lucio\\AppData\\Local\\Packages\\PythonSoftwareFoundation.Python.3.11_qbz5n2kfra8p0\\LocalCache\\local-packages\\Python311\\site-packages\\statsbombpy\\sb.py:122: FutureWarning: The behavior of DataFrame concatenation with empty or all-NA entries is deprecated. In a future version, this will no longer exclude empty or all-NA columns when determining the result dtypes. To retain the old behavior, exclude the relevant entries before the concat operation.\n",
      "  events = pd.concat([*events.values()], axis=0, ignore_index=True, sort=True)\n"
     ]
    },
    {
     "name": "stdout",
     "output_type": "stream",
     "text": [
      "Partido 3871953 completado\n"
     ]
    },
    {
     "name": "stderr",
     "output_type": "stream",
     "text": [
      "C:\\Users\\lucio\\AppData\\Local\\Packages\\PythonSoftwareFoundation.Python.3.11_qbz5n2kfra8p0\\LocalCache\\local-packages\\Python311\\site-packages\\statsbombpy\\sb.py:122: FutureWarning: The behavior of DataFrame concatenation with empty or all-NA entries is deprecated. In a future version, this will no longer exclude empty or all-NA columns when determining the result dtypes. To retain the old behavior, exclude the relevant entries before the concat operation.\n",
      "  events = pd.concat([*events.values()], axis=0, ignore_index=True, sort=True)\n"
     ]
    },
    {
     "name": "stdout",
     "output_type": "stream",
     "text": [
      "Partido 3871952 completado\n"
     ]
    },
    {
     "name": "stderr",
     "output_type": "stream",
     "text": [
      "C:\\Users\\lucio\\AppData\\Local\\Packages\\PythonSoftwareFoundation.Python.3.11_qbz5n2kfra8p0\\LocalCache\\local-packages\\Python311\\site-packages\\statsbombpy\\sb.py:122: FutureWarning: The behavior of DataFrame concatenation with empty or all-NA entries is deprecated. In a future version, this will no longer exclude empty or all-NA columns when determining the result dtypes. To retain the old behavior, exclude the relevant entries before the concat operation.\n",
      "  events = pd.concat([*events.values()], axis=0, ignore_index=True, sort=True)\n"
     ]
    },
    {
     "name": "stdout",
     "output_type": "stream",
     "text": [
      "Partido 3871951 completado\n"
     ]
    },
    {
     "name": "stderr",
     "output_type": "stream",
     "text": [
      "C:\\Users\\lucio\\AppData\\Local\\Packages\\PythonSoftwareFoundation.Python.3.11_qbz5n2kfra8p0\\LocalCache\\local-packages\\Python311\\site-packages\\statsbombpy\\sb.py:122: FutureWarning: The behavior of DataFrame concatenation with empty or all-NA entries is deprecated. In a future version, this will no longer exclude empty or all-NA columns when determining the result dtypes. To retain the old behavior, exclude the relevant entries before the concat operation.\n",
      "  events = pd.concat([*events.values()], axis=0, ignore_index=True, sort=True)\n"
     ]
    },
    {
     "name": "stdout",
     "output_type": "stream",
     "text": [
      "Partido 3871950 completado\n"
     ]
    },
    {
     "name": "stderr",
     "output_type": "stream",
     "text": [
      "C:\\Users\\lucio\\AppData\\Local\\Packages\\PythonSoftwareFoundation.Python.3.11_qbz5n2kfra8p0\\LocalCache\\local-packages\\Python311\\site-packages\\statsbombpy\\sb.py:122: FutureWarning: The behavior of DataFrame concatenation with empty or all-NA entries is deprecated. In a future version, this will no longer exclude empty or all-NA columns when determining the result dtypes. To retain the old behavior, exclude the relevant entries before the concat operation.\n",
      "  events = pd.concat([*events.values()], axis=0, ignore_index=True, sort=True)\n"
     ]
    },
    {
     "name": "stdout",
     "output_type": "stream",
     "text": [
      "Partido 3871949 completado\n"
     ]
    },
    {
     "name": "stderr",
     "output_type": "stream",
     "text": [
      "C:\\Users\\lucio\\AppData\\Local\\Packages\\PythonSoftwareFoundation.Python.3.11_qbz5n2kfra8p0\\LocalCache\\local-packages\\Python311\\site-packages\\statsbombpy\\sb.py:122: FutureWarning: The behavior of DataFrame concatenation with empty or all-NA entries is deprecated. In a future version, this will no longer exclude empty or all-NA columns when determining the result dtypes. To retain the old behavior, exclude the relevant entries before the concat operation.\n",
      "  events = pd.concat([*events.values()], axis=0, ignore_index=True, sort=True)\n"
     ]
    },
    {
     "name": "stdout",
     "output_type": "stream",
     "text": [
      "Partido 3871948 completado\n"
     ]
    },
    {
     "name": "stderr",
     "output_type": "stream",
     "text": [
      "C:\\Users\\lucio\\AppData\\Local\\Packages\\PythonSoftwareFoundation.Python.3.11_qbz5n2kfra8p0\\LocalCache\\local-packages\\Python311\\site-packages\\statsbombpy\\sb.py:122: FutureWarning: The behavior of DataFrame concatenation with empty or all-NA entries is deprecated. In a future version, this will no longer exclude empty or all-NA columns when determining the result dtypes. To retain the old behavior, exclude the relevant entries before the concat operation.\n",
      "  events = pd.concat([*events.values()], axis=0, ignore_index=True, sort=True)\n"
     ]
    },
    {
     "name": "stdout",
     "output_type": "stream",
     "text": [
      "Partido 3871947 completado\n"
     ]
    },
    {
     "name": "stderr",
     "output_type": "stream",
     "text": [
      "C:\\Users\\lucio\\AppData\\Local\\Packages\\PythonSoftwareFoundation.Python.3.11_qbz5n2kfra8p0\\LocalCache\\local-packages\\Python311\\site-packages\\statsbombpy\\sb.py:122: FutureWarning: The behavior of DataFrame concatenation with empty or all-NA entries is deprecated. In a future version, this will no longer exclude empty or all-NA columns when determining the result dtypes. To retain the old behavior, exclude the relevant entries before the concat operation.\n",
      "  events = pd.concat([*events.values()], axis=0, ignore_index=True, sort=True)\n"
     ]
    },
    {
     "name": "stdout",
     "output_type": "stream",
     "text": [
      "Partido 3871946 completado\n"
     ]
    },
    {
     "name": "stderr",
     "output_type": "stream",
     "text": [
      "C:\\Users\\lucio\\AppData\\Local\\Packages\\PythonSoftwareFoundation.Python.3.11_qbz5n2kfra8p0\\LocalCache\\local-packages\\Python311\\site-packages\\statsbombpy\\sb.py:122: FutureWarning: The behavior of DataFrame concatenation with empty or all-NA entries is deprecated. In a future version, this will no longer exclude empty or all-NA columns when determining the result dtypes. To retain the old behavior, exclude the relevant entries before the concat operation.\n",
      "  events = pd.concat([*events.values()], axis=0, ignore_index=True, sort=True)\n"
     ]
    },
    {
     "name": "stdout",
     "output_type": "stream",
     "text": [
      "Partido 3871945 completado\n"
     ]
    },
    {
     "name": "stderr",
     "output_type": "stream",
     "text": [
      "C:\\Users\\lucio\\AppData\\Local\\Packages\\PythonSoftwareFoundation.Python.3.11_qbz5n2kfra8p0\\LocalCache\\local-packages\\Python311\\site-packages\\statsbombpy\\sb.py:122: FutureWarning: The behavior of DataFrame concatenation with empty or all-NA entries is deprecated. In a future version, this will no longer exclude empty or all-NA columns when determining the result dtypes. To retain the old behavior, exclude the relevant entries before the concat operation.\n",
      "  events = pd.concat([*events.values()], axis=0, ignore_index=True, sort=True)\n"
     ]
    },
    {
     "name": "stdout",
     "output_type": "stream",
     "text": [
      "Partido 3871944 completado\n"
     ]
    },
    {
     "name": "stderr",
     "output_type": "stream",
     "text": [
      "C:\\Users\\lucio\\AppData\\Local\\Packages\\PythonSoftwareFoundation.Python.3.11_qbz5n2kfra8p0\\LocalCache\\local-packages\\Python311\\site-packages\\statsbombpy\\sb.py:122: FutureWarning: The behavior of DataFrame concatenation with empty or all-NA entries is deprecated. In a future version, this will no longer exclude empty or all-NA columns when determining the result dtypes. To retain the old behavior, exclude the relevant entries before the concat operation.\n",
      "  events = pd.concat([*events.values()], axis=0, ignore_index=True, sort=True)\n"
     ]
    },
    {
     "name": "stdout",
     "output_type": "stream",
     "text": [
      "Partido 3871943 completado\n"
     ]
    }
   ],
   "source": [
    "# CREACION DE DF EVENTS Y AUTOMATIZACION CON TODOS LOS PARTIDOS JUGADOS\n",
    "events = pd.DataFrame()\n",
    "\n",
    "for id in ids:\n",
    "  new_df = sb.events(match_id = id, creds=creds)\n",
    "  events = pd.concat([events, new_df], ignore_index=True)\n",
    "  print(f'Partido {id} completado')"
   ]
  },
  {
   "cell_type": "code",
   "execution_count": 58,
   "metadata": {
    "executionInfo": {
     "elapsed": 10157,
     "status": "ok",
     "timestamp": 1678392519501,
     "user": {
      "displayName": "Gonzalo Araya",
      "userId": "13966201719893279824"
     },
     "user_tz": 180
    },
    "id": "wJH5lEdpv9sa"
   },
   "outputs": [],
   "source": [
    "events.to_csv('C:/Users/lucio/OneDrive/Desktop/AUDAX ITALIANO/outs_data/sb_events.csv', encoding='utf-8', index=False)"
   ]
  },
  {
   "cell_type": "code",
   "execution_count": null,
   "metadata": {
    "id": "Sio5sScE9-hf"
   },
   "outputs": [],
   "source": []
  },
  {
   "cell_type": "code",
   "execution_count": 59,
   "metadata": {
    "id": "StRrHdvhA15j"
   },
   "outputs": [],
   "source": [
    "## INTENTO DE CREACION DE DF LINEUPS (ERRADOS Y CORRECTO DESDE LIBRERIA FINAL, SIN AUTOMATIZACION)"
   ]
  },
  {
   "cell_type": "code",
   "execution_count": 60,
   "metadata": {
    "executionInfo": {
     "elapsed": 372,
     "status": "ok",
     "timestamp": 1678392544524,
     "user": {
      "displayName": "Gonzalo Araya",
      "userId": "13966201719893279824"
     },
     "user_tz": 180
    },
    "id": "DrhyTwqL8wZQ"
   },
   "outputs": [],
   "source": [
    "lineups = pd.DataFrame()"
   ]
  },
  {
   "cell_type": "code",
   "execution_count": 65,
   "metadata": {
    "colab": {
     "base_uri": "https://localhost:8080/"
    },
    "executionInfo": {
     "elapsed": 108841,
     "status": "ok",
     "timestamp": 1678392687003,
     "user": {
      "displayName": "Gonzalo Araya",
      "userId": "13966201719893279824"
     },
     "user_tz": 180
    },
    "id": "4KbjkzTx9XTB",
    "outputId": "e404b762-3504-4aad-9834-61895f54d976"
   },
   "outputs": [
    {
     "name": "stdout",
     "output_type": "stream",
     "text": [
      "Partido 3872041 completado\n",
      "Partido 3872126 completado\n",
      "Partido 3872142 completado\n",
      "Partido 3872144 completado\n",
      "Partido 3872176 completado\n",
      "Partido 3872134 completado\n",
      "Partido 3872163 completado\n",
      "Partido 3871961 completado\n",
      "Partido 3872175 completado\n",
      "Partido 3872164 completado\n",
      "Partido 3872162 completado\n",
      "Partido 3872152 completado\n",
      "Partido 3872165 completado\n",
      "Partido 3872160 completado\n",
      "Partido 3872161 completado\n",
      "Partido 3872159 completado\n",
      "Partido 3872156 completado\n",
      "Partido 3872133 completado\n",
      "Partido 3872113 completado\n",
      "Partido 3872103 completado\n",
      "Partido 3872084 completado\n",
      "Partido 3872006 completado\n",
      "Partido 3872097 completado\n",
      "Partido 3872037 completado\n",
      "Partido 3872117 completado\n",
      "Partido 3872015 completado\n",
      "Partido 3872143 completado\n",
      "Partido 3872146 completado\n",
      "Partido 3872128 completado\n",
      "Partido 3872129 completado\n",
      "Partido 3872125 completado\n",
      "Partido 3872114 completado\n",
      "Partido 3872123 completado\n",
      "Partido 3872124 completado\n",
      "Partido 3872110 completado\n",
      "Partido 3872111 completado\n",
      "Partido 3872116 completado\n",
      "Partido 3872105 completado\n",
      "Partido 3872091 completado\n",
      "Partido 3871989 completado\n",
      "Partido 3872073 completado\n",
      "Partido 3872070 completado\n",
      "Partido 3872087 completado\n",
      "Partido 3872092 completado\n",
      "Partido 3872093 completado\n",
      "Partido 3872083 completado\n",
      "Partido 3872081 completado\n",
      "Partido 3872086 completado\n",
      "Partido 3872079 completado\n",
      "Partido 3872063 completado\n",
      "Partido 3872068 completado\n",
      "Partido 3872057 completado\n",
      "Partido 3872059 completado\n",
      "Partido 3872040 completado\n",
      "Partido 3872048 completado\n",
      "Partido 3872047 completado\n",
      "Partido 3872049 completado\n",
      "Partido 3872033 completado\n",
      "Partido 3872055 completado\n",
      "Partido 3872056 completado\n",
      "Partido 3872058 completado\n",
      "Partido 3872034 completado\n",
      "Partido 3872025 completado\n",
      "Partido 3872030 completado\n",
      "Partido 3872024 completado\n",
      "Partido 3872050 completado\n",
      "Partido 3872046 completado\n",
      "Partido 3872043 completado\n",
      "Partido 3872026 completado\n",
      "Partido 3872054 completado\n",
      "Partido 3872044 completado\n",
      "Partido 3872019 completado\n",
      "Partido 3871970 completado\n",
      "Partido 3871998 completado\n",
      "Partido 3872039 completado\n",
      "Partido 3872036 completado\n",
      "Partido 3872031 completado\n",
      "Partido 3872027 completado\n",
      "Partido 3872021 completado\n",
      "Partido 3872045 completado\n",
      "Partido 3872010 completado\n",
      "Partido 3872009 completado\n",
      "Partido 3871984 completado\n",
      "Partido 3871997 completado\n",
      "Partido 3871983 completado\n",
      "Partido 3871972 completado\n",
      "Partido 3872005 completado\n",
      "Partido 3871987 completado\n",
      "Partido 3871975 completado\n",
      "Partido 3871981 completado\n",
      "Partido 3871982 completado\n",
      "Partido 3871978 completado\n",
      "Partido 3871964 completado\n",
      "Partido 3871980 completado\n",
      "Partido 3871996 completado\n",
      "Partido 3871991 completado\n",
      "Partido 3871994 completado\n",
      "Partido 3871995 completado\n",
      "Partido 3872182 completado\n",
      "Partido 3872181 completado\n",
      "Partido 3872180 completado\n",
      "Partido 3872179 completado\n",
      "Partido 3872178 completado\n",
      "Partido 3872177 completado\n",
      "Partido 3872174 completado\n",
      "Partido 3872173 completado\n",
      "Partido 3872172 completado\n",
      "Partido 3872171 completado\n",
      "Partido 3872170 completado\n",
      "Partido 3872169 completado\n",
      "Partido 3872168 completado\n",
      "Partido 3872167 completado\n",
      "Partido 3872166 completado\n",
      "Partido 3872158 completado\n",
      "Partido 3872157 completado\n",
      "Partido 3872155 completado\n",
      "Partido 3872154 completado\n",
      "Partido 3872153 completado\n",
      "Partido 3872151 completado\n",
      "Partido 3872150 completado\n",
      "Partido 3872149 completado\n",
      "Partido 3872148 completado\n",
      "Partido 3872147 completado\n",
      "Partido 3872145 completado\n",
      "Partido 3872141 completado\n",
      "Partido 3872140 completado\n",
      "Partido 3872139 completado\n",
      "Partido 3872138 completado\n",
      "Partido 3872137 completado\n",
      "Partido 3872136 completado\n",
      "Partido 3872135 completado\n",
      "Partido 3872132 completado\n",
      "Partido 3872131 completado\n",
      "Partido 3872130 completado\n",
      "Partido 3872127 completado\n",
      "Partido 3872122 completado\n",
      "Partido 3872121 completado\n",
      "Partido 3872120 completado\n",
      "Partido 3872119 completado\n",
      "Partido 3872118 completado\n",
      "Partido 3872115 completado\n",
      "Partido 3872112 completado\n",
      "Partido 3872109 completado\n",
      "Partido 3872108 completado\n",
      "Partido 3872107 completado\n",
      "Partido 3872106 completado\n",
      "Partido 3872104 completado\n",
      "Partido 3872102 completado\n",
      "Partido 3872101 completado\n",
      "Partido 3872100 completado\n",
      "Partido 3872099 completado\n",
      "Partido 3872098 completado\n",
      "Partido 3872096 completado\n",
      "Partido 3872095 completado\n",
      "Partido 3872094 completado\n",
      "Partido 3872090 completado\n",
      "Partido 3872089 completado\n",
      "Partido 3872088 completado\n",
      "Partido 3872085 completado\n",
      "Partido 3872082 completado\n",
      "Partido 3872080 completado\n",
      "Partido 3872078 completado\n",
      "Partido 3872077 completado\n",
      "Partido 3872076 completado\n",
      "Partido 3872075 completado\n",
      "Partido 3872074 completado\n",
      "Partido 3872072 completado\n",
      "Partido 3872071 completado\n",
      "Partido 3872069 completado\n",
      "Partido 3872067 completado\n",
      "Partido 3872066 completado\n",
      "Partido 3872065 completado\n",
      "Partido 3872064 completado\n",
      "Partido 3872062 completado\n",
      "Partido 3872061 completado\n",
      "Partido 3872060 completado\n",
      "Partido 3872053 completado\n",
      "Partido 3872052 completado\n",
      "Partido 3872051 completado\n",
      "Partido 3872042 completado\n",
      "Partido 3872038 completado\n",
      "Partido 3872035 completado\n",
      "Partido 3872032 completado\n",
      "Partido 3872029 completado\n",
      "Partido 3872028 completado\n",
      "Partido 3872023 completado\n",
      "Partido 3872022 completado\n",
      "Partido 3872020 completado\n",
      "Partido 3872018 completado\n",
      "Partido 3872017 completado\n",
      "Partido 3872016 completado\n",
      "Partido 3872014 completado\n",
      "Partido 3872013 completado\n",
      "Partido 3872012 completado\n",
      "Partido 3872011 completado\n",
      "Partido 3872008 completado\n",
      "Partido 3872007 completado\n",
      "Partido 3872004 completado\n",
      "Partido 3872003 completado\n",
      "Partido 3872002 completado\n",
      "Partido 3872001 completado\n",
      "Partido 3872000 completado\n",
      "Partido 3871999 completado\n",
      "Partido 3871993 completado\n",
      "Partido 3871992 completado\n",
      "Partido 3871990 completado\n",
      "Partido 3871988 completado\n",
      "Partido 3871986 completado\n",
      "Partido 3871985 completado\n",
      "Partido 3871979 completado\n",
      "Partido 3871977 completado\n",
      "Partido 3871976 completado\n",
      "Partido 3871974 completado\n",
      "Partido 3871973 completado\n",
      "Partido 3871971 completado\n",
      "Partido 3871969 completado\n",
      "Partido 3871968 completado\n",
      "Partido 3871967 completado\n",
      "Partido 3871966 completado\n",
      "Partido 3871965 completado\n",
      "Partido 3871963 completado\n",
      "Partido 3871962 completado\n",
      "Partido 3871960 completado\n",
      "Partido 3871959 completado\n",
      "Partido 3871958 completado\n",
      "Partido 3871957 completado\n",
      "Partido 3871956 completado\n",
      "Partido 3871955 completado\n",
      "Partido 3871954 completado\n",
      "Partido 3871953 completado\n",
      "Partido 3871952 completado\n",
      "Partido 3871951 completado\n",
      "Partido 3871950 completado\n",
      "Partido 3871949 completado\n",
      "Partido 3871948 completado\n",
      "Partido 3871947 completado\n",
      "Partido 3871946 completado\n",
      "Partido 3871945 completado\n",
      "Partido 3871944 completado\n",
      "Partido 3871943 completado\n"
     ]
    }
   ],
   "source": [
    "for id in ids:\n",
    "    new_data = sb.lineups(match_id=id, creds=creds)\n",
    "    new_df = pd.DataFrame([new_data])  # Envolvemos el dict en una lista para crear una fila\n",
    "    lineups = pd.concat([lineups, new_df], ignore_index=True)\n",
    "    print(f'Partido {id} completado')"
   ]
  },
  {
   "cell_type": "code",
   "execution_count": 66,
   "metadata": {
    "colab": {
     "base_uri": "https://localhost:8080/",
     "height": 371
    },
    "executionInfo": {
     "elapsed": 370,
     "status": "ok",
     "timestamp": 1678392728516,
     "user": {
      "displayName": "Gonzalo Araya",
      "userId": "13966201719893279824"
     },
     "user_tz": 180
    },
    "id": "ZJR3kJqS92Wu",
    "outputId": "8bf5d0f4-fec4-420f-9a87-6c51631251f7"
   },
   "outputs": [
    {
     "data": {
      "text/html": [
       "<div>\n",
       "<style scoped>\n",
       "    .dataframe tbody tr th:only-of-type {\n",
       "        vertical-align: middle;\n",
       "    }\n",
       "\n",
       "    .dataframe tbody tr th {\n",
       "        vertical-align: top;\n",
       "    }\n",
       "\n",
       "    .dataframe thead th {\n",
       "        text-align: right;\n",
       "    }\n",
       "</style>\n",
       "<table border=\"1\" class=\"dataframe\">\n",
       "  <thead>\n",
       "    <tr style=\"text-align: right;\">\n",
       "      <th></th>\n",
       "      <th>O'Higgins</th>\n",
       "      <th>Cobresal</th>\n",
       "      <th>Deportivo Ñublense SADP</th>\n",
       "      <th>Everton</th>\n",
       "      <th>Audax Italiano</th>\n",
       "      <th>Universidad de Chile</th>\n",
       "      <th>Universidad Católica</th>\n",
       "      <th>Magallanes</th>\n",
       "      <th>Coquimbo Unido</th>\n",
       "      <th>Unión La Calera</th>\n",
       "      <th>Huachipato</th>\n",
       "      <th>Copiapó</th>\n",
       "      <th>Unión Española</th>\n",
       "      <th>Curicó Unido</th>\n",
       "      <th>Palestino</th>\n",
       "      <th>Colo Colo</th>\n",
       "    </tr>\n",
       "  </thead>\n",
       "  <tbody>\n",
       "    <tr>\n",
       "      <th>0</th>\n",
       "      <td>player_id                         player_n...</td>\n",
       "      <td>player_id                          player_...</td>\n",
       "      <td>NaN</td>\n",
       "      <td>NaN</td>\n",
       "      <td>NaN</td>\n",
       "      <td>NaN</td>\n",
       "      <td>NaN</td>\n",
       "      <td>NaN</td>\n",
       "      <td>NaN</td>\n",
       "      <td>NaN</td>\n",
       "      <td>NaN</td>\n",
       "      <td>NaN</td>\n",
       "      <td>NaN</td>\n",
       "      <td>NaN</td>\n",
       "      <td>NaN</td>\n",
       "      <td>NaN</td>\n",
       "    </tr>\n",
       "    <tr>\n",
       "      <th>1</th>\n",
       "      <td>NaN</td>\n",
       "      <td>NaN</td>\n",
       "      <td>player_id                         player_n...</td>\n",
       "      <td>player_id                            playe...</td>\n",
       "      <td>NaN</td>\n",
       "      <td>NaN</td>\n",
       "      <td>NaN</td>\n",
       "      <td>NaN</td>\n",
       "      <td>NaN</td>\n",
       "      <td>NaN</td>\n",
       "      <td>NaN</td>\n",
       "      <td>NaN</td>\n",
       "      <td>NaN</td>\n",
       "      <td>NaN</td>\n",
       "      <td>NaN</td>\n",
       "      <td>NaN</td>\n",
       "    </tr>\n",
       "    <tr>\n",
       "      <th>2</th>\n",
       "      <td>NaN</td>\n",
       "      <td>NaN</td>\n",
       "      <td>NaN</td>\n",
       "      <td>NaN</td>\n",
       "      <td>player_id                        player_na...</td>\n",
       "      <td>player_id                         player_n...</td>\n",
       "      <td>NaN</td>\n",
       "      <td>NaN</td>\n",
       "      <td>NaN</td>\n",
       "      <td>NaN</td>\n",
       "      <td>NaN</td>\n",
       "      <td>NaN</td>\n",
       "      <td>NaN</td>\n",
       "      <td>NaN</td>\n",
       "      <td>NaN</td>\n",
       "      <td>NaN</td>\n",
       "    </tr>\n",
       "    <tr>\n",
       "      <th>3</th>\n",
       "      <td>NaN</td>\n",
       "      <td>NaN</td>\n",
       "      <td>NaN</td>\n",
       "      <td>player_id                            playe...</td>\n",
       "      <td>NaN</td>\n",
       "      <td>player_id                         player_n...</td>\n",
       "      <td>NaN</td>\n",
       "      <td>NaN</td>\n",
       "      <td>NaN</td>\n",
       "      <td>NaN</td>\n",
       "      <td>NaN</td>\n",
       "      <td>NaN</td>\n",
       "      <td>NaN</td>\n",
       "      <td>NaN</td>\n",
       "      <td>NaN</td>\n",
       "      <td>NaN</td>\n",
       "    </tr>\n",
       "    <tr>\n",
       "      <th>4</th>\n",
       "      <td>NaN</td>\n",
       "      <td>NaN</td>\n",
       "      <td>player_id                         player_n...</td>\n",
       "      <td>NaN</td>\n",
       "      <td>NaN</td>\n",
       "      <td>player_id                         player_n...</td>\n",
       "      <td>NaN</td>\n",
       "      <td>NaN</td>\n",
       "      <td>NaN</td>\n",
       "      <td>NaN</td>\n",
       "      <td>NaN</td>\n",
       "      <td>NaN</td>\n",
       "      <td>NaN</td>\n",
       "      <td>NaN</td>\n",
       "      <td>NaN</td>\n",
       "      <td>NaN</td>\n",
       "    </tr>\n",
       "  </tbody>\n",
       "</table>\n",
       "</div>"
      ],
      "text/plain": [
       "                                           O'Higgins  \\\n",
       "0      player_id                         player_n...   \n",
       "1                                                NaN   \n",
       "2                                                NaN   \n",
       "3                                                NaN   \n",
       "4                                                NaN   \n",
       "\n",
       "                                            Cobresal  \\\n",
       "0      player_id                          player_...   \n",
       "1                                                NaN   \n",
       "2                                                NaN   \n",
       "3                                                NaN   \n",
       "4                                                NaN   \n",
       "\n",
       "                             Deportivo Ñublense SADP  \\\n",
       "0                                                NaN   \n",
       "1      player_id                         player_n...   \n",
       "2                                                NaN   \n",
       "3                                                NaN   \n",
       "4      player_id                         player_n...   \n",
       "\n",
       "                                             Everton  \\\n",
       "0                                                NaN   \n",
       "1      player_id                            playe...   \n",
       "2                                                NaN   \n",
       "3      player_id                            playe...   \n",
       "4                                                NaN   \n",
       "\n",
       "                                      Audax Italiano  \\\n",
       "0                                                NaN   \n",
       "1                                                NaN   \n",
       "2      player_id                        player_na...   \n",
       "3                                                NaN   \n",
       "4                                                NaN   \n",
       "\n",
       "                                Universidad de Chile Universidad Católica  \\\n",
       "0                                                NaN                  NaN   \n",
       "1                                                NaN                  NaN   \n",
       "2      player_id                         player_n...                  NaN   \n",
       "3      player_id                         player_n...                  NaN   \n",
       "4      player_id                         player_n...                  NaN   \n",
       "\n",
       "  Magallanes Coquimbo Unido Unión La Calera Huachipato Copiapó Unión Española  \\\n",
       "0        NaN            NaN             NaN        NaN     NaN            NaN   \n",
       "1        NaN            NaN             NaN        NaN     NaN            NaN   \n",
       "2        NaN            NaN             NaN        NaN     NaN            NaN   \n",
       "3        NaN            NaN             NaN        NaN     NaN            NaN   \n",
       "4        NaN            NaN             NaN        NaN     NaN            NaN   \n",
       "\n",
       "  Curicó Unido Palestino Colo Colo  \n",
       "0          NaN       NaN       NaN  \n",
       "1          NaN       NaN       NaN  \n",
       "2          NaN       NaN       NaN  \n",
       "3          NaN       NaN       NaN  \n",
       "4          NaN       NaN       NaN  "
      ]
     },
     "execution_count": 66,
     "metadata": {},
     "output_type": "execute_result"
    }
   ],
   "source": [
    "lineups.head()"
   ]
  },
  {
   "cell_type": "code",
   "execution_count": null,
   "metadata": {
    "id": "1HmnbXNiAazH"
   },
   "outputs": [],
   "source": [
    "#### INTENTO 2 LINEUPS"
   ]
  },
  {
   "cell_type": "code",
   "execution_count": 68,
   "metadata": {
    "id": "2OUvlQzC--cj"
   },
   "outputs": [],
   "source": [
    "df_list = []\n",
    "teams = ['Audax Italiano', 'Coquimbo Unido']\n",
    "\n",
    "for team in teams:\n",
    "    df_team = sb.lineups(match_id=3871997, creds=creds)[team]\n",
    "    df_list.append(df_team)\n",
    "\n",
    "# Concatenamos todos los DataFrames en uno solo\n",
    "df2 = pd.concat(df_list, ignore_index=True)\n"
   ]
  },
  {
   "cell_type": "code",
   "execution_count": 69,
   "metadata": {
    "colab": {
     "base_uri": "https://localhost:8080/",
     "height": 337
    },
    "executionInfo": {
     "elapsed": 4,
     "status": "ok",
     "timestamp": 1678392745255,
     "user": {
      "displayName": "Gonzalo Araya",
      "userId": "13966201719893279824"
     },
     "user_tz": 180
    },
    "id": "0cCoOmKaAMfX",
    "outputId": "04eaa1f7-8507-4e95-eafe-8208928de193"
   },
   "outputs": [
    {
     "data": {
      "text/html": [
       "<div>\n",
       "<style scoped>\n",
       "    .dataframe tbody tr th:only-of-type {\n",
       "        vertical-align: middle;\n",
       "    }\n",
       "\n",
       "    .dataframe tbody tr th {\n",
       "        vertical-align: top;\n",
       "    }\n",
       "\n",
       "    .dataframe thead th {\n",
       "        text-align: right;\n",
       "    }\n",
       "</style>\n",
       "<table border=\"1\" class=\"dataframe\">\n",
       "  <thead>\n",
       "    <tr style=\"text-align: right;\">\n",
       "      <th></th>\n",
       "      <th>player_id</th>\n",
       "      <th>player_name</th>\n",
       "      <th>player_nickname</th>\n",
       "      <th>birth_date</th>\n",
       "      <th>player_gender</th>\n",
       "      <th>player_height</th>\n",
       "      <th>player_weight</th>\n",
       "      <th>jersey_number</th>\n",
       "      <th>country</th>\n",
       "      <th>positions</th>\n",
       "      <th>stats</th>\n",
       "      <th>formations</th>\n",
       "      <th>events</th>\n",
       "    </tr>\n",
       "  </thead>\n",
       "  <tbody>\n",
       "    <tr>\n",
       "      <th>0</th>\n",
       "      <td>27341</td>\n",
       "      <td>Marcelo Alfonso Díaz Rojas</td>\n",
       "      <td>Marcelo Díaz</td>\n",
       "      <td>1986-12-30</td>\n",
       "      <td>male</td>\n",
       "      <td>166.0</td>\n",
       "      <td>67.0</td>\n",
       "      <td>21</td>\n",
       "      <td>Chile</td>\n",
       "      <td>[{'position_id': 10, 'position': 'Center Defen...</td>\n",
       "      <td>{'own_goals': 0, 'goals': 0, 'assists': 0, 'pe...</td>\n",
       "      <td>[{'period': 1, 'timestamp': '00:00:00.000', 'r...</td>\n",
       "      <td>[{'period': 1, 'timestamp': '00:00:00.000', 't...</td>\n",
       "    </tr>\n",
       "    <tr>\n",
       "      <th>1</th>\n",
       "      <td>28544</td>\n",
       "      <td>Gabriel Alejandro Hachen</td>\n",
       "      <td>Gabriel Hachen</td>\n",
       "      <td>1990-10-16</td>\n",
       "      <td>male</td>\n",
       "      <td>167.0</td>\n",
       "      <td>68.0</td>\n",
       "      <td>32</td>\n",
       "      <td>Argentina</td>\n",
       "      <td>[{'position_id': 12, 'position': 'Right Midfie...</td>\n",
       "      <td>{'own_goals': 0, 'goals': 0, 'assists': 0, 'pe...</td>\n",
       "      <td>[{'period': 1, 'timestamp': '00:00:00.000', 'r...</td>\n",
       "      <td>[{'period': 1, 'timestamp': '00:00:00.000', 't...</td>\n",
       "    </tr>\n",
       "    <tr>\n",
       "      <th>2</th>\n",
       "      <td>35733</td>\n",
       "      <td>Sebastián Ernesto Pereira Arredondo</td>\n",
       "      <td>None</td>\n",
       "      <td>1999-01-14</td>\n",
       "      <td>male</td>\n",
       "      <td>186.0</td>\n",
       "      <td>92.0</td>\n",
       "      <td>29</td>\n",
       "      <td>Chile</td>\n",
       "      <td>[{'position_id': 5, 'position': 'Left Center B...</td>\n",
       "      <td>{'own_goals': 0, 'goals': 0, 'assists': 0, 'pe...</td>\n",
       "      <td>[{'period': 1, 'timestamp': '00:00:00.000', 'r...</td>\n",
       "      <td>[{'period': 1, 'timestamp': '00:00:00.000', 't...</td>\n",
       "    </tr>\n",
       "    <tr>\n",
       "      <th>3</th>\n",
       "      <td>35754</td>\n",
       "      <td>Matías Ignacio Sepúlveda Méndez</td>\n",
       "      <td>Matías Sepúlveda</td>\n",
       "      <td>1999-03-12</td>\n",
       "      <td>male</td>\n",
       "      <td>184.0</td>\n",
       "      <td>78.0</td>\n",
       "      <td>8</td>\n",
       "      <td>Chile</td>\n",
       "      <td>[{'position_id': 15, 'position': 'Left Center ...</td>\n",
       "      <td>{'own_goals': 0, 'goals': 0, 'assists': 0, 'pe...</td>\n",
       "      <td>[{'period': 1, 'timestamp': '00:00:00.000', 'r...</td>\n",
       "      <td>[{'period': 1, 'timestamp': '00:00:00.000', 't...</td>\n",
       "    </tr>\n",
       "    <tr>\n",
       "      <th>4</th>\n",
       "      <td>35788</td>\n",
       "      <td>Marco Antonio Collao Ramos</td>\n",
       "      <td>Marco Collao</td>\n",
       "      <td>1998-04-11</td>\n",
       "      <td>male</td>\n",
       "      <td>173.0</td>\n",
       "      <td>71.0</td>\n",
       "      <td>18</td>\n",
       "      <td>Chile</td>\n",
       "      <td>[{'position_id': 11, 'position': 'Left Defensi...</td>\n",
       "      <td>{'own_goals': 0, 'goals': 0, 'assists': 0, 'pe...</td>\n",
       "      <td>[{'period': 1, 'timestamp': '00:00:00.000', 'r...</td>\n",
       "      <td>[{'period': 1, 'timestamp': '00:00:00.000', 't...</td>\n",
       "    </tr>\n",
       "  </tbody>\n",
       "</table>\n",
       "</div>"
      ],
      "text/plain": [
       "   player_id                          player_name   player_nickname  \\\n",
       "0      27341           Marcelo Alfonso Díaz Rojas      Marcelo Díaz   \n",
       "1      28544             Gabriel Alejandro Hachen    Gabriel Hachen   \n",
       "2      35733  Sebastián Ernesto Pereira Arredondo              None   \n",
       "3      35754      Matías Ignacio Sepúlveda Méndez  Matías Sepúlveda   \n",
       "4      35788           Marco Antonio Collao Ramos      Marco Collao   \n",
       "\n",
       "   birth_date player_gender  player_height  player_weight  jersey_number  \\\n",
       "0  1986-12-30          male          166.0           67.0             21   \n",
       "1  1990-10-16          male          167.0           68.0             32   \n",
       "2  1999-01-14          male          186.0           92.0             29   \n",
       "3  1999-03-12          male          184.0           78.0              8   \n",
       "4  1998-04-11          male          173.0           71.0             18   \n",
       "\n",
       "     country                                          positions  \\\n",
       "0      Chile  [{'position_id': 10, 'position': 'Center Defen...   \n",
       "1  Argentina  [{'position_id': 12, 'position': 'Right Midfie...   \n",
       "2      Chile  [{'position_id': 5, 'position': 'Left Center B...   \n",
       "3      Chile  [{'position_id': 15, 'position': 'Left Center ...   \n",
       "4      Chile  [{'position_id': 11, 'position': 'Left Defensi...   \n",
       "\n",
       "                                               stats  \\\n",
       "0  {'own_goals': 0, 'goals': 0, 'assists': 0, 'pe...   \n",
       "1  {'own_goals': 0, 'goals': 0, 'assists': 0, 'pe...   \n",
       "2  {'own_goals': 0, 'goals': 0, 'assists': 0, 'pe...   \n",
       "3  {'own_goals': 0, 'goals': 0, 'assists': 0, 'pe...   \n",
       "4  {'own_goals': 0, 'goals': 0, 'assists': 0, 'pe...   \n",
       "\n",
       "                                          formations  \\\n",
       "0  [{'period': 1, 'timestamp': '00:00:00.000', 'r...   \n",
       "1  [{'period': 1, 'timestamp': '00:00:00.000', 'r...   \n",
       "2  [{'period': 1, 'timestamp': '00:00:00.000', 'r...   \n",
       "3  [{'period': 1, 'timestamp': '00:00:00.000', 'r...   \n",
       "4  [{'period': 1, 'timestamp': '00:00:00.000', 'r...   \n",
       "\n",
       "                                              events  \n",
       "0  [{'period': 1, 'timestamp': '00:00:00.000', 't...  \n",
       "1  [{'period': 1, 'timestamp': '00:00:00.000', 't...  \n",
       "2  [{'period': 1, 'timestamp': '00:00:00.000', 't...  \n",
       "3  [{'period': 1, 'timestamp': '00:00:00.000', 't...  \n",
       "4  [{'period': 1, 'timestamp': '00:00:00.000', 't...  "
      ]
     },
     "execution_count": 69,
     "metadata": {},
     "output_type": "execute_result"
    }
   ],
   "source": [
    "df2.head()"
   ]
  },
  {
   "cell_type": "code",
   "execution_count": 70,
   "metadata": {
    "colab": {
     "base_uri": "https://localhost:8080/",
     "height": 952
    },
    "executionInfo": {
     "elapsed": 537,
     "status": "ok",
     "timestamp": 1678392980156,
     "user": {
      "displayName": "Gonzalo Araya",
      "userId": "13966201719893279824"
     },
     "user_tz": 180
    },
    "id": "QWxW4xY4A9am",
    "outputId": "afb6b06a-9e5b-4c4d-aefb-a7ca6c2e7c84"
   },
   "outputs": [
    {
     "data": {
      "text/html": [
       "<div>\n",
       "<style scoped>\n",
       "    .dataframe tbody tr th:only-of-type {\n",
       "        vertical-align: middle;\n",
       "    }\n",
       "\n",
       "    .dataframe tbody tr th {\n",
       "        vertical-align: top;\n",
       "    }\n",
       "\n",
       "    .dataframe thead th {\n",
       "        text-align: right;\n",
       "    }\n",
       "</style>\n",
       "<table border=\"1\" class=\"dataframe\">\n",
       "  <thead>\n",
       "    <tr style=\"text-align: right;\">\n",
       "      <th></th>\n",
       "      <th>player_id</th>\n",
       "      <th>player_name</th>\n",
       "      <th>player_nickname</th>\n",
       "      <th>birth_date</th>\n",
       "      <th>player_gender</th>\n",
       "      <th>player_height</th>\n",
       "      <th>player_weight</th>\n",
       "      <th>jersey_number</th>\n",
       "      <th>country</th>\n",
       "      <th>positions</th>\n",
       "      <th>stats</th>\n",
       "      <th>formations</th>\n",
       "      <th>events</th>\n",
       "    </tr>\n",
       "  </thead>\n",
       "  <tbody>\n",
       "    <tr>\n",
       "      <th>0</th>\n",
       "      <td>27341</td>\n",
       "      <td>Marcelo Alfonso Díaz Rojas</td>\n",
       "      <td>Marcelo Díaz</td>\n",
       "      <td>1986-12-30</td>\n",
       "      <td>male</td>\n",
       "      <td>166.0</td>\n",
       "      <td>67.0</td>\n",
       "      <td>21</td>\n",
       "      <td>Chile</td>\n",
       "      <td>[{'position_id': 10, 'position': 'Center Defen...</td>\n",
       "      <td>{'own_goals': 0, 'goals': 0, 'assists': 0, 'pe...</td>\n",
       "      <td>[{'period': 1, 'timestamp': '00:00:00.000', 'r...</td>\n",
       "      <td>[{'period': 1, 'timestamp': '00:00:00.000', 't...</td>\n",
       "    </tr>\n",
       "    <tr>\n",
       "      <th>1</th>\n",
       "      <td>28544</td>\n",
       "      <td>Gabriel Alejandro Hachen</td>\n",
       "      <td>Gabriel Hachen</td>\n",
       "      <td>1990-10-16</td>\n",
       "      <td>male</td>\n",
       "      <td>167.0</td>\n",
       "      <td>68.0</td>\n",
       "      <td>32</td>\n",
       "      <td>Argentina</td>\n",
       "      <td>[{'position_id': 12, 'position': 'Right Midfie...</td>\n",
       "      <td>{'own_goals': 0, 'goals': 0, 'assists': 0, 'pe...</td>\n",
       "      <td>[{'period': 1, 'timestamp': '00:00:00.000', 'r...</td>\n",
       "      <td>[{'period': 1, 'timestamp': '00:00:00.000', 't...</td>\n",
       "    </tr>\n",
       "    <tr>\n",
       "      <th>2</th>\n",
       "      <td>35733</td>\n",
       "      <td>Sebastián Ernesto Pereira Arredondo</td>\n",
       "      <td>None</td>\n",
       "      <td>1999-01-14</td>\n",
       "      <td>male</td>\n",
       "      <td>186.0</td>\n",
       "      <td>92.0</td>\n",
       "      <td>29</td>\n",
       "      <td>Chile</td>\n",
       "      <td>[{'position_id': 5, 'position': 'Left Center B...</td>\n",
       "      <td>{'own_goals': 0, 'goals': 0, 'assists': 0, 'pe...</td>\n",
       "      <td>[{'period': 1, 'timestamp': '00:00:00.000', 'r...</td>\n",
       "      <td>[{'period': 1, 'timestamp': '00:00:00.000', 't...</td>\n",
       "    </tr>\n",
       "    <tr>\n",
       "      <th>3</th>\n",
       "      <td>35754</td>\n",
       "      <td>Matías Ignacio Sepúlveda Méndez</td>\n",
       "      <td>Matías Sepúlveda</td>\n",
       "      <td>1999-03-12</td>\n",
       "      <td>male</td>\n",
       "      <td>184.0</td>\n",
       "      <td>78.0</td>\n",
       "      <td>8</td>\n",
       "      <td>Chile</td>\n",
       "      <td>[{'position_id': 15, 'position': 'Left Center ...</td>\n",
       "      <td>{'own_goals': 0, 'goals': 0, 'assists': 0, 'pe...</td>\n",
       "      <td>[{'period': 1, 'timestamp': '00:00:00.000', 'r...</td>\n",
       "      <td>[{'period': 1, 'timestamp': '00:00:00.000', 't...</td>\n",
       "    </tr>\n",
       "    <tr>\n",
       "      <th>4</th>\n",
       "      <td>35788</td>\n",
       "      <td>Marco Antonio Collao Ramos</td>\n",
       "      <td>Marco Collao</td>\n",
       "      <td>1998-04-11</td>\n",
       "      <td>male</td>\n",
       "      <td>173.0</td>\n",
       "      <td>71.0</td>\n",
       "      <td>18</td>\n",
       "      <td>Chile</td>\n",
       "      <td>[{'position_id': 11, 'position': 'Left Defensi...</td>\n",
       "      <td>{'own_goals': 0, 'goals': 0, 'assists': 0, 'pe...</td>\n",
       "      <td>[{'period': 1, 'timestamp': '00:00:00.000', 'r...</td>\n",
       "      <td>[{'period': 1, 'timestamp': '00:00:00.000', 't...</td>\n",
       "    </tr>\n",
       "    <tr>\n",
       "      <th>5</th>\n",
       "      <td>35838</td>\n",
       "      <td>Osvaldo Javier Bosso Torres</td>\n",
       "      <td>Osvaldo Bosso</td>\n",
       "      <td>1993-10-14</td>\n",
       "      <td>male</td>\n",
       "      <td>177.0</td>\n",
       "      <td>64.0</td>\n",
       "      <td>4</td>\n",
       "      <td>Chile</td>\n",
       "      <td>[{'position_id': 4, 'position': 'Center Back',...</td>\n",
       "      <td>{'own_goals': 0, 'goals': 0, 'assists': 0, 'pe...</td>\n",
       "      <td>[{'period': 1, 'timestamp': '00:00:00.000', 'r...</td>\n",
       "      <td>[{'period': 1, 'timestamp': '00:00:00.000', 't...</td>\n",
       "    </tr>\n",
       "    <tr>\n",
       "      <th>6</th>\n",
       "      <td>35875</td>\n",
       "      <td>Michael Andrés Fuentes Vadulli</td>\n",
       "      <td>Michael Fuentes</td>\n",
       "      <td>1998-05-27</td>\n",
       "      <td>male</td>\n",
       "      <td>177.0</td>\n",
       "      <td>79.0</td>\n",
       "      <td>10</td>\n",
       "      <td>Chile</td>\n",
       "      <td>[{'position_id': 24, 'position': 'Left Center ...</td>\n",
       "      <td>{'own_goals': 0, 'goals': 0, 'assists': 0, 'pe...</td>\n",
       "      <td>[{'period': 1, 'timestamp': '00:00:00.000', 'r...</td>\n",
       "      <td>[{'period': 1, 'timestamp': '00:00:00.000', 't...</td>\n",
       "    </tr>\n",
       "    <tr>\n",
       "      <th>7</th>\n",
       "      <td>35966</td>\n",
       "      <td>Roberto Andrés Cereceda Guajardo</td>\n",
       "      <td>Roberto Cereceda</td>\n",
       "      <td>1984-10-10</td>\n",
       "      <td>male</td>\n",
       "      <td>173.0</td>\n",
       "      <td>71.0</td>\n",
       "      <td>28</td>\n",
       "      <td>Chile</td>\n",
       "      <td>[{'position_id': 8, 'position': 'Left Wing Bac...</td>\n",
       "      <td>{'own_goals': 0, 'goals': 0, 'assists': 0, 'pe...</td>\n",
       "      <td>[{'period': 1, 'timestamp': '00:00:00.000', 'r...</td>\n",
       "      <td>[{'period': 1, 'timestamp': '00:00:00.000', 't...</td>\n",
       "    </tr>\n",
       "    <tr>\n",
       "      <th>8</th>\n",
       "      <td>36014</td>\n",
       "      <td>Joaquín Emanuel Muñoz Almarza</td>\n",
       "      <td>None</td>\n",
       "      <td>1990-12-28</td>\n",
       "      <td>male</td>\n",
       "      <td>181.0</td>\n",
       "      <td>82.0</td>\n",
       "      <td>1</td>\n",
       "      <td>Chile</td>\n",
       "      <td>[{'position_id': 1, 'position': 'Goalkeeper', ...</td>\n",
       "      <td>{'own_goals': 0, 'goals': 0, 'assists': 0, 'pe...</td>\n",
       "      <td>[{'period': 1, 'timestamp': '00:00:00.000', 'r...</td>\n",
       "      <td>[{'period': 1, 'timestamp': '00:00:00.000', 't...</td>\n",
       "    </tr>\n",
       "    <tr>\n",
       "      <th>9</th>\n",
       "      <td>46857</td>\n",
       "      <td>Oliver Jesús Rojas Muñoz</td>\n",
       "      <td>Oliver Rojas</td>\n",
       "      <td>2000-06-11</td>\n",
       "      <td>male</td>\n",
       "      <td>180.0</td>\n",
       "      <td>72.0</td>\n",
       "      <td>16</td>\n",
       "      <td>Chile</td>\n",
       "      <td>[{'position_id': 7, 'position': 'Right Wing Ba...</td>\n",
       "      <td>{'own_goals': 0, 'goals': 1, 'assists': 0, 'pe...</td>\n",
       "      <td>[{'period': 1, 'timestamp': '00:00:00.000', 'r...</td>\n",
       "      <td>[{'period': 1, 'timestamp': '00:00:00.000', 't...</td>\n",
       "    </tr>\n",
       "    <tr>\n",
       "      <th>10</th>\n",
       "      <td>52233</td>\n",
       "      <td>Bastián Ignacio Tapia Sepúlveda</td>\n",
       "      <td>None</td>\n",
       "      <td>2002-08-09</td>\n",
       "      <td>male</td>\n",
       "      <td>182.0</td>\n",
       "      <td>78.0</td>\n",
       "      <td>6</td>\n",
       "      <td>Chile</td>\n",
       "      <td>[{'position_id': 3, 'position': 'Right Center ...</td>\n",
       "      <td>{'own_goals': 0, 'goals': 0, 'assists': 0, 'pe...</td>\n",
       "      <td>[{'period': 1, 'timestamp': '00:00:00.000', 'r...</td>\n",
       "      <td>[{'period': 1, 'timestamp': '00:00:00.000', 't...</td>\n",
       "    </tr>\n",
       "    <tr>\n",
       "      <th>11</th>\n",
       "      <td>54378</td>\n",
       "      <td>Gonzalo Esteban Alvarez Morales</td>\n",
       "      <td>None</td>\n",
       "      <td>1997-01-20</td>\n",
       "      <td>male</td>\n",
       "      <td>170.0</td>\n",
       "      <td>68.0</td>\n",
       "      <td>14</td>\n",
       "      <td>Chile</td>\n",
       "      <td>[{'position_id': 16, 'position': 'Left Midfiel...</td>\n",
       "      <td>{'own_goals': 0, 'goals': 0, 'assists': 0, 'pe...</td>\n",
       "      <td>[{'period': 1, 'timestamp': '00:00:00.000', 'r...</td>\n",
       "      <td>[{'period': 1, 'timestamp': '00:00:00.000', 't...</td>\n",
       "    </tr>\n",
       "    <tr>\n",
       "      <th>12</th>\n",
       "      <td>54379</td>\n",
       "      <td>Tomás Alejandro Ahumada Oteíza</td>\n",
       "      <td>None</td>\n",
       "      <td>2001-06-24</td>\n",
       "      <td>male</td>\n",
       "      <td>181.0</td>\n",
       "      <td>74.0</td>\n",
       "      <td>12</td>\n",
       "      <td>Chile</td>\n",
       "      <td>[]</td>\n",
       "      <td>[]</td>\n",
       "      <td>[{'period': 1, 'timestamp': '00:00:00.000', 'r...</td>\n",
       "      <td>[{'period': 1, 'timestamp': '00:00:00.000', 't...</td>\n",
       "    </tr>\n",
       "    <tr>\n",
       "      <th>13</th>\n",
       "      <td>195474</td>\n",
       "      <td>Esteban Matus</td>\n",
       "      <td>None</td>\n",
       "      <td>2002-02-12</td>\n",
       "      <td>male</td>\n",
       "      <td>170.0</td>\n",
       "      <td>65.0</td>\n",
       "      <td>17</td>\n",
       "      <td>Chile</td>\n",
       "      <td>[]</td>\n",
       "      <td>[]</td>\n",
       "      <td>[{'period': 1, 'timestamp': '00:00:00.000', 'r...</td>\n",
       "      <td>[{'period': 1, 'timestamp': '00:00:00.000', 't...</td>\n",
       "    </tr>\n",
       "    <tr>\n",
       "      <th>14</th>\n",
       "      <td>195475</td>\n",
       "      <td>Luis Enrique Riveros Valenzuela</td>\n",
       "      <td>None</td>\n",
       "      <td>1998-03-24</td>\n",
       "      <td>male</td>\n",
       "      <td>178.0</td>\n",
       "      <td>72.0</td>\n",
       "      <td>11</td>\n",
       "      <td>Paraguay</td>\n",
       "      <td>[{'position_id': 22, 'position': 'Right Center...</td>\n",
       "      <td>{'own_goals': 0, 'goals': 0, 'assists': 0, 'pe...</td>\n",
       "      <td>[{'period': 1, 'timestamp': '00:00:00.000', 'r...</td>\n",
       "      <td>[{'period': 1, 'timestamp': '00:00:00.000', 't...</td>\n",
       "    </tr>\n",
       "    <tr>\n",
       "      <th>15</th>\n",
       "      <td>196969</td>\n",
       "      <td>Gonzalo Alejandro Ríos</td>\n",
       "      <td>None</td>\n",
       "      <td>1999-01-27</td>\n",
       "      <td>male</td>\n",
       "      <td>172.0</td>\n",
       "      <td>66.0</td>\n",
       "      <td>19</td>\n",
       "      <td>Argentina</td>\n",
       "      <td>[{'position_id': 13, 'position': 'Right Center...</td>\n",
       "      <td>{'own_goals': 0, 'goals': 0, 'assists': 1, 'pe...</td>\n",
       "      <td>[{'period': 1, 'timestamp': '00:00:00.000', 'r...</td>\n",
       "      <td>[{'period': 1, 'timestamp': '00:00:00.000', 't...</td>\n",
       "    </tr>\n",
       "    <tr>\n",
       "      <th>16</th>\n",
       "      <td>384746</td>\n",
       "      <td>Diego Andrés Monreal Villablanca</td>\n",
       "      <td>Diego Monreal</td>\n",
       "      <td>2002-09-05</td>\n",
       "      <td>male</td>\n",
       "      <td>185.0</td>\n",
       "      <td>73.0</td>\n",
       "      <td>27</td>\n",
       "      <td>Chile</td>\n",
       "      <td>[]</td>\n",
       "      <td>[]</td>\n",
       "      <td>[{'period': 1, 'timestamp': '00:00:00.000', 'r...</td>\n",
       "      <td>[{'period': 1, 'timestamp': '00:00:00.000', 't...</td>\n",
       "    </tr>\n",
       "    <tr>\n",
       "      <th>17</th>\n",
       "      <td>385843</td>\n",
       "      <td>Alessandro Riep Klekoc</td>\n",
       "      <td>None</td>\n",
       "      <td>2003-07-03</td>\n",
       "      <td>male</td>\n",
       "      <td>174.0</td>\n",
       "      <td>68.0</td>\n",
       "      <td>22</td>\n",
       "      <td>Chile</td>\n",
       "      <td>[{'position_id': 22, 'position': 'Right Center...</td>\n",
       "      <td>{'own_goals': 0, 'goals': 0, 'assists': 0, 'pe...</td>\n",
       "      <td>[{'period': 1, 'timestamp': '00:00:00.000', 'r...</td>\n",
       "      <td>[{'period': 1, 'timestamp': '00:00:00.000', 't...</td>\n",
       "    </tr>\n",
       "  </tbody>\n",
       "</table>\n",
       "</div>"
      ],
      "text/plain": [
       "    player_id                          player_name   player_nickname  \\\n",
       "0       27341           Marcelo Alfonso Díaz Rojas      Marcelo Díaz   \n",
       "1       28544             Gabriel Alejandro Hachen    Gabriel Hachen   \n",
       "2       35733  Sebastián Ernesto Pereira Arredondo              None   \n",
       "3       35754      Matías Ignacio Sepúlveda Méndez  Matías Sepúlveda   \n",
       "4       35788           Marco Antonio Collao Ramos      Marco Collao   \n",
       "5       35838          Osvaldo Javier Bosso Torres     Osvaldo Bosso   \n",
       "6       35875       Michael Andrés Fuentes Vadulli   Michael Fuentes   \n",
       "7       35966     Roberto Andrés Cereceda Guajardo  Roberto Cereceda   \n",
       "8       36014        Joaquín Emanuel Muñoz Almarza              None   \n",
       "9       46857             Oliver Jesús Rojas Muñoz      Oliver Rojas   \n",
       "10      52233      Bastián Ignacio Tapia Sepúlveda              None   \n",
       "11      54378      Gonzalo Esteban Alvarez Morales              None   \n",
       "12      54379       Tomás Alejandro Ahumada Oteíza              None   \n",
       "13     195474                        Esteban Matus              None   \n",
       "14     195475      Luis Enrique Riveros Valenzuela              None   \n",
       "15     196969               Gonzalo Alejandro Ríos              None   \n",
       "16     384746     Diego Andrés Monreal Villablanca     Diego Monreal   \n",
       "17     385843               Alessandro Riep Klekoc              None   \n",
       "\n",
       "    birth_date player_gender  player_height  player_weight  jersey_number  \\\n",
       "0   1986-12-30          male          166.0           67.0             21   \n",
       "1   1990-10-16          male          167.0           68.0             32   \n",
       "2   1999-01-14          male          186.0           92.0             29   \n",
       "3   1999-03-12          male          184.0           78.0              8   \n",
       "4   1998-04-11          male          173.0           71.0             18   \n",
       "5   1993-10-14          male          177.0           64.0              4   \n",
       "6   1998-05-27          male          177.0           79.0             10   \n",
       "7   1984-10-10          male          173.0           71.0             28   \n",
       "8   1990-12-28          male          181.0           82.0              1   \n",
       "9   2000-06-11          male          180.0           72.0             16   \n",
       "10  2002-08-09          male          182.0           78.0              6   \n",
       "11  1997-01-20          male          170.0           68.0             14   \n",
       "12  2001-06-24          male          181.0           74.0             12   \n",
       "13  2002-02-12          male          170.0           65.0             17   \n",
       "14  1998-03-24          male          178.0           72.0             11   \n",
       "15  1999-01-27          male          172.0           66.0             19   \n",
       "16  2002-09-05          male          185.0           73.0             27   \n",
       "17  2003-07-03          male          174.0           68.0             22   \n",
       "\n",
       "      country                                          positions  \\\n",
       "0       Chile  [{'position_id': 10, 'position': 'Center Defen...   \n",
       "1   Argentina  [{'position_id': 12, 'position': 'Right Midfie...   \n",
       "2       Chile  [{'position_id': 5, 'position': 'Left Center B...   \n",
       "3       Chile  [{'position_id': 15, 'position': 'Left Center ...   \n",
       "4       Chile  [{'position_id': 11, 'position': 'Left Defensi...   \n",
       "5       Chile  [{'position_id': 4, 'position': 'Center Back',...   \n",
       "6       Chile  [{'position_id': 24, 'position': 'Left Center ...   \n",
       "7       Chile  [{'position_id': 8, 'position': 'Left Wing Bac...   \n",
       "8       Chile  [{'position_id': 1, 'position': 'Goalkeeper', ...   \n",
       "9       Chile  [{'position_id': 7, 'position': 'Right Wing Ba...   \n",
       "10      Chile  [{'position_id': 3, 'position': 'Right Center ...   \n",
       "11      Chile  [{'position_id': 16, 'position': 'Left Midfiel...   \n",
       "12      Chile                                                 []   \n",
       "13      Chile                                                 []   \n",
       "14   Paraguay  [{'position_id': 22, 'position': 'Right Center...   \n",
       "15  Argentina  [{'position_id': 13, 'position': 'Right Center...   \n",
       "16      Chile                                                 []   \n",
       "17      Chile  [{'position_id': 22, 'position': 'Right Center...   \n",
       "\n",
       "                                                stats  \\\n",
       "0   {'own_goals': 0, 'goals': 0, 'assists': 0, 'pe...   \n",
       "1   {'own_goals': 0, 'goals': 0, 'assists': 0, 'pe...   \n",
       "2   {'own_goals': 0, 'goals': 0, 'assists': 0, 'pe...   \n",
       "3   {'own_goals': 0, 'goals': 0, 'assists': 0, 'pe...   \n",
       "4   {'own_goals': 0, 'goals': 0, 'assists': 0, 'pe...   \n",
       "5   {'own_goals': 0, 'goals': 0, 'assists': 0, 'pe...   \n",
       "6   {'own_goals': 0, 'goals': 0, 'assists': 0, 'pe...   \n",
       "7   {'own_goals': 0, 'goals': 0, 'assists': 0, 'pe...   \n",
       "8   {'own_goals': 0, 'goals': 0, 'assists': 0, 'pe...   \n",
       "9   {'own_goals': 0, 'goals': 1, 'assists': 0, 'pe...   \n",
       "10  {'own_goals': 0, 'goals': 0, 'assists': 0, 'pe...   \n",
       "11  {'own_goals': 0, 'goals': 0, 'assists': 0, 'pe...   \n",
       "12                                                 []   \n",
       "13                                                 []   \n",
       "14  {'own_goals': 0, 'goals': 0, 'assists': 0, 'pe...   \n",
       "15  {'own_goals': 0, 'goals': 0, 'assists': 1, 'pe...   \n",
       "16                                                 []   \n",
       "17  {'own_goals': 0, 'goals': 0, 'assists': 0, 'pe...   \n",
       "\n",
       "                                           formations  \\\n",
       "0   [{'period': 1, 'timestamp': '00:00:00.000', 'r...   \n",
       "1   [{'period': 1, 'timestamp': '00:00:00.000', 'r...   \n",
       "2   [{'period': 1, 'timestamp': '00:00:00.000', 'r...   \n",
       "3   [{'period': 1, 'timestamp': '00:00:00.000', 'r...   \n",
       "4   [{'period': 1, 'timestamp': '00:00:00.000', 'r...   \n",
       "5   [{'period': 1, 'timestamp': '00:00:00.000', 'r...   \n",
       "6   [{'period': 1, 'timestamp': '00:00:00.000', 'r...   \n",
       "7   [{'period': 1, 'timestamp': '00:00:00.000', 'r...   \n",
       "8   [{'period': 1, 'timestamp': '00:00:00.000', 'r...   \n",
       "9   [{'period': 1, 'timestamp': '00:00:00.000', 'r...   \n",
       "10  [{'period': 1, 'timestamp': '00:00:00.000', 'r...   \n",
       "11  [{'period': 1, 'timestamp': '00:00:00.000', 'r...   \n",
       "12  [{'period': 1, 'timestamp': '00:00:00.000', 'r...   \n",
       "13  [{'period': 1, 'timestamp': '00:00:00.000', 'r...   \n",
       "14  [{'period': 1, 'timestamp': '00:00:00.000', 'r...   \n",
       "15  [{'period': 1, 'timestamp': '00:00:00.000', 'r...   \n",
       "16  [{'period': 1, 'timestamp': '00:00:00.000', 'r...   \n",
       "17  [{'period': 1, 'timestamp': '00:00:00.000', 'r...   \n",
       "\n",
       "                                               events  \n",
       "0   [{'period': 1, 'timestamp': '00:00:00.000', 't...  \n",
       "1   [{'period': 1, 'timestamp': '00:00:00.000', 't...  \n",
       "2   [{'period': 1, 'timestamp': '00:00:00.000', 't...  \n",
       "3   [{'period': 1, 'timestamp': '00:00:00.000', 't...  \n",
       "4   [{'period': 1, 'timestamp': '00:00:00.000', 't...  \n",
       "5   [{'period': 1, 'timestamp': '00:00:00.000', 't...  \n",
       "6   [{'period': 1, 'timestamp': '00:00:00.000', 't...  \n",
       "7   [{'period': 1, 'timestamp': '00:00:00.000', 't...  \n",
       "8   [{'period': 1, 'timestamp': '00:00:00.000', 't...  \n",
       "9   [{'period': 1, 'timestamp': '00:00:00.000', 't...  \n",
       "10  [{'period': 1, 'timestamp': '00:00:00.000', 't...  \n",
       "11  [{'period': 1, 'timestamp': '00:00:00.000', 't...  \n",
       "12  [{'period': 1, 'timestamp': '00:00:00.000', 't...  \n",
       "13  [{'period': 1, 'timestamp': '00:00:00.000', 't...  \n",
       "14  [{'period': 1, 'timestamp': '00:00:00.000', 't...  \n",
       "15  [{'period': 1, 'timestamp': '00:00:00.000', 't...  \n",
       "16  [{'period': 1, 'timestamp': '00:00:00.000', 't...  \n",
       "17  [{'period': 1, 'timestamp': '00:00:00.000', 't...  "
      ]
     },
     "execution_count": 70,
     "metadata": {},
     "output_type": "execute_result"
    }
   ],
   "source": [
    "# FORMATO CORRECTO QUE SE DESCARGA DESDE LIBRERIA STATSBOMB\n",
    "\n",
    "sb.lineups(match_id = 3871997, creds=creds)['Audax Italiano']"
   ]
  },
  {
   "cell_type": "code",
   "execution_count": 71,
   "metadata": {
    "id": "UePc08A8M0ei"
   },
   "outputs": [],
   "source": [
    "lineups.to_csv('C:/Users/lucio/OneDrive/Desktop/AUDAX ITALIANO/outs_data/sb_lineups.csv', encoding='utf-8', index=False)"
   ]
  }
 ],
 "metadata": {
  "colab": {
   "authorship_tag": "ABX9TyOvvqnzRTiJefQMgxiJ15Vt",
   "mount_file_id": "1x2sLz38HYgvlwGPBB_RogdLkU9NCPFHh",
   "provenance": []
  },
  "kernelspec": {
   "display_name": "Python 3",
   "name": "python3"
  },
  "language_info": {
   "codemirror_mode": {
    "name": "ipython",
    "version": 3
   },
   "file_extension": ".py",
   "mimetype": "text/x-python",
   "name": "python",
   "nbconvert_exporter": "python",
   "pygments_lexer": "ipython3",
   "version": "3.11.9"
  }
 },
 "nbformat": 4,
 "nbformat_minor": 0
}
